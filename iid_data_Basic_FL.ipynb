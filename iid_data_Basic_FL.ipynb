{
  "metadata": {
    "kernelspec": {
      "language": "python",
      "display_name": "Python 3",
      "name": "python3"
    },
    "language_info": {
      "pygments_lexer": "ipython3",
      "nbconvert_exporter": "python",
      "version": "3.6.4",
      "file_extension": ".py",
      "codemirror_mode": {
        "name": "ipython",
        "version": 3
      },
      "name": "python",
      "mimetype": "text/x-python"
    },
    "colab": {
      "provenance": [],
      "include_colab_link": true
    }
  },
  "nbformat_minor": 0,
  "nbformat": 4,
  "cells": [
    {
      "cell_type": "markdown",
      "metadata": {
        "id": "view-in-github",
        "colab_type": "text"
      },
      "source": [
        "<a href=\"https://colab.research.google.com/github/Disha1203/Privacy-preserving-FL/blob/main/iid_data_Basic_FL.ipynb\" target=\"_parent\"><img src=\"https://colab.research.google.com/assets/colab-badge.svg\" alt=\"Open In Colab\"/></a>"
      ]
    },
    {
      "cell_type": "code",
      "source": [
        "!pip uninstall -y ray flwr\n",
        "!pip install -U \"ray==2.31.0\" \"flwr[simulation]==1.12.0\""
      ],
      "metadata": {
        "id": "1n_jIsUwfI7e",
        "colab": {
          "base_uri": "https://localhost:8080/",
          "height": 1000
        },
        "outputId": "4c5cf91f-8ce2-443e-a6f8-2893dbae68a8"
      },
      "execution_count": null,
      "outputs": [
        {
          "output_type": "stream",
          "name": "stdout",
          "text": [
            "Found existing installation: ray 2.31.0\n",
            "Uninstalling ray-2.31.0:\n",
            "  Successfully uninstalled ray-2.31.0\n",
            "Found existing installation: flwr 1.12.0\n",
            "Uninstalling flwr-1.12.0:\n",
            "  Successfully uninstalled flwr-1.12.0\n",
            "Collecting ray==2.31.0\n",
            "  Using cached ray-2.31.0-cp312-cp312-manylinux2014_x86_64.whl.metadata (13 kB)\n",
            "Collecting flwr==1.12.0 (from flwr[simulation]==1.12.0)\n",
            "  Using cached flwr-1.12.0-py3-none-any.whl.metadata (15 kB)\n",
            "Requirement already satisfied: click>=7.0 in /usr/local/lib/python3.12/dist-packages (from ray==2.31.0) (8.3.0)\n",
            "Requirement already satisfied: filelock in /usr/local/lib/python3.12/dist-packages (from ray==2.31.0) (3.20.0)\n",
            "Requirement already satisfied: jsonschema in /usr/local/lib/python3.12/dist-packages (from ray==2.31.0) (4.25.1)\n",
            "Requirement already satisfied: msgpack<2.0.0,>=1.0.0 in /usr/local/lib/python3.12/dist-packages (from ray==2.31.0) (1.1.2)\n",
            "Requirement already satisfied: packaging in /usr/local/lib/python3.12/dist-packages (from ray==2.31.0) (25.0)\n",
            "Requirement already satisfied: protobuf!=3.19.5,>=3.15.3 in /usr/local/lib/python3.12/dist-packages (from ray==2.31.0) (4.25.8)\n",
            "Requirement already satisfied: pyyaml in /usr/local/lib/python3.12/dist-packages (from ray==2.31.0) (6.0.3)\n",
            "Requirement already satisfied: aiosignal in /usr/local/lib/python3.12/dist-packages (from ray==2.31.0) (1.4.0)\n",
            "Requirement already satisfied: frozenlist in /usr/local/lib/python3.12/dist-packages (from ray==2.31.0) (1.8.0)\n",
            "Requirement already satisfied: requests in /usr/local/lib/python3.12/dist-packages (from ray==2.31.0) (2.32.4)\n",
            "Requirement already satisfied: cryptography<43.0.0,>=42.0.4 in /usr/local/lib/python3.12/dist-packages (from flwr==1.12.0->flwr[simulation]==1.12.0) (42.0.8)\n",
            "Requirement already satisfied: grpcio!=1.64.2,!=1.65.1,!=1.65.2,!=1.65.4,!=1.65.5,!=1.66.0,!=1.66.1,<2.0.0,>=1.60.0 in /usr/local/lib/python3.12/dist-packages (from flwr==1.12.0->flwr[simulation]==1.12.0) (1.75.1)\n",
            "Requirement already satisfied: iterators<0.0.3,>=0.0.2 in /usr/local/lib/python3.12/dist-packages (from flwr==1.12.0->flwr[simulation]==1.12.0) (0.0.2)\n",
            "Requirement already satisfied: numpy<2.0.0,>=1.21.0 in /usr/local/lib/python3.12/dist-packages (from flwr==1.12.0->flwr[simulation]==1.12.0) (1.26.4)\n",
            "Requirement already satisfied: pathspec<0.13.0,>=0.12.1 in /usr/local/lib/python3.12/dist-packages (from flwr==1.12.0->flwr[simulation]==1.12.0) (0.12.1)\n",
            "Requirement already satisfied: pycryptodome<4.0.0,>=3.18.0 in /usr/local/lib/python3.12/dist-packages (from flwr==1.12.0->flwr[simulation]==1.12.0) (3.23.0)\n",
            "Requirement already satisfied: tomli<3.0.0,>=2.0.1 in /usr/local/lib/python3.12/dist-packages (from flwr==1.12.0->flwr[simulation]==1.12.0) (2.3.0)\n",
            "Requirement already satisfied: tomli-w<2.0.0,>=1.0.0 in /usr/local/lib/python3.12/dist-packages (from flwr==1.12.0->flwr[simulation]==1.12.0) (1.2.0)\n",
            "Requirement already satisfied: typer<0.13.0,>=0.12.5 in /usr/local/lib/python3.12/dist-packages (from flwr==1.12.0->flwr[simulation]==1.12.0) (0.12.5)\n",
            "Requirement already satisfied: cffi>=1.12 in /usr/local/lib/python3.12/dist-packages (from cryptography<43.0.0,>=42.0.4->flwr==1.12.0->flwr[simulation]==1.12.0) (2.0.0)\n",
            "Requirement already satisfied: typing-extensions~=4.12 in /usr/local/lib/python3.12/dist-packages (from grpcio!=1.64.2,!=1.65.1,!=1.65.2,!=1.65.4,!=1.65.5,!=1.66.0,!=1.66.1,<2.0.0,>=1.60.0->flwr==1.12.0->flwr[simulation]==1.12.0) (4.15.0)\n",
            "Requirement already satisfied: shellingham>=1.3.0 in /usr/local/lib/python3.12/dist-packages (from typer<0.13.0,>=0.12.5->flwr==1.12.0->flwr[simulation]==1.12.0) (1.5.4)\n",
            "Requirement already satisfied: rich>=10.11.0 in /usr/local/lib/python3.12/dist-packages (from typer<0.13.0,>=0.12.5->flwr==1.12.0->flwr[simulation]==1.12.0) (13.9.4)\n",
            "Requirement already satisfied: attrs>=22.2.0 in /usr/local/lib/python3.12/dist-packages (from jsonschema->ray==2.31.0) (25.4.0)\n",
            "Requirement already satisfied: jsonschema-specifications>=2023.03.6 in /usr/local/lib/python3.12/dist-packages (from jsonschema->ray==2.31.0) (2025.9.1)\n",
            "Requirement already satisfied: referencing>=0.28.4 in /usr/local/lib/python3.12/dist-packages (from jsonschema->ray==2.31.0) (0.37.0)\n",
            "Requirement already satisfied: rpds-py>=0.7.1 in /usr/local/lib/python3.12/dist-packages (from jsonschema->ray==2.31.0) (0.27.1)\n",
            "Requirement already satisfied: charset_normalizer<4,>=2 in /usr/local/lib/python3.12/dist-packages (from requests->ray==2.31.0) (3.4.4)\n",
            "Requirement already satisfied: idna<4,>=2.5 in /usr/local/lib/python3.12/dist-packages (from requests->ray==2.31.0) (3.11)\n",
            "Requirement already satisfied: urllib3<3,>=1.21.1 in /usr/local/lib/python3.12/dist-packages (from requests->ray==2.31.0) (2.5.0)\n",
            "Requirement already satisfied: certifi>=2017.4.17 in /usr/local/lib/python3.12/dist-packages (from requests->ray==2.31.0) (2025.10.5)\n",
            "Requirement already satisfied: pycparser in /usr/local/lib/python3.12/dist-packages (from cffi>=1.12->cryptography<43.0.0,>=42.0.4->flwr==1.12.0->flwr[simulation]==1.12.0) (2.23)\n",
            "Requirement already satisfied: markdown-it-py>=2.2.0 in /usr/local/lib/python3.12/dist-packages (from rich>=10.11.0->typer<0.13.0,>=0.12.5->flwr==1.12.0->flwr[simulation]==1.12.0) (4.0.0)\n",
            "Requirement already satisfied: pygments<3.0.0,>=2.13.0 in /usr/local/lib/python3.12/dist-packages (from rich>=10.11.0->typer<0.13.0,>=0.12.5->flwr==1.12.0->flwr[simulation]==1.12.0) (2.19.2)\n",
            "Requirement already satisfied: mdurl~=0.1 in /usr/local/lib/python3.12/dist-packages (from markdown-it-py>=2.2.0->rich>=10.11.0->typer<0.13.0,>=0.12.5->flwr==1.12.0->flwr[simulation]==1.12.0) (0.1.2)\n",
            "Using cached ray-2.31.0-cp312-cp312-manylinux2014_x86_64.whl (66.7 MB)\n",
            "Using cached flwr-1.12.0-py3-none-any.whl (478 kB)\n",
            "Installing collected packages: ray, flwr\n",
            "Successfully installed flwr-1.12.0 ray-2.31.0\n"
          ]
        },
        {
          "output_type": "display_data",
          "data": {
            "application/vnd.colab-display-data+json": {
              "pip_warning": {
                "packages": [
                  "flwr",
                  "ray"
                ]
              },
              "id": "513cfbb4d7c149959bd77408183d10a8"
            }
          },
          "metadata": {}
        }
      ]
    },
    {
      "cell_type": "code",
      "source": [
        "import os, random, glob, time, math\n",
        "from pathlib import Path\n",
        "import numpy as np\n",
        "import torch\n",
        "import torch.nn as nn\n",
        "import torch.nn.functional as F\n",
        "import torch.optim as optim\n",
        "from torch.utils.data import DataLoader, random_split, TensorDataset\n",
        "import torchvision\n",
        "import torchvision.transforms as transforms\n",
        "import matplotlib.pyplot as plt\n",
        "import flwr as fl\n",
        "from flwr.common import parameters_to_ndarrays\n",
        "from sklearn.metrics import roc_auc_score, accuracy_score"
      ],
      "metadata": {
        "id": "kt30fv-rfIZL"
      },
      "execution_count": 17,
      "outputs": []
    },
    {
      "cell_type": "code",
      "source": [
        "# Reproducibility\n",
        "SEED = 42\n",
        "random.seed(SEED)\n",
        "np.random.seed(SEED)\n",
        "torch.manual_seed(SEED)\n",
        "if torch.cuda.is_available():\n",
        "    torch.cuda.manual_seed_all(SEED)\n",
        "\n",
        "# Directories\n",
        "LOG_DIR = \"logs\"\n",
        "os.makedirs(LOG_DIR, exist_ok=True)\n",
        "\n",
        "# Device\n",
        "DEVICE = \"cuda\" if torch.cuda.is_available() else \"cpu\"\n",
        "print(\"Device:\", DEVICE)\n",
        "\n",
        "# FL hyperparameters\n",
        "NUM_CLIENTS = 4\n",
        "NUM_ROUNDS = 3\n",
        "EPOCHS_PER_CLIENT = 1\n",
        "BATCH_SIZE = 32"
      ],
      "metadata": {
        "colab": {
          "base_uri": "https://localhost:8080/"
        },
        "id": "6HUekmm4ghhg",
        "outputId": "b4904466-6937-41b7-9cf4-f88f8129b5ba"
      },
      "execution_count": 18,
      "outputs": [
        {
          "output_type": "stream",
          "name": "stdout",
          "text": [
            "Device: cpu\n"
          ]
        }
      ]
    },
    {
      "cell_type": "code",
      "source": [
        "import pandas as pd\n",
        "from sklearn.preprocessing import StandardScaler\n",
        "from sklearn.impute import SimpleImputer\n",
        "import torch\n",
        "from torch.utils.data import DataLoader, random_split, TensorDataset\n",
        "import numpy as np # Import numpy\n",
        "\n",
        "# Load the combined dataset\n",
        "combined = pd.read_csv('/content/Dataset.csv')\n",
        "\n",
        "# Splitting the dataset into test and train according to patient_id\n",
        "rows_to_drop_train = combined.loc[combined['Patient_ID'].apply(lambda x: len(str(x)) == 6)]\n",
        "df_train = combined.drop(rows_to_drop_train.index).copy() # Use .copy() to avoid SettingWithCopyWarning\n",
        "\n",
        "rows_to_drop_test = combined.loc[combined['Patient_ID'].apply(lambda x: len(str(x)) != 6)]\n",
        "df_test = combined.drop(rows_to_drop_test.index).copy() # Use .copy() to avoid SettingWithCopyWarning\n",
        "\n",
        "\n",
        "# Remove rows with NaN values in the target variable for both train and test sets\n",
        "df_train.dropna(subset=['SepsisLabel'], inplace=True)\n",
        "df_test.dropna(subset=['SepsisLabel'], inplace=True)\n",
        "\n",
        "# Assume 'SepsisLabel' is the target\n",
        "X_train = df_train.drop(columns=['SepsisLabel', 'Patient_ID'])  # remove ID\n",
        "y_train = df_train['SepsisLabel'].values\n",
        "\n",
        "X_test = df_test.drop(columns=['SepsisLabel', 'Patient_ID'])  # remove ID\n",
        "y_test = df_test['SepsisLabel'].values\n",
        "\n",
        "\n",
        "# Impute missing values with the mean of each column\n",
        "imputer = SimpleImputer(strategy='mean')\n",
        "X_train = imputer.fit_transform(X_train)\n",
        "# Use the same imputer fitted on the training data to transform the test data\n",
        "X_test = imputer.transform(X_test)\n",
        "\n",
        "\n",
        "# Optional: standardize features\n",
        "scaler = StandardScaler()\n",
        "X_train = scaler.fit_transform(X_train)\n",
        "# Use the same scaler fitted on the training data to transform the test data\n",
        "X_test = scaler.transform(X_test)\n",
        "\n",
        "\n",
        "# Convert to torch datasets\n",
        "train_dataset = TensorDataset(torch.tensor(X_train, dtype=torch.float32),\n",
        "                              torch.tensor(y_train, dtype=torch.long))\n",
        "test_dataset = TensorDataset(torch.tensor(X_test, dtype=torch.float32),\n",
        "                             torch.tensor(y_test, dtype=torch.long))\n",
        "\n",
        "print(\"Shape of X_train:\", X_train.shape)\n",
        "print(\"Shape of X_test:\", X_test.shape)\n",
        "print(\"Shape of y_train:\", y_train.shape)\n",
        "print(\"Shape of y_test:\", y_test.shape)"
      ],
      "metadata": {
        "colab": {
          "base_uri": "https://localhost:8080/"
        },
        "id": "PuUGnVWVfBKN",
        "outputId": "74f10e4c-7007-469c-d4f8-b706ec15438e"
      },
      "execution_count": 19,
      "outputs": [
        {
          "output_type": "stream",
          "name": "stdout",
          "text": [
            "Shape of X_train: (63497, 41)\n",
            "Shape of X_test: (52161, 41)\n",
            "Shape of y_train: (63497,)\n",
            "Shape of y_test: (52161,)\n"
          ]
        },
        {
          "output_type": "stream",
          "name": "stderr",
          "text": [
            "/usr/local/lib/python3.12/dist-packages/sklearn/impute/_base.py:635: UserWarning: Skipping features without any observed values: ['EtCO2']. At least one non-missing value is needed for imputation with strategy='mean'.\n",
            "  warnings.warn(\n",
            "/usr/local/lib/python3.12/dist-packages/sklearn/impute/_base.py:635: UserWarning: Skipping features without any observed values: ['EtCO2']. At least one non-missing value is needed for imputation with strategy='mean'.\n",
            "  warnings.warn(\n",
            "/usr/local/lib/python3.12/dist-packages/jupyter_client/session.py:203: DeprecationWarning: datetime.datetime.utcnow() is deprecated and scheduled for removal in a future version. Use timezone-aware objects to represent datetimes in UTC: datetime.datetime.now(datetime.UTC).\n",
            "  return datetime.utcnow().replace(tzinfo=utc)\n"
          ]
        }
      ]
    },
    {
      "cell_type": "code",
      "source": [
        "\n",
        "client_size = len(train_dataset) // NUM_CLIENTS\n",
        "lengths = [client_size]*(NUM_CLIENTS-1)\n",
        "lengths.append(len(train_dataset) - sum(lengths))\n",
        "client_datasets = random_split(train_dataset, lengths)\n",
        "client_loaders = [DataLoader(ds, batch_size=32, shuffle=True) for ds in client_datasets]\n",
        "test_loader = DataLoader(test_dataset, batch_size=32, shuffle=False)\n"
      ],
      "metadata": {
        "id": "hn5xm7DbfLsU"
      },
      "execution_count": 20,
      "outputs": []
    },
    {
      "cell_type": "code",
      "source": [
        "\n",
        "\n",
        "NUM_FEATURES = X_train.shape[1]\n",
        "NUM_CLASSES = 2\n",
        "\n",
        "class SepsisNet(nn.Module):\n",
        "    def __init__(self, num_features=NUM_FEATURES, num_classes=NUM_CLASSES):\n",
        "        super().__init__()\n",
        "        self.fc1 = nn.Linear(num_features, 64)\n",
        "        self.fc2 = nn.Linear(64, 32)\n",
        "        self.fc3 = nn.Linear(32, num_classes)\n",
        "    def forward(self, x):\n",
        "        x = F.relu(self.fc1(x))\n",
        "        x = F.relu(self.fc2(x))\n",
        "        return self.fc3(x)\n"
      ],
      "metadata": {
        "id": "c5qkpGkufO6E"
      },
      "execution_count": 21,
      "outputs": []
    },
    {
      "cell_type": "code",
      "source": [
        "def dump_outputs(model, loader, path_prefix):\n",
        "    \"\"\"Save softmax probs and labels for all examples in loader to path_prefix.npz\"\"\"\n",
        "    model.eval()\n",
        "    all_probs = []\n",
        "    all_labels = []\n",
        "    with torch.no_grad():\n",
        "        for xb, yb in loader:\n",
        "            xb = xb.to(DEVICE)\n",
        "            out = model(xb)\n",
        "            probs = F.softmax(out, dim=1).cpu().numpy()\n",
        "            all_probs.append(probs)\n",
        "            all_labels.append(yb.numpy())\n",
        "    if all_probs:\n",
        "        probs = np.vstack(all_probs)\n",
        "        labels = np.concatenate(all_labels)\n",
        "    else:\n",
        "        probs = np.zeros((0, NUM_CLASSES))\n",
        "        labels = np.zeros((0,), dtype=int)\n",
        "    np.savez_compressed(f\"{path_prefix}.npz\", probs=probs, labels=labels)\n",
        "    return f\"{path_prefix}.npz\"\n"
      ],
      "metadata": {
        "id": "YerSLR07guA-"
      },
      "execution_count": 22,
      "outputs": []
    },
    {
      "cell_type": "code",
      "source": [
        "class SepsisClient(fl.client.NumPyClient):\n",
        "    def __init__(self, model, trainloader, testloader, cid):\n",
        "        self.model = model\n",
        "        self.trainloader = trainloader\n",
        "        self.testloader = testloader\n",
        "        self.cid = cid\n",
        "        self.log_prefix = os.path.join(LOG_DIR, f\"client_{cid}\")\n",
        "\n",
        "    def get_parameters(self, config):\n",
        "        return [val.cpu().numpy() for val in self.model.state_dict().values()]\n",
        "\n",
        "    def set_parameters(self, parameters):\n",
        "        state_dict = dict(zip(self.model.state_dict().keys(), [torch.tensor(p) for p in parameters]))\n",
        "        self.model.load_state_dict(state_dict, strict=True)\n",
        "\n",
        "    def fit(self, parameters, config):\n",
        "        self.set_parameters(parameters)\n",
        "        self.model.to(DEVICE)\n",
        "        self.model.train()\n",
        "        opt = torch.optim.Adam(self.model.parameters(), lr=0.001)\n",
        "        crit = nn.CrossEntropyLoss()\n",
        "        for _ in range(EPOCHS_PER_CLIENT):\n",
        "            for x,y in self.trainloader:\n",
        "                x, y = x.to(DEVICE), y.to(DEVICE)\n",
        "                opt.zero_grad()\n",
        "                loss = crit(self.model(x), y)\n",
        "                loss.backward()\n",
        "                opt.step()\n",
        "        # Dump outputs for attack evaluation (optional)\n",
        "        round_no = config.get(\"round\", 0)\n",
        "        dump_outputs(self.model, self.trainloader, os.path.join(LOG_DIR, f\"client_{self.cid}_train_outputs_round{round_no}\"))\n",
        "        dump_outputs(self.model, self.testloader, os.path.join(LOG_DIR, f\"client_{self.cid}_test_outputs_round{round_no}\"))\n",
        "        return self.get_parameters(config={}), len(self.trainloader.dataset), {}\n",
        "\n",
        "    def evaluate(self, parameters, config):\n",
        "        self.set_parameters(parameters)\n",
        "        self.model.to(DEVICE).eval()\n",
        "        crit = nn.CrossEntropyLoss()\n",
        "        total_loss, correct, total = 0.0, 0, 0\n",
        "        with torch.no_grad():\n",
        "            for x,y in self.testloader:\n",
        "                x, y = x.to(DEVICE), y.to(DEVICE)\n",
        "                out = self.model(x)\n",
        "                total_loss += crit(out, y).item()\n",
        "                pred = out.argmax(dim=1)\n",
        "                correct += (pred == y).sum().item()\n",
        "                total += y.size(0)\n",
        "        acc = correct/total\n",
        "        return total_loss/len(self.testloader), total, {\"accuracy\": acc}\n"
      ],
      "metadata": {
        "id": "jNctQ03hfRCa"
      },
      "execution_count": 23,
      "outputs": []
    },
    {
      "cell_type": "code",
      "source": [
        "class LoggingFedAvg(fl.server.strategy.FedAvg):\n",
        "    def aggregate_fit(self, rnd, results, failures):\n",
        "        aggregated = super().aggregate_fit(rnd, results, failures)\n",
        "        if aggregated is None:\n",
        "            return None\n",
        "        parameters, num_examples = aggregated\n",
        "        try:\n",
        "            ndarrays = parameters_to_ndarrays(parameters)\n",
        "            model = SepsisNet()\n",
        "            keys = list(model.state_dict().keys())\n",
        "            state_dict = {k: torch.tensor(p) for k, p in zip(keys, ndarrays)}\n",
        "            save_path = os.path.join(LOG_DIR, f\"global_model_round{rnd}.pth\")\n",
        "            torch.save(state_dict, save_path)\n",
        "            print(f\"Saved global model state for round {rnd} -> {save_path}\")\n",
        "        except Exception as e:\n",
        "            print(\"Warning: could not save global model state:\", e)\n",
        "        return aggregated\n"
      ],
      "metadata": {
        "id": "45X6IWPHgzG2"
      },
      "execution_count": 24,
      "outputs": []
    },
    {
      "cell_type": "code",
      "source": [
        "def client_fn(cid: str):\n",
        "    model = SepsisNet()\n",
        "    cid_int = int(cid)\n",
        "    return SepsisClient(model, client_loaders[cid_int], test_loader, cid)\n",
        "\n",
        "strategy = LoggingFedAvg()\n",
        "fl.simulation.start_simulation(\n",
        "    client_fn=client_fn,\n",
        "    num_clients=NUM_CLIENTS,\n",
        "    config=fl.server.ServerConfig(num_rounds=NUM_ROUNDS),\n",
        "    strategy=strategy,\n",
        ")\n"
      ],
      "metadata": {
        "colab": {
          "base_uri": "https://localhost:8080/"
        },
        "id": "FoeWXXzifZcm",
        "outputId": "f32b0893-b475-4cfd-c55c-9161a6310c90"
      },
      "execution_count": 25,
      "outputs": [
        {
          "output_type": "stream",
          "name": "stderr",
          "text": [
            "\u001b[92mINFO \u001b[0m:      Starting Flower simulation, config: num_rounds=3, no round_timeout\n",
            "2025-10-18 08:29:28,423\tINFO worker.py:1771 -- Started a local Ray instance.\n",
            "/usr/local/lib/python3.12/dist-packages/jupyter_client/session.py:203: DeprecationWarning: datetime.datetime.utcnow() is deprecated and scheduled for removal in a future version. Use timezone-aware objects to represent datetimes in UTC: datetime.datetime.now(datetime.UTC).\n",
            "  return datetime.utcnow().replace(tzinfo=utc)\n",
            "\u001b[92mINFO \u001b[0m:      Flower VCE: Ray initialized with resources: {'CPU': 2.0, 'object_store_memory': 3977634201.0, 'node:172.28.0.12': 1.0, 'node:__internal_head__': 1.0, 'memory': 7955268404.0}\n",
            "\u001b[92mINFO \u001b[0m:      Optimize your simulation with Flower VCE: https://flower.ai/docs/framework/how-to-run-simulations.html\n",
            "\u001b[92mINFO \u001b[0m:      No `client_resources` specified. Using minimal resources for clients.\n",
            "\u001b[92mINFO \u001b[0m:      Flower VCE: Resources for each Virtual Client: {'num_cpus': 1, 'num_gpus': 0.0}\n",
            "\u001b[92mINFO \u001b[0m:      Flower VCE: Creating VirtualClientEngineActorPool with 2 actors\n",
            "\u001b[92mINFO \u001b[0m:      [INIT]\n",
            "\u001b[92mINFO \u001b[0m:      Requesting initial parameters from one random client\n",
            "\u001b[36m(pid=3490)\u001b[0m 2025-10-18 08:29:45.755411: E external/local_xla/xla/stream_executor/cuda/cuda_fft.cc:467] Unable to register cuFFT factory: Attempting to register factory for plugin cuFFT when one has already been registered\n",
            "\u001b[36m(pid=3490)\u001b[0m WARNING: All log messages before absl::InitializeLog() is called are written to STDERR\n",
            "\u001b[36m(pid=3490)\u001b[0m E0000 00:00:1760776185.793848    3490 cuda_dnn.cc:8579] Unable to register cuDNN factory: Attempting to register factory for plugin cuDNN when one has already been registered\n",
            "\u001b[36m(pid=3490)\u001b[0m E0000 00:00:1760776185.806380    3490 cuda_blas.cc:1407] Unable to register cuBLAS factory: Attempting to register factory for plugin cuBLAS when one has already been registered\n",
            "\u001b[36m(pid=3490)\u001b[0m W0000 00:00:1760776185.836065    3490 computation_placer.cc:177] computation placer already registered. Please check linkage and avoid linking the same target more than once.\n",
            "\u001b[36m(pid=3490)\u001b[0m W0000 00:00:1760776185.836124    3490 computation_placer.cc:177] computation placer already registered. Please check linkage and avoid linking the same target more than once.\n",
            "\u001b[36m(pid=3490)\u001b[0m W0000 00:00:1760776185.836129    3490 computation_placer.cc:177] computation placer already registered. Please check linkage and avoid linking the same target more than once.\n",
            "\u001b[36m(pid=3490)\u001b[0m W0000 00:00:1760776185.836132    3490 computation_placer.cc:177] computation placer already registered. Please check linkage and avoid linking the same target more than once.\n",
            "\u001b[92mINFO \u001b[0m:      Received initial parameters from one random client\n",
            "\u001b[92mINFO \u001b[0m:      Starting evaluation of initial global parameters\n",
            "\u001b[92mINFO \u001b[0m:      Evaluation returned no results (`None`)\n",
            "\u001b[92mINFO \u001b[0m:      \n",
            "\u001b[92mINFO \u001b[0m:      [ROUND 1]\n",
            "\u001b[92mINFO \u001b[0m:      configure_fit: strategy sampled 4 clients (out of 4)\n",
            "\u001b[36m(ClientAppActor pid=3490)\u001b[0m \u001b[93mWARNING \u001b[0m:   DEPRECATED FEATURE: `client_fn` now expects a signature `def client_fn(context: Context)`.The provided `client_fn` has signature: {'cid': <Parameter \"cid: str\">}. You can import the `Context` like this: `from flwr.common import Context`\n",
            "\u001b[36m(ClientAppActor pid=3490)\u001b[0m \n",
            "\u001b[36m(ClientAppActor pid=3490)\u001b[0m             This is a deprecated feature. It will be removed\n",
            "\u001b[36m(ClientAppActor pid=3490)\u001b[0m             entirely in future versions of Flower.\n",
            "\u001b[36m(ClientAppActor pid=3490)\u001b[0m         \n",
            "\u001b[36m(ClientAppActor pid=3490)\u001b[0m \u001b[93mWARNING \u001b[0m:   Deprecation Warning: The `client_fn` function must return an instance of `Client`, but an instance of `NumpyClient` was returned. Please use `NumPyClient.to_client()` method to convert it to `Client`.\n",
            "\u001b[36m(pid=3489)\u001b[0m 2025-10-18 08:29:45.901863: E external/local_xla/xla/stream_executor/cuda/cuda_fft.cc:467] Unable to register cuFFT factory: Attempting to register factory for plugin cuFFT when one has already been registered\n",
            "\u001b[36m(pid=3489)\u001b[0m WARNING: All log messages before absl::InitializeLog() is called are written to STDERR\n",
            "\u001b[36m(pid=3489)\u001b[0m E0000 00:00:1760776185.943290    3489 cuda_dnn.cc:8579] Unable to register cuDNN factory: Attempting to register factory for plugin cuDNN when one has already been registered\n",
            "\u001b[36m(pid=3489)\u001b[0m E0000 00:00:1760776185.955936    3489 cuda_blas.cc:1407] Unable to register cuBLAS factory: Attempting to register factory for plugin cuBLAS when one has already been registered\n",
            "\u001b[36m(pid=3489)\u001b[0m W0000 00:00:1760776185.985024    3489 computation_placer.cc:177] computation placer already registered. Please check linkage and avoid linking the same target more than once.\u001b[32m [repeated 4x across cluster]\u001b[0m\n",
            "\u001b[36m(ClientAppActor pid=3490)\u001b[0m \u001b[93mWARNING \u001b[0m:   DEPRECATED FEATURE: `client_fn` now expects a signature `def client_fn(context: Context)`.The provided `client_fn` has signature: {'cid': <Parameter \"cid: str\">}. You can import the `Context` like this: `from flwr.common import Context`\n",
            "\u001b[36m(ClientAppActor pid=3490)\u001b[0m \n",
            "\u001b[36m(ClientAppActor pid=3490)\u001b[0m             This is a deprecated feature. It will be removed\n",
            "\u001b[36m(ClientAppActor pid=3490)\u001b[0m             entirely in future versions of Flower.\n",
            "\u001b[36m(ClientAppActor pid=3490)\u001b[0m         \n",
            "\u001b[36m(ClientAppActor pid=3490)\u001b[0m \u001b[93mWARNING \u001b[0m:   Deprecation Warning: The `client_fn` function must return an instance of `Client`, but an instance of `NumpyClient` was returned. Please use `NumPyClient.to_client()` method to convert it to `Client`.\n",
            "\u001b[36m(ClientAppActor pid=3489)\u001b[0m \n",
            "\u001b[36m(ClientAppActor pid=3489)\u001b[0m         \n",
            "\u001b[36m(ClientAppActor pid=3489)\u001b[0m \u001b[93mWARNING \u001b[0m:   DEPRECATED FEATURE: `client_fn` now expects a signature `def client_fn(context: Context)`.The provided `client_fn` has signature: {'cid': <Parameter \"cid: str\">}. You can import the `Context` like this: `from flwr.common import Context`\n",
            "\u001b[36m(ClientAppActor pid=3489)\u001b[0m             This is a deprecated feature. It will be removed\n",
            "\u001b[36m(ClientAppActor pid=3489)\u001b[0m             entirely in future versions of Flower.\n",
            "\u001b[36m(ClientAppActor pid=3489)\u001b[0m \u001b[93mWARNING \u001b[0m:   Deprecation Warning: The `client_fn` function must return an instance of `Client`, but an instance of `NumpyClient` was returned. Please use `NumPyClient.to_client()` method to convert it to `Client`.\n",
            "\u001b[36m(ClientAppActor pid=3490)\u001b[0m \u001b[93mWARNING \u001b[0m:   DEPRECATED FEATURE: `client_fn` now expects a signature `def client_fn(context: Context)`.The provided `client_fn` has signature: {'cid': <Parameter \"cid: str\">}. You can import the `Context` like this: `from flwr.common import Context`\n",
            "\u001b[36m(ClientAppActor pid=3490)\u001b[0m \n",
            "\u001b[36m(ClientAppActor pid=3490)\u001b[0m             This is a deprecated feature. It will be removed\n",
            "\u001b[36m(ClientAppActor pid=3490)\u001b[0m             entirely in future versions of Flower.\n",
            "\u001b[36m(ClientAppActor pid=3490)\u001b[0m         \n",
            "\u001b[36m(ClientAppActor pid=3490)\u001b[0m \u001b[93mWARNING \u001b[0m:   Deprecation Warning: The `client_fn` function must return an instance of `Client`, but an instance of `NumpyClient` was returned. Please use `NumPyClient.to_client()` method to convert it to `Client`.\n",
            "\u001b[36m(ClientAppActor pid=3490)\u001b[0m \u001b[93mWARNING \u001b[0m:   DEPRECATED FEATURE: `client_fn` now expects a signature `def client_fn(context: Context)`.The provided `client_fn` has signature: {'cid': <Parameter \"cid: str\">}. You can import the `Context` like this: `from flwr.common import Context`\n",
            "\u001b[36m(ClientAppActor pid=3490)\u001b[0m \n",
            "\u001b[36m(ClientAppActor pid=3490)\u001b[0m             This is a deprecated feature. It will be removed\n",
            "\u001b[36m(ClientAppActor pid=3490)\u001b[0m             entirely in future versions of Flower.\n",
            "\u001b[36m(ClientAppActor pid=3490)\u001b[0m         \n",
            "\u001b[36m(ClientAppActor pid=3490)\u001b[0m \u001b[93mWARNING \u001b[0m:   Deprecation Warning: The `client_fn` function must return an instance of `Client`, but an instance of `NumpyClient` was returned. Please use `NumPyClient.to_client()` method to convert it to `Client`.\n",
            "\u001b[92mINFO \u001b[0m:      aggregate_fit: received 4 results and 0 failures\n",
            "\u001b[93mWARNING \u001b[0m:   No fit_metrics_aggregation_fn provided\n",
            "\u001b[92mINFO \u001b[0m:      configure_evaluate: strategy sampled 4 clients (out of 4)\n",
            "\u001b[36m(ClientAppActor pid=3490)\u001b[0m \u001b[93mWARNING \u001b[0m:   DEPRECATED FEATURE: `client_fn` now expects a signature `def client_fn(context: Context)`.The provided `client_fn` has signature: {'cid': <Parameter \"cid: str\">}. You can import the `Context` like this: `from flwr.common import Context`\n",
            "\u001b[36m(ClientAppActor pid=3490)\u001b[0m \n",
            "\u001b[36m(ClientAppActor pid=3490)\u001b[0m             This is a deprecated feature. It will be removed\n",
            "\u001b[36m(ClientAppActor pid=3490)\u001b[0m             entirely in future versions of Flower.\n",
            "\u001b[36m(ClientAppActor pid=3490)\u001b[0m         \n",
            "\u001b[36m(ClientAppActor pid=3490)\u001b[0m \u001b[93mWARNING \u001b[0m:   Deprecation Warning: The `client_fn` function must return an instance of `Client`, but an instance of `NumpyClient` was returned. Please use `NumPyClient.to_client()` method to convert it to `Client`.\n"
          ]
        },
        {
          "output_type": "stream",
          "name": "stdout",
          "text": [
            "Saved global model state for round 1 -> logs/global_model_round1.pth\n"
          ]
        },
        {
          "output_type": "stream",
          "name": "stderr",
          "text": [
            "\u001b[36m(ClientAppActor pid=3489)\u001b[0m \n",
            "\u001b[36m(ClientAppActor pid=3489)\u001b[0m         \n",
            "\u001b[36m(ClientAppActor pid=3490)\u001b[0m \n",
            "\u001b[36m(ClientAppActor pid=3490)\u001b[0m         \n",
            "\u001b[36m(ClientAppActor pid=3489)\u001b[0m \n",
            "\u001b[36m(ClientAppActor pid=3489)\u001b[0m         \n",
            "\u001b[92mINFO \u001b[0m:      aggregate_evaluate: received 4 results and 0 failures\n",
            "\u001b[93mWARNING \u001b[0m:   No evaluate_metrics_aggregation_fn provided\n",
            "\u001b[92mINFO \u001b[0m:      \n",
            "\u001b[92mINFO \u001b[0m:      [ROUND 2]\n",
            "\u001b[92mINFO \u001b[0m:      configure_fit: strategy sampled 4 clients (out of 4)\n",
            "\u001b[36m(ClientAppActor pid=3489)\u001b[0m \n",
            "\u001b[36m(ClientAppActor pid=3489)\u001b[0m         \n",
            "\u001b[36m(ClientAppActor pid=3490)\u001b[0m \n",
            "\u001b[36m(ClientAppActor pid=3490)\u001b[0m         \n",
            "\u001b[36m(ClientAppActor pid=3490)\u001b[0m \n",
            "\u001b[36m(ClientAppActor pid=3490)\u001b[0m         \n",
            "\u001b[36m(ClientAppActor pid=3490)\u001b[0m \u001b[93mWARNING \u001b[0m:   DEPRECATED FEATURE: `client_fn` now expects a signature `def client_fn(context: Context)`.The provided `client_fn` has signature: {'cid': <Parameter \"cid: str\">}. You can import the `Context` like this: `from flwr.common import Context`\u001b[32m [repeated 6x across cluster]\u001b[0m\n",
            "\u001b[36m(ClientAppActor pid=3490)\u001b[0m             This is a deprecated feature. It will be removed\u001b[32m [repeated 6x across cluster]\u001b[0m\n",
            "\u001b[36m(ClientAppActor pid=3490)\u001b[0m             entirely in future versions of Flower.\u001b[32m [repeated 6x across cluster]\u001b[0m\n",
            "\u001b[36m(ClientAppActor pid=3490)\u001b[0m \u001b[93mWARNING \u001b[0m:   Deprecation Warning: The `client_fn` function must return an instance of `Client`, but an instance of `NumpyClient` was returned. Please use `NumPyClient.to_client()` method to convert it to `Client`.\u001b[32m [repeated 6x across cluster]\u001b[0m\n",
            "\u001b[36m(ClientAppActor pid=3489)\u001b[0m \n",
            "\u001b[36m(ClientAppActor pid=3489)\u001b[0m         \n",
            "\u001b[92mINFO \u001b[0m:      aggregate_fit: received 4 results and 0 failures\n",
            "\u001b[92mINFO \u001b[0m:      configure_evaluate: strategy sampled 4 clients (out of 4)\n"
          ]
        },
        {
          "output_type": "stream",
          "name": "stdout",
          "text": [
            "Saved global model state for round 2 -> logs/global_model_round2.pth\n"
          ]
        },
        {
          "output_type": "stream",
          "name": "stderr",
          "text": [
            "\u001b[36m(ClientAppActor pid=3489)\u001b[0m \n",
            "\u001b[36m(ClientAppActor pid=3489)\u001b[0m         \n",
            "\u001b[36m(ClientAppActor pid=3490)\u001b[0m \n",
            "\u001b[36m(ClientAppActor pid=3490)\u001b[0m         \n",
            "\u001b[36m(ClientAppActor pid=3489)\u001b[0m \n",
            "\u001b[36m(ClientAppActor pid=3489)\u001b[0m         \n",
            "\u001b[36m(ClientAppActor pid=3489)\u001b[0m \u001b[93mWARNING \u001b[0m:   DEPRECATED FEATURE: `client_fn` now expects a signature `def client_fn(context: Context)`.The provided `client_fn` has signature: {'cid': <Parameter \"cid: str\">}. You can import the `Context` like this: `from flwr.common import Context`\u001b[32m [repeated 4x across cluster]\u001b[0m\n",
            "\u001b[36m(ClientAppActor pid=3489)\u001b[0m             This is a deprecated feature. It will be removed\u001b[32m [repeated 4x across cluster]\u001b[0m\n",
            "\u001b[36m(ClientAppActor pid=3489)\u001b[0m             entirely in future versions of Flower.\u001b[32m [repeated 4x across cluster]\u001b[0m\n",
            "\u001b[36m(ClientAppActor pid=3489)\u001b[0m \u001b[93mWARNING \u001b[0m:   Deprecation Warning: The `client_fn` function must return an instance of `Client`, but an instance of `NumpyClient` was returned. Please use `NumPyClient.to_client()` method to convert it to `Client`.\u001b[32m [repeated 4x across cluster]\u001b[0m\n",
            "\u001b[36m(ClientAppActor pid=3490)\u001b[0m \n",
            "\u001b[36m(ClientAppActor pid=3490)\u001b[0m         \n",
            "\u001b[92mINFO \u001b[0m:      aggregate_evaluate: received 4 results and 0 failures\n",
            "\u001b[92mINFO \u001b[0m:      \n",
            "\u001b[92mINFO \u001b[0m:      [ROUND 3]\n",
            "\u001b[92mINFO \u001b[0m:      configure_fit: strategy sampled 4 clients (out of 4)\n",
            "\u001b[36m(ClientAppActor pid=3490)\u001b[0m \n",
            "\u001b[36m(ClientAppActor pid=3490)\u001b[0m         \n",
            "\u001b[36m(ClientAppActor pid=3489)\u001b[0m \n",
            "\u001b[36m(ClientAppActor pid=3489)\u001b[0m         \n",
            "\u001b[36m(ClientAppActor pid=3490)\u001b[0m \n",
            "\u001b[36m(ClientAppActor pid=3490)\u001b[0m         \n",
            "\u001b[36m(ClientAppActor pid=3490)\u001b[0m \u001b[93mWARNING \u001b[0m:   DEPRECATED FEATURE: `client_fn` now expects a signature `def client_fn(context: Context)`.The provided `client_fn` has signature: {'cid': <Parameter \"cid: str\">}. You can import the `Context` like this: `from flwr.common import Context`\u001b[32m [repeated 4x across cluster]\u001b[0m\n",
            "\u001b[36m(ClientAppActor pid=3490)\u001b[0m             This is a deprecated feature. It will be removed\u001b[32m [repeated 4x across cluster]\u001b[0m\n",
            "\u001b[36m(ClientAppActor pid=3490)\u001b[0m             entirely in future versions of Flower.\u001b[32m [repeated 4x across cluster]\u001b[0m\n",
            "\u001b[36m(ClientAppActor pid=3490)\u001b[0m \u001b[93mWARNING \u001b[0m:   Deprecation Warning: The `client_fn` function must return an instance of `Client`, but an instance of `NumpyClient` was returned. Please use `NumPyClient.to_client()` method to convert it to `Client`.\u001b[32m [repeated 4x across cluster]\u001b[0m\n",
            "\u001b[36m(ClientAppActor pid=3489)\u001b[0m \n",
            "\u001b[36m(ClientAppActor pid=3489)\u001b[0m         \n",
            "\u001b[92mINFO \u001b[0m:      aggregate_fit: received 4 results and 0 failures\n",
            "\u001b[92mINFO \u001b[0m:      configure_evaluate: strategy sampled 4 clients (out of 4)\n"
          ]
        },
        {
          "output_type": "stream",
          "name": "stdout",
          "text": [
            "Saved global model state for round 3 -> logs/global_model_round3.pth\n"
          ]
        },
        {
          "output_type": "stream",
          "name": "stderr",
          "text": [
            "\u001b[36m(ClientAppActor pid=3489)\u001b[0m \n",
            "\u001b[36m(ClientAppActor pid=3489)\u001b[0m         \n",
            "\u001b[36m(ClientAppActor pid=3489)\u001b[0m \u001b[93mWARNING \u001b[0m:   DEPRECATED FEATURE: `client_fn` now expects a signature `def client_fn(context: Context)`.The provided `client_fn` has signature: {'cid': <Parameter \"cid: str\">}. You can import the `Context` like this: `from flwr.common import Context`\u001b[32m [repeated 2x across cluster]\u001b[0m\n",
            "\u001b[36m(ClientAppActor pid=3489)\u001b[0m             This is a deprecated feature. It will be removed\u001b[32m [repeated 2x across cluster]\u001b[0m\n",
            "\u001b[36m(ClientAppActor pid=3489)\u001b[0m             entirely in future versions of Flower.\u001b[32m [repeated 2x across cluster]\u001b[0m\n",
            "\u001b[36m(ClientAppActor pid=3489)\u001b[0m \u001b[93mWARNING \u001b[0m:   Deprecation Warning: The `client_fn` function must return an instance of `Client`, but an instance of `NumpyClient` was returned. Please use `NumPyClient.to_client()` method to convert it to `Client`.\u001b[32m [repeated 2x across cluster]\u001b[0m\n",
            "\u001b[36m(ClientAppActor pid=3490)\u001b[0m \n",
            "\u001b[36m(ClientAppActor pid=3490)\u001b[0m         \n",
            "\u001b[36m(ClientAppActor pid=3489)\u001b[0m \n",
            "\u001b[36m(ClientAppActor pid=3489)\u001b[0m         \n",
            "\u001b[36m(ClientAppActor pid=3490)\u001b[0m \n",
            "\u001b[36m(ClientAppActor pid=3490)\u001b[0m         \n",
            "\u001b[92mINFO \u001b[0m:      aggregate_evaluate: received 4 results and 0 failures\n",
            "\u001b[92mINFO \u001b[0m:      \n",
            "\u001b[92mINFO \u001b[0m:      [SUMMARY]\n",
            "\u001b[92mINFO \u001b[0m:      Run finished 3 round(s) in 45.93s\n",
            "\u001b[92mINFO \u001b[0m:      \tHistory (loss, distributed):\n",
            "\u001b[92mINFO \u001b[0m:      \t\tround 1: 0.09949585419032987\n",
            "\u001b[92mINFO \u001b[0m:      \t\tround 2: 0.09144954496900505\n",
            "\u001b[92mINFO \u001b[0m:      \t\tround 3: 0.08999194305928371\n",
            "\u001b[92mINFO \u001b[0m:      \n"
          ]
        },
        {
          "output_type": "execute_result",
          "data": {
            "text/plain": [
              "History (loss, distributed):\n",
              "\tround 1: 0.09949585419032987\n",
              "\tround 2: 0.09144954496900505\n",
              "\tround 3: 0.08999194305928371"
            ]
          },
          "metadata": {},
          "execution_count": 25
        },
        {
          "output_type": "stream",
          "name": "stderr",
          "text": [
            "/usr/local/lib/python3.12/dist-packages/jupyter_client/session.py:203: DeprecationWarning: datetime.datetime.utcnow() is deprecated and scheduled for removal in a future version. Use timezone-aware objects to represent datetimes in UTC: datetime.datetime.now(datetime.UTC).\n",
            "  return datetime.utcnow().replace(tzinfo=utc)\n"
          ]
        }
      ]
    },
    {
      "cell_type": "code",
      "metadata": {
        "colab": {
          "base_uri": "https://localhost:8080/"
        },
        "id": "fc7fb687",
        "outputId": "cc5f3df5-a144-42c9-faac-017bb13bf6d5"
      },
      "source": [
        "# Load the final global model state\n",
        "final_model_path = os.path.join(LOG_DIR, f\"global_model_round{NUM_ROUNDS}.pth\")\n",
        "final_model_state_dict = torch.load(final_model_path)\n",
        "\n",
        "# Instantiate the model and load the state dictionary\n",
        "final_global_model = SepsisNet()\n",
        "final_global_model.load_state_dict(final_model_state_dict)\n",
        "\n",
        "# Instantiate a dummy SepsisClient to use its evaluate method\n",
        "# We only need the evaluate method, so train_loader is not used here.\n",
        "dummy_client = SepsisClient(final_global_model, client_loaders[0], test_loader, cid=\"dummy\")\n",
        "\n",
        "# Evaluate the final global model\n",
        "loss, num_examples, metrics = dummy_client.evaluate(\n",
        "    dummy_client.get_parameters({}),  # Get parameters from the loaded model\n",
        "    {} # Empty config\n",
        ")\n",
        "\n",
        "print(f\"Evaluation loss on test set: {loss}\")\n",
        "print(f\"Evaluation accuracy on test set: {metrics['accuracy']}\")"
      ],
      "execution_count": 26,
      "outputs": [
        {
          "output_type": "stream",
          "name": "stdout",
          "text": [
            "Evaluation loss on test set: 0.08999194305928371\n",
            "Evaluation accuracy on test set: 0.9802342746496424\n"
          ]
        }
      ]
    },
    {
      "cell_type": "code",
      "source": [
        "from sklearn.metrics import classification_report, roc_curve, auc\n",
        "import matplotlib.pyplot as plt\n",
        "import numpy as np\n",
        "import torch\n",
        "\n",
        "# Ensure the model is on the correct device and in evaluation mode\n",
        "final_global_model.to(DEVICE).eval()\n",
        "\n",
        "# Pre-allocate arrays for results\n",
        "num_test_samples = len(test_loader.dataset)\n",
        "all_labels = np.zeros(num_test_samples, dtype=int)\n",
        "all_preds = np.zeros(num_test_samples, dtype=int)\n",
        "all_probs = np.zeros(num_test_samples, dtype=float)\n",
        "\n",
        "current_idx = 0\n",
        "with torch.no_grad():\n",
        "    for X_batch, y_batch in test_loader:\n",
        "        X_batch = X_batch.to(DEVICE)\n",
        "        y_batch = y_batch.to(DEVICE)\n",
        "        outputs = final_global_model(X_batch)\n",
        "\n",
        "        # Get probabilities for the positive class (assuming index 1 is positive)\n",
        "        probs = torch.sigmoid(outputs).cpu().numpy()[:, 1]\n",
        "        preds = (probs >= 0.5).astype(int)\n",
        "        labels = y_batch.cpu().numpy().flatten()\n",
        "\n",
        "        batch_size = len(labels)\n",
        "        all_labels[current_idx : current_idx + batch_size] = labels\n",
        "        all_preds[current_idx : current_idx + batch_size] = preds\n",
        "        all_probs[current_idx : current_idx + batch_size] = probs\n",
        "\n",
        "        current_idx += batch_size\n",
        "\n",
        "\n",
        "# Classification Report\n",
        "print(\"Classification Report:\")\n",
        "print(classification_report(all_labels, all_preds))\n",
        "\n",
        "# ROC Curve and AUC\n",
        "fpr, tpr, thresholds = roc_curve(all_labels, all_probs)\n",
        "roc_auc = auc(fpr, tpr)\n",
        "\n",
        "print(f\"AUC: {roc_auc:.4f}\")\n",
        "\n",
        "# Plot ROC curve\n",
        "plt.figure()\n",
        "plt.plot(fpr, tpr, color='darkorange', lw=2, label='ROC curve (area = %0.2f)' % roc_auc)\n",
        "plt.plot([0, 1], [0, 1], color='navy', lw=2, linestyle='--')\n",
        "plt.xlim([0.0, 1.0])\n",
        "plt.ylim([0.0, 1.05])\n",
        "plt.xlabel('False Positive Rate')\n",
        "plt.ylabel('True Positive Rate')\n",
        "plt.title('Receiver Operating Characteristic')\n",
        "plt.legend(loc=\"lower right\")\n",
        "plt.show()"
      ],
      "metadata": {
        "colab": {
          "base_uri": "https://localhost:8080/",
          "height": 724
        },
        "id": "uq83pRVdia7v",
        "outputId": "0d514fb1-1a50-4d17-89fc-7ed6335184a2"
      },
      "execution_count": 27,
      "outputs": [
        {
          "output_type": "stream",
          "name": "stdout",
          "text": [
            "Classification Report:\n",
            "              precision    recall  f1-score   support\n",
            "\n",
            "           0       0.98      1.00      0.99     51131\n",
            "           1       0.04      0.00      0.00      1030\n",
            "\n",
            "    accuracy                           0.98     52161\n",
            "   macro avg       0.51      0.50      0.50     52161\n",
            "weighted avg       0.96      0.98      0.97     52161\n",
            "\n",
            "AUC: 0.7531\n"
          ]
        },
        {
          "output_type": "stream",
          "name": "stderr",
          "text": [
            "/usr/local/lib/python3.12/dist-packages/jupyter_client/session.py:203: DeprecationWarning: datetime.datetime.utcnow() is deprecated and scheduled for removal in a future version. Use timezone-aware objects to represent datetimes in UTC: datetime.datetime.now(datetime.UTC).\n",
            "  return datetime.utcnow().replace(tzinfo=utc)\n"
          ]
        },
        {
          "output_type": "display_data",
          "data": {
            "text/plain": [
              "<Figure size 640x480 with 1 Axes>"
            ],
            "image/png": "[encoded data removed]"
          },
          "metadata": {}
        }
      ]
    }
  ]
}