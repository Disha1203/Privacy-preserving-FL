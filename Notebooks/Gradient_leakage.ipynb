{
  "cells": [
    {
      "cell_type": "markdown",
      "metadata": {
        "id": "view-in-github",
        "colab_type": "text"
      },
      "source": [
        "<a href=\"https://colab.research.google.com/github/Disha1203/Privacy-preserving-FL/blob/main/Gradient_leakage_DP.ipynb\" target=\"_parent\"><img src=\"https://colab.research.google.com/assets/colab-badge.svg\" alt=\"Open In Colab\"/></a>"
      ]
    },
    {
      "cell_type": "code",
      "source": [
        "!pip install opacus\n"
      ],
      "metadata": {
        "id": "ohhlDtEjNRsi",
        "collapsed": true,
        "colab": {
          "base_uri": "https://localhost:8080/"
        },
        "outputId": "06de85d8-ef40-469f-cf5f-784da9f654b5"
      },
      "id": "ohhlDtEjNRsi",
      "execution_count": 4,
      "outputs": [
        {
          "output_type": "stream",
          "name": "stdout",
          "text": [
            "Collecting opacus\n",
            "  Downloading opacus-1.5.4-py3-none-any.whl.metadata (8.7 kB)\n",
            "Requirement already satisfied: numpy>=1.15 in /usr/local/lib/python3.12/dist-packages (from opacus) (2.0.2)\n",
            "Requirement already satisfied: torch>=2.0 in /usr/local/lib/python3.12/dist-packages (from opacus) (2.8.0+cu126)\n",
            "Requirement already satisfied: scipy>=1.2 in /usr/local/lib/python3.12/dist-packages (from opacus) (1.16.2)\n",
            "Requirement already satisfied: opt-einsum>=3.3.0 in /usr/local/lib/python3.12/dist-packages (from opacus) (3.4.0)\n",
            "Requirement already satisfied: filelock in /usr/local/lib/python3.12/dist-packages (from torch>=2.0->opacus) (3.20.0)\n",
            "Requirement already satisfied: typing-extensions>=4.10.0 in /usr/local/lib/python3.12/dist-packages (from torch>=2.0->opacus) (4.15.0)\n",
            "Requirement already satisfied: setuptools in /usr/local/lib/python3.12/dist-packages (from torch>=2.0->opacus) (75.2.0)\n",
            "Requirement already satisfied: sympy>=1.13.3 in /usr/local/lib/python3.12/dist-packages (from torch>=2.0->opacus) (1.13.3)\n",
            "Requirement already satisfied: networkx in /usr/local/lib/python3.12/dist-packages (from torch>=2.0->opacus) (3.5)\n",
            "Requirement already satisfied: jinja2 in /usr/local/lib/python3.12/dist-packages (from torch>=2.0->opacus) (3.1.6)\n",
            "Requirement already satisfied: fsspec in /usr/local/lib/python3.12/dist-packages (from torch>=2.0->opacus) (2025.3.0)\n",
            "Requirement already satisfied: nvidia-cuda-nvrtc-cu12==12.6.77 in /usr/local/lib/python3.12/dist-packages (from torch>=2.0->opacus) (12.6.77)\n",
            "Requirement already satisfied: nvidia-cuda-runtime-cu12==12.6.77 in /usr/local/lib/python3.12/dist-packages (from torch>=2.0->opacus) (12.6.77)\n",
            "Requirement already satisfied: nvidia-cuda-cupti-cu12==12.6.80 in /usr/local/lib/python3.12/dist-packages (from torch>=2.0->opacus) (12.6.80)\n",
            "Requirement already satisfied: nvidia-cudnn-cu12==9.10.2.21 in /usr/local/lib/python3.12/dist-packages (from torch>=2.0->opacus) (9.10.2.21)\n",
            "Requirement already satisfied: nvidia-cublas-cu12==12.6.4.1 in /usr/local/lib/python3.12/dist-packages (from torch>=2.0->opacus) (12.6.4.1)\n",
            "Requirement already satisfied: nvidia-cufft-cu12==11.3.0.4 in /usr/local/lib/python3.12/dist-packages (from torch>=2.0->opacus) (11.3.0.4)\n",
            "Requirement already satisfied: nvidia-curand-cu12==10.3.7.77 in /usr/local/lib/python3.12/dist-packages (from torch>=2.0->opacus) (10.3.7.77)\n",
            "Requirement already satisfied: nvidia-cusolver-cu12==11.7.1.2 in /usr/local/lib/python3.12/dist-packages (from torch>=2.0->opacus) (11.7.1.2)\n",
            "Requirement already satisfied: nvidia-cusparse-cu12==12.5.4.2 in /usr/local/lib/python3.12/dist-packages (from torch>=2.0->opacus) (12.5.4.2)\n",
            "Requirement already satisfied: nvidia-cusparselt-cu12==0.7.1 in /usr/local/lib/python3.12/dist-packages (from torch>=2.0->opacus) (0.7.1)\n",
            "Requirement already satisfied: nvidia-nccl-cu12==2.27.3 in /usr/local/lib/python3.12/dist-packages (from torch>=2.0->opacus) (2.27.3)\n",
            "Requirement already satisfied: nvidia-nvtx-cu12==12.6.77 in /usr/local/lib/python3.12/dist-packages (from torch>=2.0->opacus) (12.6.77)\n",
            "Requirement already satisfied: nvidia-nvjitlink-cu12==12.6.85 in /usr/local/lib/python3.12/dist-packages (from torch>=2.0->opacus) (12.6.85)\n",
            "Requirement already satisfied: nvidia-cufile-cu12==1.11.1.6 in /usr/local/lib/python3.12/dist-packages (from torch>=2.0->opacus) (1.11.1.6)\n",
            "Requirement already satisfied: triton==3.4.0 in /usr/local/lib/python3.12/dist-packages (from torch>=2.0->opacus) (3.4.0)\n",
            "Requirement already satisfied: mpmath<1.4,>=1.1.0 in /usr/local/lib/python3.12/dist-packages (from sympy>=1.13.3->torch>=2.0->opacus) (1.3.0)\n",
            "Requirement already satisfied: MarkupSafe>=2.0 in /usr/local/lib/python3.12/dist-packages (from jinja2->torch>=2.0->opacus) (3.0.3)\n",
            "Downloading opacus-1.5.4-py3-none-any.whl (254 kB)\n",
            "\u001b[2K   \u001b[90m━━━━━━━━━━━━━━━━━━━━━━━━━━━━━━━━━━━━━━━━\u001b[0m \u001b[32m254.4/254.4 kB\u001b[0m \u001b[31m5.6 MB/s\u001b[0m eta \u001b[36m0:00:00\u001b[0m\n",
            "\u001b[?25hInstalling collected packages: opacus\n",
            "Successfully installed opacus-1.5.4\n"
          ]
        }
      ]
    },
    {
      "cell_type": "code",
      "execution_count": 5,
      "id": "84e74dbf-b71a-475a-a141-e1377b8141ed",
      "metadata": {
        "id": "84e74dbf-b71a-475a-a141-e1377b8141ed"
      },
      "outputs": [],
      "source": [
        "import pandas as pd\n",
        "import numpy as np\n",
        "import torch\n",
        "from torch import nn\n",
        "from torch.utils.data import DataLoader, TensorDataset\n",
        "from sklearn.model_selection import train_test_split\n",
        "from sklearn.metrics import accuracy_score, classification_report\n",
        "from sklearn.preprocessing import LabelEncoder\n",
        "from sklearn.utils.class_weight import compute_class_weight\n",
        "from imblearn.over_sampling import SMOTE\n",
        "from opacus import PrivacyEngine\n",
        "from google.colab import files"
      ]
    },
    {
      "cell_type": "code",
      "execution_count": 8,
      "id": "3f0b0376-8978-4553-a350-37e55e8b27ca",
      "metadata": {
        "id": "3f0b0376-8978-4553-a350-37e55e8b27ca",
        "colab": {
          "base_uri": "https://localhost:8080/",
          "height": 382
        },
        "outputId": "9b42e9c2-4242-44a0-f327-28231d2e1e77"
      },
      "outputs": [
        {
          "output_type": "display_data",
          "data": {
            "text/plain": [
              "<IPython.core.display.HTML object>"
            ],
            "text/html": [
              "\n",
              "     <input type=\"file\" id=\"files-843af290-2f5d-4c85-b71f-f603b5c14864\" name=\"files[]\" multiple disabled\n",
              "        style=\"border:none\" />\n",
              "     <output id=\"result-843af290-2f5d-4c85-b71f-f603b5c14864\">\n",
              "      Upload widget is only available when the cell has been executed in the\n",
              "      current browser session. Please rerun this cell to enable.\n",
              "      </output>\n",
              "      <script>// Copyright 2017 Google LLC\n",
              "//\n",
              "// Licensed under the Apache License, Version 2.0 (the \"License\");\n",
              "// you may not use this file except in compliance with the License.\n",
              "// You may obtain a copy of the License at\n",
              "//\n",
              "//      http://www.apache.org/licenses/LICENSE-2.0\n",
              "//\n",
              "// Unless required by applicable law or agreed to in writing, software\n",
              "// distributed under the License is distributed on an \"AS IS\" BASIS,\n",
              "// WITHOUT WARRANTIES OR CONDITIONS OF ANY KIND, either express or implied.\n",
              "// See the License for the specific language governing permissions and\n",
              "// limitations under the License.\n",
              "\n",
              "/**\n",
              " * @fileoverview Helpers for google.colab Python module.\n",
              " */\n",
              "(function(scope) {\n",
              "function span(text, styleAttributes = {}) {\n",
              "  const element = document.createElement('span');\n",
              "  element.textContent = text;\n",
              "  for (const key of Object.keys(styleAttributes)) {\n",
              "    element.style[key] = styleAttributes[key];\n",
              "  }\n",
              "  return element;\n",
              "}\n",
              "\n",
              "// Max number of bytes which will be uploaded at a time.\n",
              "const MAX_PAYLOAD_SIZE = 100 * 1024;\n",
              "\n",
              "function _uploadFiles(inputId, outputId) {\n",
              "  const steps = uploadFilesStep(inputId, outputId);\n",
              "  const outputElement = document.getElementById(outputId);\n",
              "  // Cache steps on the outputElement to make it available for the next call\n",
              "  // to uploadFilesContinue from Python.\n",
              "  outputElement.steps = steps;\n",
              "\n",
              "  return _uploadFilesContinue(outputId);\n",
              "}\n",
              "\n",
              "// This is roughly an async generator (not supported in the browser yet),\n",
              "// where there are multiple asynchronous steps and the Python side is going\n",
              "// to poll for completion of each step.\n",
              "// This uses a Promise to block the python side on completion of each step,\n",
              "// then passes the result of the previous step as the input to the next step.\n",
              "function _uploadFilesContinue(outputId) {\n",
              "  const outputElement = document.getElementById(outputId);\n",
              "  const steps = outputElement.steps;\n",
              "\n",
              "  const next = steps.next(outputElement.lastPromiseValue);\n",
              "  return Promise.resolve(next.value.promise).then((value) => {\n",
              "    // Cache the last promise value to make it available to the next\n",
              "    // step of the generator.\n",
              "    outputElement.lastPromiseValue = value;\n",
              "    return next.value.response;\n",
              "  });\n",
              "}\n",
              "\n",
              "/**\n",
              " * Generator function which is called between each async step of the upload\n",
              " * process.\n",
              " * @param {string} inputId Element ID of the input file picker element.\n",
              " * @param {string} outputId Element ID of the output display.\n",
              " * @return {!Iterable<!Object>} Iterable of next steps.\n",
              " */\n",
              "function* uploadFilesStep(inputId, outputId) {\n",
              "  const inputElement = document.getElementById(inputId);\n",
              "  inputElement.disabled = false;\n",
              "\n",
              "  const outputElement = document.getElementById(outputId);\n",
              "  outputElement.innerHTML = '';\n",
              "\n",
              "  const pickedPromise = new Promise((resolve) => {\n",
              "    inputElement.addEventListener('change', (e) => {\n",
              "      resolve(e.target.files);\n",
              "    });\n",
              "  });\n",
              "\n",
              "  const cancel = document.createElement('button');\n",
              "  inputElement.parentElement.appendChild(cancel);\n",
              "  cancel.textContent = 'Cancel upload';\n",
              "  const cancelPromise = new Promise((resolve) => {\n",
              "    cancel.onclick = () => {\n",
              "      resolve(null);\n",
              "    };\n",
              "  });\n",
              "\n",
              "  // Wait for the user to pick the files.\n",
              "  const files = yield {\n",
              "    promise: Promise.race([pickedPromise, cancelPromise]),\n",
              "    response: {\n",
              "      action: 'starting',\n",
              "    }\n",
              "  };\n",
              "\n",
              "  cancel.remove();\n",
              "\n",
              "  // Disable the input element since further picks are not allowed.\n",
              "  inputElement.disabled = true;\n",
              "\n",
              "  if (!files) {\n",
              "    return {\n",
              "      response: {\n",
              "        action: 'complete',\n",
              "      }\n",
              "    };\n",
              "  }\n",
              "\n",
              "  for (const file of files) {\n",
              "    const li = document.createElement('li');\n",
              "    li.append(span(file.name, {fontWeight: 'bold'}));\n",
              "    li.append(span(\n",
              "        `(${file.type || 'n/a'}) - ${file.size} bytes, ` +\n",
              "        `last modified: ${\n",
              "            file.lastModifiedDate ? file.lastModifiedDate.toLocaleDateString() :\n",
              "                                    'n/a'} - `));\n",
              "    const percent = span('0% done');\n",
              "    li.appendChild(percent);\n",
              "\n",
              "    outputElement.appendChild(li);\n",
              "\n",
              "    const fileDataPromise = new Promise((resolve) => {\n",
              "      const reader = new FileReader();\n",
              "      reader.onload = (e) => {\n",
              "        resolve(e.target.result);\n",
              "      };\n",
              "      reader.readAsArrayBuffer(file);\n",
              "    });\n",
              "    // Wait for the data to be ready.\n",
              "    let fileData = yield {\n",
              "      promise: fileDataPromise,\n",
              "      response: {\n",
              "        action: 'continue',\n",
              "      }\n",
              "    };\n",
              "\n",
              "    // Use a chunked sending to avoid message size limits. See b/62115660.\n",
              "    let position = 0;\n",
              "    do {\n",
              "      const length = Math.min(fileData.byteLength - position, MAX_PAYLOAD_SIZE);\n",
              "      const chunk = new Uint8Array(fileData, position, length);\n",
              "      position += length;\n",
              "\n",
              "      const base64 = btoa(String.fromCharCode.apply(null, chunk));\n",
              "      yield {\n",
              "        response: {\n",
              "          action: 'append',\n",
              "          file: file.name,\n",
              "          data: base64,\n",
              "        },\n",
              "      };\n",
              "\n",
              "      let percentDone = fileData.byteLength === 0 ?\n",
              "          100 :\n",
              "          Math.round((position / fileData.byteLength) * 100);\n",
              "      percent.textContent = `${percentDone}% done`;\n",
              "\n",
              "    } while (position < fileData.byteLength);\n",
              "  }\n",
              "\n",
              "  // All done.\n",
              "  yield {\n",
              "    response: {\n",
              "      action: 'complete',\n",
              "    }\n",
              "  };\n",
              "}\n",
              "\n",
              "scope.google = scope.google || {};\n",
              "scope.google.colab = scope.google.colab || {};\n",
              "scope.google.colab._files = {\n",
              "  _uploadFiles,\n",
              "  _uploadFilesContinue,\n",
              "};\n",
              "})(self);\n",
              "</script> "
            ]
          },
          "metadata": {}
        },
        {
          "output_type": "stream",
          "name": "stdout",
          "text": [
            "Shape: (12874, 39)\n"
          ]
        },
        {
          "output_type": "execute_result",
          "data": {
            "text/plain": [
              "               education     urban  gender engnat    screensize  \\\n",
              "0      University degree     Urban  Female     No  Small screen   \n",
              "1            High school  Suburban    Male     No  Small screen   \n",
              "2            High school  Suburban  Female    Yes  Small screen   \n",
              "3  Less than high school  Suburban    Male     No  Small screen   \n",
              "4            High school     Urban  Female     No    Big screen   \n",
              "\n",
              "  uniquenetworklocation   hand              religion   orientation   race  \\\n",
              "0        Unique network  Right                Muslim  Heterosexual  Asian   \n",
              "1        Shared network  Right                Muslim  Heterosexual  Asian   \n",
              "2        Unique network  Right  Christian (Catholic)    Homosexual  White   \n",
              "3        Unique network  Right  Christian (Catholic)      Bisexual  Asian   \n",
              "4        Unique network  Right    Christian (Mormon)  Heterosexual  Asian   \n",
              "\n",
              "   ... TIPI2 TIPI3  TIPI4  TIPI5  TIPI6  TIPI7  TIPI8  TIPI9  TIPI10  \\\n",
              "0  ...     6     2      7      4      6      4      7      2       7   \n",
              "1  ...     4     1      7      1      7      7      7      3       7   \n",
              "2  ...     4     1      1      1      1      4      4      3       3   \n",
              "3  ...     5     4      4      5      5      5      5      5       4   \n",
              "4  ...     6     7      7      4      7      7      5      2       2   \n",
              "\n",
              "          Condition  \n",
              "0  Extremely Severe  \n",
              "1  Extremely Severe  \n",
              "2  Extremely Severe  \n",
              "3            Normal  \n",
              "4  Extremely Severe  \n",
              "\n",
              "[5 rows x 39 columns]"
            ],
            "text/html": [
              "\n",
              "  <div id=\"df-cba23415-177e-4601-b21a-ccb46515a64a\" class=\"colab-df-container\">\n",
              "    <div>\n",
              "<style scoped>\n",
              "    .dataframe tbody tr th:only-of-type {\n",
              "        vertical-align: middle;\n",
              "    }\n",
              "\n",
              "    .dataframe tbody tr th {\n",
              "        vertical-align: top;\n",
              "    }\n",
              "\n",
              "    .dataframe thead th {\n",
              "        text-align: right;\n",
              "    }\n",
              "</style>\n",
              "<table border=\"1\" class=\"dataframe\">\n",
              "  <thead>\n",
              "    <tr style=\"text-align: right;\">\n",
              "      <th></th>\n",
              "      <th>education</th>\n",
              "      <th>urban</th>\n",
              "      <th>gender</th>\n",
              "      <th>engnat</th>\n",
              "      <th>screensize</th>\n",
              "      <th>uniquenetworklocation</th>\n",
              "      <th>hand</th>\n",
              "      <th>religion</th>\n",
              "      <th>orientation</th>\n",
              "      <th>race</th>\n",
              "      <th>...</th>\n",
              "      <th>TIPI2</th>\n",
              "      <th>TIPI3</th>\n",
              "      <th>TIPI4</th>\n",
              "      <th>TIPI5</th>\n",
              "      <th>TIPI6</th>\n",
              "      <th>TIPI7</th>\n",
              "      <th>TIPI8</th>\n",
              "      <th>TIPI9</th>\n",
              "      <th>TIPI10</th>\n",
              "      <th>Condition</th>\n",
              "    </tr>\n",
              "  </thead>\n",
              "  <tbody>\n",
              "    <tr>\n",
              "      <th>0</th>\n",
              "      <td>University degree</td>\n",
              "      <td>Urban</td>\n",
              "      <td>Female</td>\n",
              "      <td>No</td>\n",
              "      <td>Small screen</td>\n",
              "      <td>Unique network</td>\n",
              "      <td>Right</td>\n",
              "      <td>Muslim</td>\n",
              "      <td>Heterosexual</td>\n",
              "      <td>Asian</td>\n",
              "      <td>...</td>\n",
              "      <td>6</td>\n",
              "      <td>2</td>\n",
              "      <td>7</td>\n",
              "      <td>4</td>\n",
              "      <td>6</td>\n",
              "      <td>4</td>\n",
              "      <td>7</td>\n",
              "      <td>2</td>\n",
              "      <td>7</td>\n",
              "      <td>Extremely Severe</td>\n",
              "    </tr>\n",
              "    <tr>\n",
              "      <th>1</th>\n",
              "      <td>High school</td>\n",
              "      <td>Suburban</td>\n",
              "      <td>Male</td>\n",
              "      <td>No</td>\n",
              "      <td>Small screen</td>\n",
              "      <td>Shared network</td>\n",
              "      <td>Right</td>\n",
              "      <td>Muslim</td>\n",
              "      <td>Heterosexual</td>\n",
              "      <td>Asian</td>\n",
              "      <td>...</td>\n",
              "      <td>4</td>\n",
              "      <td>1</td>\n",
              "      <td>7</td>\n",
              "      <td>1</td>\n",
              "      <td>7</td>\n",
              "      <td>7</td>\n",
              "      <td>7</td>\n",
              "      <td>3</td>\n",
              "      <td>7</td>\n",
              "      <td>Extremely Severe</td>\n",
              "    </tr>\n",
              "    <tr>\n",
              "      <th>2</th>\n",
              "      <td>High school</td>\n",
              "      <td>Suburban</td>\n",
              "      <td>Female</td>\n",
              "      <td>Yes</td>\n",
              "      <td>Small screen</td>\n",
              "      <td>Unique network</td>\n",
              "      <td>Right</td>\n",
              "      <td>Christian (Catholic)</td>\n",
              "      <td>Homosexual</td>\n",
              "      <td>White</td>\n",
              "      <td>...</td>\n",
              "      <td>4</td>\n",
              "      <td>1</td>\n",
              "      <td>1</td>\n",
              "      <td>1</td>\n",
              "      <td>1</td>\n",
              "      <td>4</td>\n",
              "      <td>4</td>\n",
              "      <td>3</td>\n",
              "      <td>3</td>\n",
              "      <td>Extremely Severe</td>\n",
              "    </tr>\n",
              "    <tr>\n",
              "      <th>3</th>\n",
              "      <td>Less than high school</td>\n",
              "      <td>Suburban</td>\n",
              "      <td>Male</td>\n",
              "      <td>No</td>\n",
              "      <td>Small screen</td>\n",
              "      <td>Unique network</td>\n",
              "      <td>Right</td>\n",
              "      <td>Christian (Catholic)</td>\n",
              "      <td>Bisexual</td>\n",
              "      <td>Asian</td>\n",
              "      <td>...</td>\n",
              "      <td>5</td>\n",
              "      <td>4</td>\n",
              "      <td>4</td>\n",
              "      <td>5</td>\n",
              "      <td>5</td>\n",
              "      <td>5</td>\n",
              "      <td>5</td>\n",
              "      <td>5</td>\n",
              "      <td>4</td>\n",
              "      <td>Normal</td>\n",
              "    </tr>\n",
              "    <tr>\n",
              "      <th>4</th>\n",
              "      <td>High school</td>\n",
              "      <td>Urban</td>\n",
              "      <td>Female</td>\n",
              "      <td>No</td>\n",
              "      <td>Big screen</td>\n",
              "      <td>Unique network</td>\n",
              "      <td>Right</td>\n",
              "      <td>Christian (Mormon)</td>\n",
              "      <td>Heterosexual</td>\n",
              "      <td>Asian</td>\n",
              "      <td>...</td>\n",
              "      <td>6</td>\n",
              "      <td>7</td>\n",
              "      <td>7</td>\n",
              "      <td>4</td>\n",
              "      <td>7</td>\n",
              "      <td>7</td>\n",
              "      <td>5</td>\n",
              "      <td>2</td>\n",
              "      <td>2</td>\n",
              "      <td>Extremely Severe</td>\n",
              "    </tr>\n",
              "  </tbody>\n",
              "</table>\n",
              "<p>5 rows × 39 columns</p>\n",
              "</div>\n",
              "    <div class=\"colab-df-buttons\">\n",
              "\n",
              "  <div class=\"colab-df-container\">\n",
              "    <button class=\"colab-df-convert\" onclick=\"convertToInteractive('df-cba23415-177e-4601-b21a-ccb46515a64a')\"\n",
              "            title=\"Convert this dataframe to an interactive table.\"\n",
              "            style=\"display:none;\">\n",
              "\n",
              "  <svg xmlns=\"http://www.w3.org/2000/svg\" height=\"24px\" viewBox=\"0 -960 960 960\">\n",
              "    <path d=\"M120-120v-720h720v720H120Zm60-500h600v-160H180v160Zm220 220h160v-160H400v160Zm0 220h160v-160H400v160ZM180-400h160v-160H180v160Zm440 0h160v-160H620v160ZM180-180h160v-160H180v160Zm440 0h160v-160H620v160Z\"/>\n",
              "  </svg>\n",
              "    </button>\n",
              "\n",
              "  <style>\n",
              "    .colab-df-container {\n",
              "      display:flex;\n",
              "      gap: 12px;\n",
              "    }\n",
              "\n",
              "    .colab-df-convert {\n",
              "      background-color: #E8F0FE;\n",
              "      border: none;\n",
              "      border-radius: 50%;\n",
              "      cursor: pointer;\n",
              "      display: none;\n",
              "      fill: #1967D2;\n",
              "      height: 32px;\n",
              "      padding: 0 0 0 0;\n",
              "      width: 32px;\n",
              "    }\n",
              "\n",
              "    .colab-df-convert:hover {\n",
              "      background-color: #E2EBFA;\n",
              "      box-shadow: 0px 1px 2px rgba(60, 64, 67, 0.3), 0px 1px 3px 1px rgba(60, 64, 67, 0.15);\n",
              "      fill: #174EA6;\n",
              "    }\n",
              "\n",
              "    .colab-df-buttons div {\n",
              "      margin-bottom: 4px;\n",
              "    }\n",
              "\n",
              "    [theme=dark] .colab-df-convert {\n",
              "      background-color: #3B4455;\n",
              "      fill: #D2E3FC;\n",
              "    }\n",
              "\n",
              "    [theme=dark] .colab-df-convert:hover {\n",
              "      background-color: #434B5C;\n",
              "      box-shadow: 0px 1px 3px 1px rgba(0, 0, 0, 0.15);\n",
              "      filter: drop-shadow(0px 1px 2px rgba(0, 0, 0, 0.3));\n",
              "      fill: #FFFFFF;\n",
              "    }\n",
              "  </style>\n",
              "\n",
              "    <script>\n",
              "      const buttonEl =\n",
              "        document.querySelector('#df-cba23415-177e-4601-b21a-ccb46515a64a button.colab-df-convert');\n",
              "      buttonEl.style.display =\n",
              "        google.colab.kernel.accessAllowed ? 'block' : 'none';\n",
              "\n",
              "      async function convertToInteractive(key) {\n",
              "        const element = document.querySelector('#df-cba23415-177e-4601-b21a-ccb46515a64a');\n",
              "        const dataTable =\n",
              "          await google.colab.kernel.invokeFunction('convertToInteractive',\n",
              "                                                    [key], {});\n",
              "        if (!dataTable) return;\n",
              "\n",
              "        const docLinkHtml = 'Like what you see? Visit the ' +\n",
              "          '<a target=\"_blank\" href=https://colab.research.google.com/notebooks/data_table.ipynb>data table notebook</a>'\n",
              "          + ' to learn more about interactive tables.';\n",
              "        element.innerHTML = '';\n",
              "        dataTable['output_type'] = 'display_data';\n",
              "        await google.colab.output.renderOutput(dataTable, element);\n",
              "        const docLink = document.createElement('div');\n",
              "        docLink.innerHTML = docLinkHtml;\n",
              "        element.appendChild(docLink);\n",
              "      }\n",
              "    </script>\n",
              "  </div>\n",
              "\n",
              "\n",
              "    <div id=\"df-9df4035f-e34f-4799-8fd8-5b97018c6e64\">\n",
              "      <button class=\"colab-df-quickchart\" onclick=\"quickchart('df-9df4035f-e34f-4799-8fd8-5b97018c6e64')\"\n",
              "                title=\"Suggest charts\"\n",
              "                style=\"display:none;\">\n",
              "\n",
              "<svg xmlns=\"http://www.w3.org/2000/svg\" height=\"24px\"viewBox=\"0 0 24 24\"\n",
              "     width=\"24px\">\n",
              "    <g>\n",
              "        <path d=\"M19 3H5c-1.1 0-2 .9-2 2v14c0 1.1.9 2 2 2h14c1.1 0 2-.9 2-2V5c0-1.1-.9-2-2-2zM9 17H7v-7h2v7zm4 0h-2V7h2v10zm4 0h-2v-4h2v4z\"/>\n",
              "    </g>\n",
              "</svg>\n",
              "      </button>\n",
              "\n",
              "<style>\n",
              "  .colab-df-quickchart {\n",
              "      --bg-color: #E8F0FE;\n",
              "      --fill-color: #1967D2;\n",
              "      --hover-bg-color: #E2EBFA;\n",
              "      --hover-fill-color: #174EA6;\n",
              "      --disabled-fill-color: #AAA;\n",
              "      --disabled-bg-color: #DDD;\n",
              "  }\n",
              "\n",
              "  [theme=dark] .colab-df-quickchart {\n",
              "      --bg-color: #3B4455;\n",
              "      --fill-color: #D2E3FC;\n",
              "      --hover-bg-color: #434B5C;\n",
              "      --hover-fill-color: #FFFFFF;\n",
              "      --disabled-bg-color: #3B4455;\n",
              "      --disabled-fill-color: #666;\n",
              "  }\n",
              "\n",
              "  .colab-df-quickchart {\n",
              "    background-color: var(--bg-color);\n",
              "    border: none;\n",
              "    border-radius: 50%;\n",
              "    cursor: pointer;\n",
              "    display: none;\n",
              "    fill: var(--fill-color);\n",
              "    height: 32px;\n",
              "    padding: 0;\n",
              "    width: 32px;\n",
              "  }\n",
              "\n",
              "  .colab-df-quickchart:hover {\n",
              "    background-color: var(--hover-bg-color);\n",
              "    box-shadow: 0 1px 2px rgba(60, 64, 67, 0.3), 0 1px 3px 1px rgba(60, 64, 67, 0.15);\n",
              "    fill: var(--button-hover-fill-color);\n",
              "  }\n",
              "\n",
              "  .colab-df-quickchart-complete:disabled,\n",
              "  .colab-df-quickchart-complete:disabled:hover {\n",
              "    background-color: var(--disabled-bg-color);\n",
              "    fill: var(--disabled-fill-color);\n",
              "    box-shadow: none;\n",
              "  }\n",
              "\n",
              "  .colab-df-spinner {\n",
              "    border: 2px solid var(--fill-color);\n",
              "    border-color: transparent;\n",
              "    border-bottom-color: var(--fill-color);\n",
              "    animation:\n",
              "      spin 1s steps(1) infinite;\n",
              "  }\n",
              "\n",
              "  @keyframes spin {\n",
              "    0% {\n",
              "      border-color: transparent;\n",
              "      border-bottom-color: var(--fill-color);\n",
              "      border-left-color: var(--fill-color);\n",
              "    }\n",
              "    20% {\n",
              "      border-color: transparent;\n",
              "      border-left-color: var(--fill-color);\n",
              "      border-top-color: var(--fill-color);\n",
              "    }\n",
              "    30% {\n",
              "      border-color: transparent;\n",
              "      border-left-color: var(--fill-color);\n",
              "      border-top-color: var(--fill-color);\n",
              "      border-right-color: var(--fill-color);\n",
              "    }\n",
              "    40% {\n",
              "      border-color: transparent;\n",
              "      border-right-color: var(--fill-color);\n",
              "      border-top-color: var(--fill-color);\n",
              "    }\n",
              "    60% {\n",
              "      border-color: transparent;\n",
              "      border-right-color: var(--fill-color);\n",
              "    }\n",
              "    80% {\n",
              "      border-color: transparent;\n",
              "      border-right-color: var(--fill-color);\n",
              "      border-bottom-color: var(--fill-color);\n",
              "    }\n",
              "    90% {\n",
              "      border-color: transparent;\n",
              "      border-bottom-color: var(--fill-color);\n",
              "    }\n",
              "  }\n",
              "</style>\n",
              "\n",
              "      <script>\n",
              "        async function quickchart(key) {\n",
              "          const quickchartButtonEl =\n",
              "            document.querySelector('#' + key + ' button');\n",
              "          quickchartButtonEl.disabled = true;  // To prevent multiple clicks.\n",
              "          quickchartButtonEl.classList.add('colab-df-spinner');\n",
              "          try {\n",
              "            const charts = await google.colab.kernel.invokeFunction(\n",
              "                'suggestCharts', [key], {});\n",
              "          } catch (error) {\n",
              "            console.error('Error during call to suggestCharts:', error);\n",
              "          }\n",
              "          quickchartButtonEl.classList.remove('colab-df-spinner');\n",
              "          quickchartButtonEl.classList.add('colab-df-quickchart-complete');\n",
              "        }\n",
              "        (() => {\n",
              "          let quickchartButtonEl =\n",
              "            document.querySelector('#df-9df4035f-e34f-4799-8fd8-5b97018c6e64 button');\n",
              "          quickchartButtonEl.style.display =\n",
              "            google.colab.kernel.accessAllowed ? 'block' : 'none';\n",
              "        })();\n",
              "      </script>\n",
              "    </div>\n",
              "\n",
              "    </div>\n",
              "  </div>\n"
            ],
            "application/vnd.google.colaboratory.intrinsic+json": {
              "type": "dataframe",
              "variable_name": "df"
            }
          },
          "metadata": {},
          "execution_count": 8
        }
      ],
      "source": [
        "uploaded = files.upload()\n",
        "df = pd.read_csv(\"no_anonymistion1.csv\")\n",
        "print(\"Shape:\", df.shape)\n",
        "df.head()"
      ]
    },
    {
      "cell_type": "code",
      "execution_count": 9,
      "id": "84925327-0905-4fc0-b96f-e6b03babcbd3",
      "metadata": {
        "id": "84925327-0905-4fc0-b96f-e6b03babcbd3"
      },
      "outputs": [],
      "source": [
        "from sklearn.preprocessing import LabelEncoder\n",
        "\n",
        "df_encoded = df.copy()\n",
        "label_encoders = {}\n",
        "target_column = 'Condition'\n",
        "\n",
        "# Encode all categorical columns except the target\n",
        "for col in df_encoded.select_dtypes(include='object').columns:\n",
        "    if col != target_column:\n",
        "        le = LabelEncoder()\n",
        "        df_encoded[col] = le.fit_transform(df_encoded[col].astype(str))\n",
        "        label_encoders[col] = le\n",
        "\n",
        "# Encode the target as well\n",
        "le_target = LabelEncoder()\n",
        "df_encoded[target_column] = le_target.fit_transform(df_encoded[target_column])\n",
        "\n",
        "# Now split from df_encoded\n",
        "X = df_encoded.drop(columns=[target_column])\n",
        "y = df_encoded[target_column]\n",
        "\n",
        "from sklearn.model_selection import train_test_split\n",
        "X_train, X_val, y_train, y_val = train_test_split(X, y, stratify=y, test_size=0.2, random_state=42)\n",
        "\n",
        "# Apply SMOTE\n",
        "from imblearn.over_sampling import SMOTE\n",
        "smote = SMOTE(random_state=42)\n",
        "X_train_sm, y_train_sm = smote.fit_resample(X_train, y_train)\n",
        "\n"
      ]
    },
    {
      "cell_type": "code",
      "source": [
        "#normalise the dataset to make it ideal for attacks\n",
        "from sklearn.preprocessing import StandardScaler\n",
        "\n",
        "scaler = StandardScaler()\n",
        "X_train_scaled = scaler.fit_transform(X_train_sm)\n",
        "X_val_scaled = scaler.transform(X_val)\n",
        "\n",
        "# Then create tensors again with X_train_scaled\n"
      ],
      "metadata": {
        "id": "S3JmAsb0uGgD"
      },
      "id": "S3JmAsb0uGgD",
      "execution_count": 10,
      "outputs": []
    },
    {
      "cell_type": "code",
      "execution_count": 11,
      "id": "69add12a-3786-4e0f-a776-ef94089e84cc",
      "metadata": {
        "id": "69add12a-3786-4e0f-a776-ef94089e84cc"
      },
      "outputs": [],
      "source": [
        "# Check and encode any remaining non-numeric features\n",
        "for col in X_train.columns:\n",
        "    if X_train[col].dtype == 'object' or X_train[col].dtype.name == 'category':\n",
        "        le = LabelEncoder()\n",
        "        X_train[col] = le.fit_transform(X_train[col])\n",
        "\n",
        "# Now retry SMOTE\n",
        "from imblearn.over_sampling import SMOTE\n",
        "\n",
        "smote = SMOTE(random_state=42)\n",
        "X_train_sm, y_train_sm = smote.fit_resample(X_train, y_train)\n",
        "\n",
        "smote = SMOTE(random_state=42)\n",
        "X_train_sm, y_train_sm = smote.fit_resample(X_train, y_train)\n"
      ]
    },
    {
      "cell_type": "code",
      "execution_count": 12,
      "id": "9652cbfa-1fdb-420e-b638-c1c34ba140ef",
      "metadata": {
        "id": "9652cbfa-1fdb-420e-b638-c1c34ba140ef"
      },
      "outputs": [],
      "source": [
        "import torch\n",
        "from torch.utils.data import TensorDataset, DataLoader\n",
        "\n",
        "# Convert to PyTorch tensors (make sure all are numeric)\n",
        "X_train_tensor = torch.tensor(X_train_sm.values, dtype=torch.float32)\n",
        "y_train_tensor = torch.tensor(y_train_sm, dtype=torch.long)\n",
        "X_val_tensor = torch.tensor(X_val.values, dtype=torch.float32)\n",
        "y_val_tensor = torch.tensor(y_val.values, dtype=torch.long)\n",
        "\n",
        "# Create TensorDatasets\n",
        "train_dataset = TensorDataset(X_train_tensor, y_train_tensor)\n",
        "val_dataset = TensorDataset(X_val_tensor, y_val_tensor)\n",
        "\n",
        "# Create DataLoaders\n",
        "train_loader = DataLoader(train_dataset, batch_size=64, shuffle=True)\n",
        "val_loader = DataLoader(val_dataset, batch_size=64, shuffle=False)\n",
        "\n"
      ]
    },
    {
      "cell_type": "code",
      "execution_count": null,
      "id": "5ab447bb-f2a0-42e4-9862-86ed2c3cc57b",
      "metadata": {
        "id": "5ab447bb-f2a0-42e4-9862-86ed2c3cc57b"
      },
      "outputs": [],
      "source": [
        "# !pip install diffprivlib\n",
        "# !pip install imbalanced-learn"
      ]
    },
    {
      "cell_type": "code",
      "execution_count": 13,
      "id": "e659b10a-480a-4918-a4c3-14cd2725e450",
      "metadata": {
        "id": "e659b10a-480a-4918-a4c3-14cd2725e450"
      },
      "outputs": [],
      "source": [
        "class MLP(nn.Module):\n",
        "    def __init__(self, input_dim, num_classes):\n",
        "        super().__init__()\n",
        "        self.model = nn.Sequential(\n",
        "            nn.Linear(input_dim, 128),\n",
        "            nn.ReLU(),\n",
        "            nn.Linear(128, 64),\n",
        "            nn.ReLU(),\n",
        "            nn.Linear(64, num_classes)\n",
        "        )\n",
        "\n",
        "    def forward(self, x):\n",
        "        return self.model(x)\n",
        "\n",
        "input_dim = X_train.shape[1]\n",
        "num_classes = len(np.unique(y))\n",
        "model = MLP(input_dim, num_classes)\n",
        "\n",
        "\n"
      ]
    },
    {
      "cell_type": "code",
      "execution_count": 14,
      "id": "f5436bcf-9047-44ff-955c-b67e7c95de02",
      "metadata": {
        "id": "f5436bcf-9047-44ff-955c-b67e7c95de02",
        "colab": {
          "base_uri": "https://localhost:8080/"
        },
        "outputId": "7023f769-574c-4849-cd1a-1c2f2094d7f0"
      },
      "outputs": [
        {
          "output_type": "stream",
          "name": "stderr",
          "text": [
            "/usr/local/lib/python3.12/dist-packages/opacus/privacy_engine.py:96: UserWarning: Secure RNG turned off. This is perfectly fine for experimentation as it allows for much faster training performance, but remember to turn it on and retrain one last time before production with ``secure_mode`` turned on.\n",
            "  warnings.warn(\n"
          ]
        }
      ],
      "source": [
        "optimizer = torch.optim.Adam(model.parameters(), lr=1e-3)\n",
        "criterion = nn.CrossEntropyLoss()\n",
        "\n",
        "privacy_engine = PrivacyEngine()\n",
        "model, optimizer, train_loader = privacy_engine.make_private(\n",
        "    module=model,\n",
        "    optimizer=optimizer,\n",
        "    data_loader=train_loader,\n",
        "    noise_multiplier=1.0,\n",
        "    max_grad_norm=1.0,\n",
        ")\n"
      ]
    },
    {
      "cell_type": "code",
      "execution_count": 15,
      "id": "34b7711f-32e3-411a-a00e-4a0e0a1b1262",
      "metadata": {
        "colab": {
          "base_uri": "https://localhost:8080/"
        },
        "id": "34b7711f-32e3-411a-a00e-4a0e0a1b1262",
        "outputId": "98b37073-9514-4274-ea03-dddd852fe161"
      },
      "outputs": [
        {
          "output_type": "stream",
          "name": "stderr",
          "text": [
            "/tmp/ipython-input-1331209694.py:9: UserWarning: Full backward hook is firing when gradients are computed with respect to module outputs since no inputs require gradients. See https://docs.pytorch.org/docs/main/generated/torch.nn.Module.html#torch.nn.Module.register_full_backward_hook for more details.\n",
            "  loss.backward()\n"
          ]
        },
        {
          "output_type": "stream",
          "name": "stdout",
          "text": [
            "Epoch 1/10 - Loss: 370.5511\n",
            "Epoch 2/10 - Loss: 272.4149\n",
            "Epoch 3/10 - Loss: 240.4534\n",
            "Epoch 4/10 - Loss: 219.8807\n",
            "Epoch 5/10 - Loss: 209.0636\n",
            "Epoch 6/10 - Loss: 204.3795\n",
            "Epoch 7/10 - Loss: 207.3173\n",
            "Epoch 8/10 - Loss: 207.4969\n",
            "Epoch 9/10 - Loss: 215.4240\n",
            "Epoch 10/10 - Loss: 235.1006\n"
          ]
        }
      ],
      "source": [
        "model.train()\n",
        "epochs = 10\n",
        "for epoch in range(epochs):\n",
        "    total_loss = 0\n",
        "    for X_batch, y_batch in train_loader:\n",
        "        optimizer.zero_grad()\n",
        "        outputs = model(X_batch)\n",
        "        loss = criterion(outputs, y_batch)\n",
        "        loss.backward()\n",
        "        optimizer.step()\n",
        "        total_loss += loss.item()\n",
        "    print(f\"Epoch {epoch+1}/{epochs} - Loss: {total_loss:.4f}\")\n"
      ]
    },
    {
      "cell_type": "code",
      "metadata": {
        "colab": {
          "base_uri": "https://localhost:8080/"
        },
        "id": "0741fdde",
        "outputId": "a267a760-09dc-41af-b235-7d1331f3c838"
      },
      "source": [
        "device = torch.device(\"cuda\" if torch.cuda.is_available() else \"cpu\")\n",
        "print(f\"Using device: {device}\")"
      ],
      "execution_count": 16,
      "outputs": [
        {
          "output_type": "stream",
          "name": "stdout",
          "text": [
            "Using device: cpu\n"
          ]
        }
      ],
      "id": "0741fdde"
    },
    {
      "cell_type": "code",
      "source": [
        "# After training loop\n",
        "model.disable_hooks()\n",
        "\n",
        "# Access the raw module\n",
        "raw_model = model._module.to(device)"
      ],
      "metadata": {
        "id": "Muay2jU941Ls"
      },
      "id": "Muay2jU941Ls",
      "execution_count": 17,
      "outputs": []
    },
    {
      "cell_type": "code",
      "source": [
        "X_sample, y_sample = next(iter(train_loader))\n",
        "X_sample = X_sample[:1].to(device)\n",
        "y_sample = y_sample[:1].to(device)\n",
        "\n",
        "loss_fn = nn.CrossEntropyLoss()\n",
        "\n",
        "raw_model.zero_grad()\n",
        "pred = raw_model(X_sample)\n",
        "loss = loss_fn(pred, y_sample)\n",
        "loss.backward()\n",
        "\n",
        "# Store these DP-trained gradients\n",
        "grads = [param.grad.detach().clone() for param in raw_model.parameters() if param.grad is not None]\n"
      ],
      "metadata": {
        "id": "tarNWMzh42Bh",
        "colab": {
          "base_uri": "https://localhost:8080/"
        },
        "outputId": "5dcdb340-f1a0-4c35-bd30-fdc06a29f1da"
      },
      "id": "tarNWMzh42Bh",
      "execution_count": 18,
      "outputs": [
        {
          "output_type": "stream",
          "name": "stderr",
          "text": [
            "/tmp/ipython-input-127068039.py:10: UserWarning: Full backward hook is firing when gradients are computed with respect to module outputs since no inputs require gradients. See https://docs.pytorch.org/docs/main/generated/torch.nn.Module.html#torch.nn.Module.register_full_backward_hook for more details.\n",
            "  loss.backward()\n"
          ]
        }
      ]
    },
    {
      "cell_type": "code",
      "source": [
        "dummy_data = torch.randn_like(X_sample, requires_grad=True)\n",
        "dummy_label = y_sample.clone()\n",
        "optimizer_recon = torch.optim.SGD([dummy_data], lr=0.01)\n",
        "history = []\n",
        "\n",
        "for iteration in range(300):\n",
        "    optimizer_recon.zero_grad()\n",
        "    pred = raw_model(dummy_data)\n",
        "    loss_dummy = loss_fn(pred, dummy_label)\n",
        "\n",
        "    dummy_grads = torch.autograd.grad(loss_dummy, raw_model.parameters(), create_graph=True)\n",
        "\n",
        "    grad_diff = 0.0\n",
        "    for g, g_real in zip(dummy_grads, grads):\n",
        "        grad_diff += ((g - g_real)**2).sum()\n",
        "\n",
        "    grad_diff.backward()\n",
        "    optimizer_recon.step()\n",
        "\n",
        "    # ✅ Check for NaNs in reconstructed input\n",
        "    if torch.isnan(dummy_data).any():\n",
        "        print(\"❌ NaNs encountered in reconstruction — stopping early.\")\n",
        "        break\n",
        "\n",
        "    history.append(grad_diff.item())\n"
      ],
      "metadata": {
        "id": "RKkHdHhN5E2u"
      },
      "id": "RKkHdHhN5E2u",
      "execution_count": 19,
      "outputs": []
    },
    {
      "cell_type": "code",
      "source": [
        "import matplotlib.pyplot as plt\n",
        "\n",
        "plt.plot(history)\n",
        "plt.title(\"DLG Gradient Matching Loss (DP Model)\")\n",
        "plt.xlabel(\"Iterations\")\n",
        "plt.ylabel(\"Loss\")\n",
        "plt.grid(True)\n",
        "plt.show()\n",
        "\n",
        "print(\"Original sample:\", X_sample[0][:5].detach().cpu())\n",
        "print(\"Reconstructed sample:\", dummy_data[0][:5].detach().cpu())\n"
      ],
      "metadata": {
        "colab": {
          "base_uri": "https://localhost:8080/",
          "height": 508
        },
        "id": "m_49Xe6F5Jsu",
        "outputId": "1c31a288-bb81-4161-9c81-09d169940c34"
      },
      "id": "m_49Xe6F5Jsu",
      "execution_count": 20,
      "outputs": [
        {
          "output_type": "display_data",
          "data": {
            "text/plain": [
              "<Figure size 640x480 with 1 Axes>"
            ],
            "image/png": "[encoded data removed]"
          },
          "metadata": {}
        },
        {
          "output_type": "stream",
          "name": "stdout",
          "text": [
            "Original sample: tensor([1., 1., 0., 0., 1.])\n",
            "Reconstructed sample: tensor([-0.3849, -0.2844, -1.2129, -0.1093,  0.7076])\n"
          ]
        }
      ]
    },
    {
      "cell_type": "code",
      "source": [
        "#to show how far the reconstruction was\n",
        "import torch.nn.functional as F\n",
        "\n",
        "mse = F.mse_loss(dummy_data.detach(), X_sample.detach())\n",
        "print(\"MSE between original and reconstructed:\", mse.item())\n"
      ],
      "metadata": {
        "colab": {
          "base_uri": "https://localhost:8080/"
        },
        "id": "auZDBuzNWnYf",
        "outputId": "fdf20d11-b147-4c6b-8fb5-9cbd94be510c"
      },
      "id": "auZDBuzNWnYf",
      "execution_count": 21,
      "outputs": [
        {
          "output_type": "stream",
          "name": "stdout",
          "text": [
            "MSE between original and reconstructed: 22.47847557067871\n"
          ]
        }
      ]
    },
    {
      "cell_type": "code",
      "source": [
        "# Define model architecture again (same as training) for gradient leakage attack without DP\n",
        "class MLP(nn.Module):\n",
        "    def __init__(self, input_dim, num_classes):\n",
        "        super().__init__()\n",
        "        self.model = nn.Sequential(\n",
        "            nn.Linear(input_dim, 128),\n",
        "            nn.ReLU(),\n",
        "            nn.Linear(128, 64),\n",
        "            nn.ReLU(),\n",
        "            nn.Linear(64, num_classes)\n",
        "        )\n",
        "\n",
        "    def forward(self, x):\n",
        "        return self.model(x)\n",
        "\n",
        "# Initialize model for DLG simulation\n",
        "model_attack = MLP(input_dim, num_classes).to(device)\n",
        "\n",
        "# ✅ Extract raw model weights from Opacus wrapper\n",
        "raw_model = model._module\n",
        "model_attack.load_state_dict(raw_model.state_dict())\n",
        "\n",
        "model_attack.eval()\n"
      ],
      "metadata": {
        "id": "xA_zHzRxnU_S",
        "colab": {
          "base_uri": "https://localhost:8080/"
        },
        "outputId": "cce54502-75f6-4732-da9e-a7f4e9185cbc"
      },
      "id": "xA_zHzRxnU_S",
      "execution_count": 22,
      "outputs": [
        {
          "output_type": "execute_result",
          "data": {
            "text/plain": [
              "MLP(\n",
              "  (model): Sequential(\n",
              "    (0): Linear(in_features=38, out_features=128, bias=True)\n",
              "    (1): ReLU()\n",
              "    (2): Linear(in_features=128, out_features=64, bias=True)\n",
              "    (3): ReLU()\n",
              "    (4): Linear(in_features=64, out_features=5, bias=True)\n",
              "  )\n",
              ")"
            ]
          },
          "metadata": {},
          "execution_count": 22
        }
      ]
    },
    {
      "cell_type": "code",
      "source": [
        "# getting the gradients ready for DLG attack without DP\n",
        "import torch.nn as nn\n",
        "\n",
        "loss_fn = nn.CrossEntropyLoss()\n",
        "\n",
        "\n",
        "\n",
        "# Get one training batch\n",
        "X_sample, y_sample = next(iter(train_loader))\n",
        "X_sample = X_sample[:1].to(device)\n",
        "y_sample = y_sample[:1].to(device)\n",
        "# Compute gradients\n",
        "model_attack.zero_grad()\n",
        "preds = model_attack(X_sample)\n",
        "loss = loss_fn(preds, y_sample)\n",
        "loss.backward()\n",
        "\n",
        "# Save gradients\n",
        "grads = []\n",
        "for param in model_attack.parameters():\n",
        "    if param.grad is not None:\n",
        "        grads.append(param.grad.detach().clone())\n",
        "\n",
        "print(\"✅ Gradients extracted. Ready for DLG attack.\")\n"
      ],
      "metadata": {
        "id": "WhuBIvmin4na",
        "colab": {
          "base_uri": "https://localhost:8080/"
        },
        "outputId": "cd322349-d544-4982-a06b-80d953539e80"
      },
      "id": "WhuBIvmin4na",
      "execution_count": 23,
      "outputs": [
        {
          "output_type": "stream",
          "name": "stdout",
          "text": [
            "✅ Gradients extracted. Ready for DLG attack.\n"
          ]
        }
      ]
    },
    {
      "cell_type": "code",
      "source": [
        "#stimulating DLG attack without DP and HE\n",
        "from torch.optim import LBFGS\n",
        "from tqdm import tqdm\n",
        "import matplotlib.pyplot as plt\n",
        "\n",
        "dummy_data = torch.randn_like(X_sample, requires_grad=True)\n",
        "dummy_label = y_sample.clone()\n",
        "\n",
        "optimizer_recon = LBFGS([dummy_data])\n",
        "loss_fn = nn.CrossEntropyLoss()\n",
        "history = []\n",
        "\n",
        "for iteration in tqdm(range(300)):\n",
        "    def closure():\n",
        "        optimizer_recon.zero_grad()\n",
        "\n",
        "        pred = model_attack(dummy_data)\n",
        "        loss_dummy = loss_fn(pred, dummy_label)\n",
        "\n",
        "        dummy_grads = torch.autograd.grad(loss_dummy, model_attack.parameters(), create_graph=True)\n",
        "\n",
        "        # Compute gradient difference loss\n",
        "        grad_diff = 0.0\n",
        "        for i, g in enumerate(dummy_grads):\n",
        "            grad_diff += ((g - grads[i])**2).sum()\n",
        "\n",
        "        grad_diff.backward()\n",
        "        history.append(grad_diff.item())\n",
        "\n",
        "        return grad_diff\n",
        "\n",
        "    optimizer_recon.step(closure)\n",
        "\n"
      ],
      "metadata": {
        "id": "lNBwfTI4n6cb",
        "colab": {
          "base_uri": "https://localhost:8080/"
        },
        "outputId": "dd73d1cf-f074-4a02-e25c-21acc0e8b2d1"
      },
      "id": "lNBwfTI4n6cb",
      "execution_count": 24,
      "outputs": [
        {
          "output_type": "stream",
          "name": "stderr",
          "text": [
            "  0%|          | 0/300 [00:00<?, ?it/s]/usr/local/lib/python3.12/dist-packages/torch/optim/lbfgs.py:457: UserWarning: Converting a tensor with requires_grad=True to a scalar may lead to unexpected behavior.\n",
            "Consider using tensor.detach() first. (Triggered internally at /pytorch/torch/csrc/autograd/generated/python_variable_methods.cpp:835.)\n",
            "  loss = float(closure())\n",
            "100%|██████████| 300/300 [00:02<00:00, 139.45it/s]\n"
          ]
        }
      ]
    },
    {
      "cell_type": "code",
      "source": [
        "#Result\n",
        "plt.plot(history)\n",
        "plt.title(\"DLG Gradient Matching Loss\")\n",
        "plt.xlabel(\"Iterations\")\n",
        "plt.ylabel(\"Loss\")\n",
        "plt.grid(True)\n",
        "plt.show()\n",
        "\n",
        "print(\"Original input sample:\", X_sample[0][:5].detach().cpu())\n",
        "print(\"Reconstructed input:\", dummy_data[0][:5].detach().cpu())\n"
      ],
      "metadata": {
        "id": "lEoDOFOcoVt5",
        "colab": {
          "base_uri": "https://localhost:8080/",
          "height": 508
        },
        "outputId": "8b8da00b-8e0f-4720-a8ab-d69a5e2f2319"
      },
      "id": "lEoDOFOcoVt5",
      "execution_count": 25,
      "outputs": [
        {
          "output_type": "display_data",
          "data": {
            "text/plain": [
              "<Figure size 640x480 with 1 Axes>"
            ],
            "image/png": "[encoded data removed]"
          },
          "metadata": {}
        },
        {
          "output_type": "stream",
          "name": "stdout",
          "text": [
            "Original input sample: tensor([3., 2., 0., 1., 1.])\n",
            "Reconstructed input: tensor([ 3.0000e+00,  2.0000e+00, -1.9552e-06,  1.0000e+00,  1.0000e+00])\n"
          ]
        }
      ]
    },
    {
      "cell_type": "code",
      "execution_count": 26,
      "id": "a8e07f85-d896-4fce-b237-27c888a60041",
      "metadata": {
        "id": "a8e07f85-d896-4fce-b237-27c888a60041",
        "colab": {
          "base_uri": "https://localhost:8080/"
        },
        "outputId": "8df7bde4-d971-4260-aba3-7ef3e7d96cf0"
      },
      "outputs": [
        {
          "output_type": "stream",
          "name": "stdout",
          "text": [
            "\n",
            "✅ Training Accuracy: 0.7330\n",
            "✅ Validation Accuracy: 0.7456\n",
            "\n",
            "📊 Classification Report (Validation):\n",
            "                  precision    recall  f1-score   support\n",
            "\n",
            "Extremely Severe       0.92      0.84      0.88       880\n",
            "            Mild       0.45      0.82      0.58       243\n",
            "        Moderate       0.77      0.48      0.59       472\n",
            "          Normal       0.98      0.78      0.87       568\n",
            "          Severe       0.54      0.76      0.63       412\n",
            "\n",
            "        accuracy                           0.75      2575\n",
            "       macro avg       0.73      0.74      0.71      2575\n",
            "    weighted avg       0.80      0.75      0.76      2575\n",
            "\n",
            "\n",
            "🔐 Differential Privacy Epsilon: 1.01 (δ=1e-5)\n"
          ]
        }
      ],
      "source": [
        "model.eval()\n",
        "with torch.no_grad():\n",
        "    y_train_pred = model(X_train_tensor).argmax(dim=1)\n",
        "    y_val_pred = model(X_val_tensor).argmax(dim=1)\n",
        "\n",
        "train_acc = accuracy_score(y_train_tensor, y_train_pred)\n",
        "val_acc = accuracy_score(y_val_tensor, y_val_pred)\n",
        "\n",
        "print(f\"\\n✅ Training Accuracy: {train_acc:.4f}\")\n",
        "print(f\"✅ Validation Accuracy: {val_acc:.4f}\\n\")\n",
        "\n",
        "print(\"📊 Classification Report (Validation):\")\n",
        "print(classification_report(y_val_tensor, y_val_pred, target_names=[str(c) for c in le_target.classes_]))\n",
        "\n",
        "\n",
        "epsilon = privacy_engine.accountant.get_epsilon(delta=1e-5)\n",
        "print(f\"\\n🔐 Differential Privacy Epsilon: {epsilon:.2f} (δ=1e-5)\")\n",
        "\n"
      ]
    },
    {
      "cell_type": "code",
      "execution_count": 27,
      "id": "2e12f643-a772-4626-9a5f-5c3504ceb284",
      "metadata": {
        "id": "2e12f643-a772-4626-9a5f-5c3504ceb284",
        "colab": {
          "base_uri": "https://localhost:8080/",
          "height": 564
        },
        "outputId": "a6ebff42-f2c5-43a8-dd74-9f57eb4327c4"
      },
      "outputs": [
        {
          "output_type": "display_data",
          "data": {
            "text/plain": [
              "<Figure size 800x600 with 2 Axes>"
            ],
            "image/png": "[encoded data removed]"
          },
          "metadata": {}
        }
      ],
      "source": [
        "import torch\n",
        "from sklearn.metrics import confusion_matrix, ConfusionMatrixDisplay\n",
        "import matplotlib.pyplot as plt\n",
        "\n",
        "# STEP 1: Predict using the trained MLP model\n",
        "model.eval()\n",
        "with torch.no_grad():\n",
        "    y_val_logits = model(X_val_tensor)\n",
        "    y_val_pred = torch.argmax(y_val_logits, dim=1).cpu().numpy()\n",
        "\n",
        "# STEP 2: Optional - decode integer labels to original class names if you used LabelEncoder\n",
        "class_labels = [str(cls) for cls in le_target.classes_]  # Converts int64 to string labels\n",
        "\n",
        "# STEP 3: Generate the confusion matrix\n",
        "cm = confusion_matrix(y_val, y_val_pred)\n",
        "\n",
        "# STEP 4: Plot the confusion matrix\n",
        "disp = ConfusionMatrixDisplay(confusion_matrix=cm, display_labels=class_labels)\n",
        "fig, ax = plt.subplots(figsize=(8, 6))\n",
        "disp.plot(ax=ax, cmap='Blues', values_format='d')\n",
        "plt.title(\"Confusion Matrix - MLP Validation Set\")\n",
        "plt.show()\n"
      ]
    },
    {
      "cell_type": "code",
      "source": [],
      "metadata": {
        "id": "P2g7nZI6krgL"
      },
      "id": "P2g7nZI6krgL",
      "execution_count": null,
      "outputs": []
    },
    {
      "cell_type": "code",
      "source": [
        "# !apt-get update\n",
        "# !apt-get install -y cmake g++ wget git\n",
        "\n",
        "# # Install latest PyTorch (CPU-only is fine for TenSEAL)\n",
        "# !pip install torch torchvision torchaudio --index-url https://download.pytorch.org/whl/cpu\n",
        "\n"
      ],
      "metadata": {
        "id": "GIrwKJgtN9Ly"
      },
      "id": "GIrwKJgtN9Ly",
      "execution_count": null,
      "outputs": []
    },
    {
      "cell_type": "code",
      "source": [
        "# !rm -rf TenSEAL\n",
        "# !git clone https://github.com/OpenMined/TenSEAL.git\n",
        "# %cd TenSEAL\n",
        "\n",
        "# # Install pybind11 (needed for C++ binding)\n",
        "# !pip install pybind11\n"
      ],
      "metadata": {
        "id": "jkiA_ESWT7pj"
      },
      "id": "jkiA_ESWT7pj",
      "execution_count": null,
      "outputs": []
    },
    {
      "cell_type": "code",
      "source": [
        "\n",
        "# !python setup.py install\n"
      ],
      "metadata": {
        "id": "mPomXWy_UFJZ"
      },
      "id": "mPomXWy_UFJZ",
      "execution_count": null,
      "outputs": []
    },
    {
      "cell_type": "code",
      "execution_count": 28,
      "id": "b5840f93-699b-4528-819f-9ce0a0321734",
      "metadata": {
        "id": "b5840f93-699b-4528-819f-9ce0a0321734",
        "colab": {
          "base_uri": "https://localhost:8080/"
        },
        "outputId": "c3cd910b-784b-4a8e-c315-d69ee9f73f83"
      },
      "outputs": [
        {
          "output_type": "stream",
          "name": "stdout",
          "text": [
            "Collecting tenseal\n",
            "  Downloading tenseal-0.3.16-cp312-cp312-manylinux_2_27_x86_64.manylinux_2_28_x86_64.whl.metadata (8.4 kB)\n",
            "Downloading tenseal-0.3.16-cp312-cp312-manylinux_2_27_x86_64.manylinux_2_28_x86_64.whl (4.8 MB)\n",
            "\u001b[2K   \u001b[90m━━━━━━━━━━━━━━━━━━━━━━━━━━━━━━━━━━━━━━━━\u001b[0m \u001b[32m4.8/4.8 MB\u001b[0m \u001b[31m22.2 MB/s\u001b[0m eta \u001b[36m0:00:00\u001b[0m\n",
            "\u001b[?25hInstalling collected packages: tenseal\n",
            "Successfully installed tenseal-0.3.16\n"
          ]
        }
      ],
      "source": [
        "# # Run in terminal or ! in Jupyter\n",
        "!pip install tenseal"
      ]
    },
    {
      "cell_type": "code",
      "execution_count": 29,
      "id": "cff086a4-7445-419b-a254-66728cc95578",
      "metadata": {
        "id": "cff086a4-7445-419b-a254-66728cc95578"
      },
      "outputs": [],
      "source": [
        "import tenseal as ts\n",
        "import numpy as np\n",
        "import torch"
      ]
    },
    {
      "cell_type": "code",
      "execution_count": 30,
      "id": "b412b7d3-6924-4afc-b8ba-2be320b5c3e8",
      "metadata": {
        "id": "b412b7d3-6924-4afc-b8ba-2be320b5c3e8",
        "colab": {
          "base_uri": "https://localhost:8080/"
        },
        "outputId": "cba045a7-da68-47e4-cf37-e15022c28653"
      },
      "outputs": [
        {
          "output_type": "stream",
          "name": "stdout",
          "text": [
            "📈 Original Gradient (Local Model):\n",
            "[ 0.25 -0.3   0.1   0.55 -0.12]\n"
          ]
        }
      ],
      "source": [
        "# Simulate a dummy gradient from a layer (e.g., 5 parameters)\n",
        "local_gradient = torch.tensor([0.25, -0.3, 0.1, 0.55, -0.12], dtype=torch.float32)\n",
        "\n",
        "print(\"📈 Original Gradient (Local Model):\")\n",
        "print(local_gradient.numpy())\n"
      ]
    },
    {
      "cell_type": "code",
      "execution_count": null,
      "id": "2087c1ec-ccf0-4f35-aeaa-4e434c3d53c2",
      "metadata": {
        "id": "2087c1ec-ccf0-4f35-aeaa-4e434c3d53c2"
      },
      "outputs": [],
      "source": [
        "# # CKKS encryption context setup\n",
        "# context = ts.context(\n",
        "#     ts.SCHEME_TYPE.CKKS,\n",
        "#     poly_modulus_degree=8192,\n",
        "#     coeff_mod_bit_sizes=[60, 40, 40, 60]\n",
        "# )\n",
        "# context.generate_galois_keys()\n",
        "# context.global_scale = 2**40\n",
        "\n",
        "# # Save public & secret key (just for simulation; normally private key stays secure)\n",
        "# public_context = context.copy()  # This is what would be shared with the server\n",
        "# public_context.make_context_public()  # Only allows encryption\n",
        "\n"
      ]
    },
    {
      "cell_type": "code",
      "execution_count": 31,
      "id": "ff6ff501-8832-4b23-885b-322e9cd60d59",
      "metadata": {
        "id": "ff6ff501-8832-4b23-885b-322e9cd60d59"
      },
      "outputs": [],
      "source": [
        "def encrypt_gradients_from_model(model, X_batch, y_batch, loss_fn, context):\n",
        "    model.train()\n",
        "    model.zero_grad()\n",
        "\n",
        "    outputs = model(X_batch)\n",
        "    loss = loss_fn(outputs, y_batch)\n",
        "    loss.backward()\n",
        "\n",
        "    encrypted_grads = {}\n",
        "\n",
        "    for name, param in model.named_parameters():\n",
        "        if param.requires_grad and param.grad is not None:\n",
        "            grad = param.grad.view(-1).detach().cpu().numpy()\n",
        "            enc_grad = ts.ckks_vector(context, grad.tolist())\n",
        "            encrypted_grads[name] = enc_grad\n",
        "\n",
        "            print(f\"\\n Layer: {name}\")\n",
        "            print(f\"Original Gradient Sample: {grad[:5]}\")\n",
        "            print(f\"Encrypted Gradient Sample (decrypted view): {enc_grad.decrypt()[:5]}\")\n",
        "\n",
        "    return encrypted_grads"
      ]
    },
    {
      "cell_type": "code",
      "execution_count": null,
      "id": "fbf855fd-2ca9-4966-b6af-5911c721f6f6",
      "metadata": {
        "id": "fbf855fd-2ca9-4966-b6af-5911c721f6f6"
      },
      "outputs": [],
      "source": [
        "# import torch.nn as nn\n",
        "\n",
        "# loss_fn = nn.CrossEntropyLoss()\n",
        "\n",
        "# # Get one batch from your train loader\n",
        "# X_sample, y_sample = next(iter(train_loader))\n",
        "# X_sample, y_sample = X_sample.to(device), y_sample.to(device)\n",
        "\n",
        "# # Run encryption on gradients\n",
        "# encrypted_grads = encrypt_gradients_from_model(model, X_sample, y_sample, loss_fn, context)\n"
      ]
    },
    {
      "cell_type": "code",
      "source": [
        "#encrypt the gradints and get get one sampple for DLG attack\n",
        "import tenseal as ts\n",
        "\n",
        "# Setup HE context\n",
        "context = ts.context(\n",
        "    ts.SCHEME_TYPE.CKKS,\n",
        "    poly_modulus_degree=8192,\n",
        "    coeff_mod_bit_sizes=[60, 40, 40, 60]\n",
        ")\n",
        "context.generate_galois_keys()\n",
        "context.global_scale = 2**40\n",
        "public_context = context.copy()\n",
        "public_context.make_context_public()\n",
        "\n",
        "# Get one batch\n",
        "X_sample, y_sample = next(iter(train_loader))\n",
        "X_sample = X_sample[:1].to(device)\n",
        "y_sample = y_sample[:1].to(device)\n",
        "\n",
        "# Encrypt gradients\n",
        "encrypted_grads = encrypt_gradients_from_model(model_attack, X_sample, y_sample, loss_fn, context)\n"
      ],
      "metadata": {
        "id": "a1WBamNNwVvd",
        "colab": {
          "base_uri": "https://localhost:8080/"
        },
        "outputId": "5ac94136-ccd3-4428-a83c-f72bb2a3fa15"
      },
      "id": "a1WBamNNwVvd",
      "execution_count": 32,
      "outputs": [
        {
          "output_type": "stream",
          "name": "stdout",
          "text": [
            "WARNING: The input does not fit in a single ciphertext, and some operations will be disabled.\n",
            "The following operations are disabled in this setup: matmul, matmul_plain, enc_matmul_plain, conv2d_im2col.\n",
            "If you need to use those operations, try increasing the poly_modulus parameter, to fit your input.\n",
            "\n",
            " Layer: model.0.weight\n",
            "Original Gradient Sample: [0. 0. 0. 0. 0.]\n",
            "Encrypted Gradient Sample (decrypted view): [1.7735353604025328e-10, -6.263102253820052e-11, -1.0040309235508157e-09, -1.088105011885723e-09, 5.107853476662462e-10]\n",
            "\n",
            " Layer: model.0.bias\n",
            "Original Gradient Sample: [ 0.         -0.00016253 -0.00032509  0.         -0.00019354]\n",
            "Encrypted Gradient Sample (decrypted view): [5.560822145501873e-10, -0.00016253368408568295, -0.00032509084678076334, -6.186736124998106e-10, -0.00019353552474023767]\n",
            "WARNING: The input does not fit in a single ciphertext, and some operations will be disabled.\n",
            "The following operations are disabled in this setup: matmul, matmul_plain, enc_matmul_plain, conv2d_im2col.\n",
            "If you need to use those operations, try increasing the poly_modulus parameter, to fit your input.\n",
            "\n",
            " Layer: model.2.weight\n",
            "Original Gradient Sample: [-0.         -0.00093766 -0.00234702 -0.         -0.00365927]\n",
            "Encrypted Gradient Sample (decrypted view): [4.442679880813891e-10, -0.0009376659140879319, -0.0023470156857545114, -1.987301062538354e-10, -0.0036592637379162254]\n",
            "\n",
            " Layer: model.2.bias\n",
            "Original Gradient Sample: [-0.00056431  0.          0.          0.          0.00020242]\n",
            "Encrypted Gradient Sample (decrypted view): [-0.0005643089787603054, -1.011284403390552e-09, 1.6610134981273666e-09, -6.537569460504332e-10, 0.00020242078127602435]\n",
            "\n",
            " Layer: model.4.weight\n",
            "Original Gradient Sample: [-0.01503486 -0.         -0.         -0.         -0.00046687]\n",
            "Encrypted Gradient Sample (decrypted view): [-0.015034862513708301, 4.41386926748899e-10, 1.1336939412757094e-09, -8.987556630386217e-10, -0.0004668712710141095]\n",
            "\n",
            " Layer: model.4.bias\n",
            "Original Gradient Sample: [-1.5405416e-03  4.3644165e-14  2.8431215e-08  5.6882973e-30\n",
            "  1.5405717e-03]\n",
            "Encrypted Gradient Sample (decrypted view): [-0.0015405410486616028, 5.4638134836838825e-11, 3.055772539119119e-08, -1.005546556423257e-09, 0.0015405726539682845]\n"
          ]
        }
      ]
    },
    {
      "cell_type": "code",
      "source": [
        "# Simulate attacker trying to use encrypted_grads\n",
        "for name, enc_grad in encrypted_grads.items():\n",
        "    print(f\"Encrypted gradient for {name}:\")\n",
        "    print(enc_grad.serialize()[:60], \"...\")  # Just to show it's ciphertext\n"
      ],
      "metadata": {
        "id": "XLpmtwaBw1CG",
        "colab": {
          "base_uri": "https://localhost:8080/"
        },
        "outputId": "d73e0709-a489-4bfe-9665-7c73be4f848e"
      },
      "id": "XLpmtwaBw1CG",
      "execution_count": 33,
      "outputs": [
        {
          "output_type": "stream",
          "name": "stdout",
          "text": [
            "Encrypted gradient for model.0.weight:\n",
            "b'\\n\\x04\\x80 \\x80\\x06\\x12\\xe2\\xb4\\x14^\\xa1\\x10\\x04\\x01\\x02\\x00\\x00b\\x1a\\x05\\x00\\x00\\x00\\x00\\x00(\\xb5/\\xfd\\xa0a\\x00\\x06\\x00\\xb4Z\\x0e\\x8e\\xfd_\\xd1r-\\x10\\xa0\\xbcf\\\\bn\\xa6\\xab\\xe8A&p0i)' ...\n",
            "Encrypted gradient for model.0.bias:\n",
            "b'\\n\\x02\\x80\\x01\\x12\\x95\\xb2\\x14^\\xa1\\x10\\x04\\x01\\x02\\x00\\x00\\x15\\x19\\x05\\x00\\x00\\x00\\x00\\x00(\\xb5/\\xfd\\xa0a\\x00\\x06\\x00\\x84[\\x0e\\x8e\\xfd\\xdf\\xd7r-\\x10\\xa0\\xbcf\\xf6\\xf3\\xb8>\\xf0S\\xc3\\xd4M\\xc5\\xeb\\xdc(\\x98' ...\n",
            "Encrypted gradient for model.2.weight:\n",
            "b'\\n\\x04\\x80 \\x80 \\x12\\xd1\\xb2\\x14^\\xa1\\x10\\x04\\x01\\x02\\x00\\x00Q\\x19\\x05\\x00\\x00\\x00\\x00\\x00(\\xb5/\\xfd\\xa0a\\x00\\x06\\x00\\x0c\\\\\\x0e\\x8e\\xfd\\x1f\\xdcr.\\x10\\xa0\\xbcf\\x07\\x92\\x97[\\xb1\\xd9p\\x04\\xbf\\x16Mb' ...\n",
            "Encrypted gradient for model.2.bias:\n",
            "b'\\n\\x01@\\x12\\x8f\\xac\\x14^\\xa1\\x10\\x04\\x01\\x02\\x00\\x00\\x0f\\x16\\x05\\x00\\x00\\x00\\x00\\x00(\\xb5/\\xfd\\xa0a\\x00\\x06\\x00\\xfc[\\x0e\\x8e\\xfd\\x9f\\xdbr.\\x10\\xa0\\xbcf\\x8e$\\xe0i\\xbc\\xe1\\xd1\\x06\\x8c\\x0c\\x19\\xb8\\x1fX\\x11' ...\n",
            "Encrypted gradient for model.4.weight:\n",
            "b'\\n\\x02\\xc0\\x02\\x12\\xd5\\xb0\\x14^\\xa1\\x10\\x04\\x01\\x02\\x00\\x00U\\x18\\x05\\x00\\x00\\x00\\x00\\x00(\\xb5/\\xfd\\xa0a\\x00\\x06\\x00\\x8c[\\x0e\\x8e\\xfd\\x1f\\xd8r-\\x10\\xa0\\xbcf\\xac\\xe5\\x81=\\xc7\\xe0\\\\\\x15b\\xc9\\xee\\x04\\xc6I' ...\n",
            "Encrypted gradient for model.4.bias:\n",
            "b'\\n\\x01\\x05\\x12\\xc0\\xb4\\x14^\\xa1\\x10\\x04\\x01\\x02\\x00\\x00@\\x1a\\x05\\x00\\x00\\x00\\x00\\x00(\\xb5/\\xfd\\xa0a\\x00\\x06\\x00$[\\x0e\\x8e\\xfd\\xdf\\xd4r-\\x10\\xa0\\xbcf\\x96v\\x9cX0A\\x9bI\\x08!6\\xfb\\xba\\x1e\\xb0' ...\n"
          ]
        }
      ]
    }
  ],
  "metadata": {
    "kernelspec": {
      "display_name": "Python 3 (ipykernel)",
      "language": "python",
      "name": "python3"
    },
    "language_info": {
      "codemirror_mode": {
        "name": "ipython",
        "version": 3
      },
      "file_extension": ".py",
      "mimetype": "text/x-python",
      "name": "python",
      "nbconvert_exporter": "python",
      "pygments_lexer": "ipython3",
      "version": "3.13.2"
    },
    "colab": {
      "provenance": [],
      "include_colab_link": true
    }
  },
  "nbformat": 4,
  "nbformat_minor": 5
}
