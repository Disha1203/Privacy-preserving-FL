{
  "nbformat": 4,
  "nbformat_minor": 0,
  "metadata": {
    "colab": {
      "provenance": [],
      "authorship_tag": "ABX9TyOCBq1F74bvPJPGSyt8iXIx",
      "include_colab_link": true
    },
    "kernelspec": {
      "name": "python3",
      "display_name": "Python 3"
    },
    "language_info": {
      "name": "python"
    }
  },
  "cells": [
    {
      "cell_type": "markdown",
      "metadata": {
        "id": "view-in-github",
        "colab_type": "text"
      },
      "source": [
        "<a href=\"https://colab.research.google.com/github/Disha1203/Privacy-preserving-FL/blob/main/FL_non_iid.ipynb\" target=\"_parent\"><img src=\"https://colab.research.google.com/assets/colab-badge.svg\" alt=\"Open In Colab\"/></a>"
      ]
    },
    {
      "cell_type": "code",
      "execution_count": null,
      "metadata": {
        "id": "SxgBySJCiyt8"
      },
      "outputs": [],
      "source": [
        "!pip uninstall -y ray flwr\n",
        "!pip install -U \"ray==2.31.0\" \"flwr[simulation]==1.12.0\" imbalanced-learn"
      ]
    },
    {
      "cell_type": "code",
      "source": [
        "import os\n",
        "import random\n",
        "import numpy as np\n",
        "import pandas as pd\n",
        "from collections import defaultdict\n",
        "import torch\n",
        "import torch.nn as nn\n",
        "import torch.nn.functional as F\n",
        "from torch.utils.data import DataLoader, TensorDataset\n",
        "from sklearn.impute import SimpleImputer\n",
        "from sklearn.preprocessing import StandardScaler\n",
        "from sklearn.metrics import classification_report, roc_curve, auc\n",
        "import matplotlib.pyplot as plt\n",
        "import flwr as fl\n",
        "from flwr.common import parameters_to_ndarrays"
      ],
      "metadata": {
        "colab": {
          "base_uri": "https://localhost:8080/"
        },
        "id": "FC2PFb2oj2p_",
        "outputId": "6e18fed0-4b61-4357-9b75-2c9acf2a34a6"
      },
      "execution_count": 1,
      "outputs": [
        {
          "output_type": "stream",
          "name": "stderr",
          "text": [
            "/usr/local/lib/python3.12/dist-packages/jupyter_client/session.py:203: DeprecationWarning: datetime.datetime.utcnow() is deprecated and scheduled for removal in a future version. Use timezone-aware objects to represent datetimes in UTC: datetime.datetime.now(datetime.UTC).\n",
            "  return datetime.utcnow().replace(tzinfo=utc)\n"
          ]
        }
      ]
    },
    {
      "cell_type": "code",
      "source": [
        "# -----------------------\n",
        "# Reproducibility\n",
        "# -----------------------\n",
        "SEED = 42\n",
        "random.seed(SEED)\n",
        "np.random.seed(SEED)\n",
        "torch.manual_seed(SEED)\n",
        "if torch.cuda.is_available():\n",
        "    torch.cuda.manual_seed_all(SEED)\n"
      ],
      "metadata": {
        "id": "07owWTpgj5rf"
      },
      "execution_count": 2,
      "outputs": []
    },
    {
      "cell_type": "code",
      "source": [
        "# -----------------------\n",
        "# Config - hyperparams you can tune\n",
        "# -----------------------\n",
        "LOG_DIR = \"logs\"\n",
        "os.makedirs(LOG_DIR, exist_ok=True)\n",
        "DEVICE = \"cuda\" if torch.cuda.is_available() else \"cpu\"\n",
        "\n",
        "NUM_CLIENTS = 4\n",
        "NUM_ROUNDS = 5        # increase for real runs\n",
        "EPOCHS_PER_CLIENT = 3\n",
        "BATCH_SIZE = 32\n",
        "LR = 0.001\n",
        "\n",
        "# FedProx specific\n",
        "MU = 0.01               # proximal term coefficient (tune: 0.0 = FedAvg, 0.01, 0.1, 1.0)\n",
        "\n",
        "# Non-IID split\n",
        "NONIID_STRATEGY = \"dirichlet\"   # \"dirichlet\" or \"shard\"\n",
        "DIRICHLET_ALPHA = 0.5        # smaller => more skew (try 0.1, 0.5, 1.0)\n",
        "\n",
        "# Dataset path (upload Dataset.csv into /content)\n",
        "DATA_PATH = \"/content/Dataset.csv\"\n",
        "\n",
        "print(\"Device:\", DEVICE)"
      ],
      "metadata": {
        "colab": {
          "base_uri": "https://localhost:8080/"
        },
        "id": "zgerDm9cj9EJ",
        "outputId": "197e5031-339c-4977-f8e0-c6c0c5741007"
      },
      "execution_count": 23,
      "outputs": [
        {
          "output_type": "stream",
          "name": "stdout",
          "text": [
            "Device: cpu\n"
          ]
        }
      ]
    },
    {
      "cell_type": "code",
      "source": [
        "# -----------------------\n",
        "# Load dataset (keeps your patient-id split logic)\n",
        "# -----------------------\n",
        "combined = pd.read_csv(DATA_PATH)\n",
        "df_train = combined[combined['Patient_ID'].apply(lambda x: len(str(x)) != 6)].copy()\n",
        "df_test = combined[combined['Patient_ID'].apply(lambda x: len(str(x)) == 6)].copy()\n",
        "df_train.dropna(subset=['SepsisLabel'], inplace=True)\n",
        "df_test.dropna(subset=['SepsisLabel'], inplace=True)\n",
        "\n",
        "# Undersampling majority class (as you used)\n",
        "minority_class = df_train[df_train['SepsisLabel'] == 1]\n",
        "majority_class = df_train[df_train['SepsisLabel'] == 0]\n",
        "majority_class_subset = majority_class.sample(n=3 * len(minority_class), random_state=SEED)\n",
        "df_train_balanced = pd.concat([majority_class_subset, minority_class]).sample(frac=1, random_state=SEED).reset_index(drop=True)\n",
        "\n",
        "X_train = df_train_balanced.drop(columns=['SepsisLabel', 'Patient_ID'])\n",
        "y_train = df_train_balanced['SepsisLabel'].values.astype(int)\n",
        "X_test = df_test.drop(columns=['SepsisLabel', 'Patient_ID'])\n",
        "y_test = df_test['SepsisLabel'].values.astype(int)\n",
        "\n",
        "# Impute & scale\n",
        "imputer = SimpleImputer(strategy='mean')\n",
        "X_train = imputer.fit_transform(X_train)\n",
        "X_test = imputer.transform(X_test)\n",
        "scaler = StandardScaler()\n",
        "X_train = scaler.fit_transform(X_train)\n",
        "X_test = scaler.transform(X_test)\n",
        "\n",
        "print(\"Balanced train class counts:\", np.bincount(y_train))\n",
        "print(\"Train shape:\", X_train.shape, \"Test shape:\", X_test.shape)"
      ],
      "metadata": {
        "colab": {
          "base_uri": "https://localhost:8080/"
        },
        "id": "2RUn-eVYj9wb",
        "outputId": "94a2aec9-d3ea-415f-eb27-c12f50719473"
      },
      "execution_count": 24,
      "outputs": [
        {
          "output_type": "stream",
          "name": "stderr",
          "text": [
            "/usr/local/lib/python3.12/dist-packages/sklearn/impute/_base.py:635: UserWarning: Skipping features without any observed values: ['EtCO2']. At least one non-missing value is needed for imputation with strategy='mean'.\n",
            "  warnings.warn(\n",
            "/usr/local/lib/python3.12/dist-packages/jupyter_client/session.py:203: DeprecationWarning: datetime.datetime.utcnow() is deprecated and scheduled for removal in a future version. Use timezone-aware objects to represent datetimes in UTC: datetime.datetime.now(datetime.UTC).\n",
            "  return datetime.utcnow().replace(tzinfo=utc)\n",
            "/usr/local/lib/python3.12/dist-packages/sklearn/impute/_base.py:635: UserWarning: Skipping features without any observed values: ['EtCO2']. At least one non-missing value is needed for imputation with strategy='mean'.\n",
            "  warnings.warn(\n"
          ]
        },
        {
          "output_type": "stream",
          "name": "stdout",
          "text": [
            "Balanced train class counts: [51408 17136]\n",
            "Train shape: (68544, 41) Test shape: (761995, 41)\n"
          ]
        },
        {
          "output_type": "stream",
          "name": "stderr",
          "text": [
            "/usr/local/lib/python3.12/dist-packages/jupyter_client/session.py:203: DeprecationWarning: datetime.datetime.utcnow() is deprecated and scheduled for removal in a future version. Use timezone-aware objects to represent datetimes in UTC: datetime.datetime.now(datetime.UTC).\n",
            "  return datetime.utcnow().replace(tzinfo=utc)\n"
          ]
        }
      ]
    },
    {
      "cell_type": "code",
      "source": [
        "# -----------------------\n",
        "# Non-IID split helpers\n",
        "# -----------------------\n",
        "def create_dirichlet_split(y, num_clients=4, alpha=0.2, min_size=10, seed=SEED):\n",
        "    np.random.seed(seed)\n",
        "    labels = np.array(y)\n",
        "    num_classes = labels.max() + 1\n",
        "    while True:\n",
        "        client_indices = [[] for _ in range(num_clients)]\n",
        "        for c in range(num_classes):\n",
        "            idx_c = np.where(labels == c)[0]\n",
        "            if len(idx_c) == 0:\n",
        "                continue\n",
        "            props = np.random.dirichlet(alpha=[alpha] * num_clients)\n",
        "            props = props / props.sum()\n",
        "            counts = (props * len(idx_c)).astype(int)\n",
        "            while counts.sum() < len(idx_c):\n",
        "                counts[np.random.choice(num_clients)] += 1\n",
        "            np.random.shuffle(idx_c)\n",
        "            start = 0\n",
        "            for client_id, cnt in enumerate(counts):\n",
        "                if cnt > 0:\n",
        "                    sel = idx_c[start:start+cnt]\n",
        "                    client_indices[client_id].extend(sel.tolist())\n",
        "                    start += cnt\n",
        "        sizes = [len(x) for x in client_indices]\n",
        "        if min(sizes) >= min_size:\n",
        "            break\n",
        "    return client_indices\n",
        "\n",
        "def create_shard_split(y, num_clients=4, shards_per_client=2, seed=SEED):\n",
        "    np.random.seed(seed)\n",
        "    labels = np.array(y)\n",
        "    num_shards = num_clients * shards_per_client\n",
        "    idxs = np.arange(len(labels))\n",
        "    idxs = idxs[np.argsort(labels)]\n",
        "    shard_size = len(labels) // num_shards\n",
        "    shards = [idxs[i*shard_size:(i+1)*shard_size].tolist() for i in range(num_shards)]\n",
        "    remainder = len(labels) - shard_size * num_shards\n",
        "    if remainder > 0:\n",
        "        shards[-1].extend(idxs[-remainder:].tolist())\n",
        "    np.random.shuffle(shards)\n",
        "    client_indices = []\n",
        "    for i in range(num_clients):\n",
        "        assigned = []\n",
        "        for s in range(shards_per_client):\n",
        "            assigned.extend(shards[i*shards_per_client + s])\n",
        "        client_indices.append(assigned)\n",
        "    return client_indices\n",
        "\n",
        "# Create splits\n",
        "if NONIID_STRATEGY == \"dirichlet\":\n",
        "    indices_per_client = create_dirichlet_split(y_train, num_clients=NUM_CLIENTS, alpha=DIRICHLET_ALPHA)\n",
        "else:\n",
        "    indices_per_client = create_shard_split(y_train, num_clients=NUM_CLIENTS, shards_per_client=2)\n",
        "\n",
        "client_datasets = []\n",
        "for inds in indices_per_client:\n",
        "    Xc = X_train[inds]\n",
        "    yc = y_train[inds]\n",
        "    ds = TensorDataset(torch.tensor(Xc, dtype=torch.float32),\n",
        "                       torch.tensor(yc, dtype=torch.long))\n",
        "    client_datasets.append(ds)\n",
        "\n",
        "client_loaders = [DataLoader(ds, batch_size=BATCH_SIZE, shuffle=True) for ds in client_datasets]\n",
        "test_dataset = TensorDataset(torch.tensor(X_test, dtype=torch.float32),\n",
        "                             torch.tensor(y_test, dtype=torch.long))\n",
        "test_loader = DataLoader(test_dataset, batch_size=BATCH_SIZE, shuffle=False)\n",
        "\n",
        "print(f\"Non-IID strategy: {NONIID_STRATEGY} (alpha={DIRICHLET_ALPHA})\")\n",
        "print(\"Samples per client:\", [len(ds) for ds in client_datasets])\n",
        "for i, ds in enumerate(client_datasets):\n",
        "    ys = np.array([int(y) for _, y in ds])\n",
        "    print(f\" Client {i} class counts:\", np.bincount(ys, minlength=2))\n"
      ],
      "metadata": {
        "colab": {
          "base_uri": "https://localhost:8080/"
        },
        "id": "mo0XMCOAlDRf",
        "outputId": "ac3a8d7f-a73c-4fb0-eea6-5de7ae979ee6"
      },
      "execution_count": 25,
      "outputs": [
        {
          "output_type": "stream",
          "name": "stdout",
          "text": [
            "Non-IID strategy: dirichlet (alpha=0.5)\n",
            "Samples per client: [24578, 42026, 1519, 421]\n",
            " Client 0 class counts: [ 8719 15859]\n",
            " Client 1 class counts: [40965  1061]\n",
            " Client 2 class counts: [1513    6]\n",
            " Client 3 class counts: [211 210]\n"
          ]
        }
      ]
    },
    {
      "cell_type": "code",
      "source": [
        "# -----------------------\n",
        "# Model and loss\n",
        "# -----------------------\n",
        "NUM_FEATURES = X_train.shape[1]\n",
        "NUM_CLASSES = 2\n",
        "\n",
        "class SepsisNet(nn.Module):\n",
        "    def __init__(self, num_features=NUM_FEATURES, num_classes=NUM_CLASSES):\n",
        "        super().__init__()\n",
        "        self.fc1 = nn.Linear(num_features, 128)\n",
        "        self.dropout1 = nn.Dropout(0.3)\n",
        "        self.fc2 = nn.Linear(128, 64)\n",
        "        self.dropout2 = nn.Dropout(0.3)\n",
        "        self.fc3 = nn.Linear(64, num_classes)\n",
        "\n",
        "    def forward(self, x):\n",
        "        x = F.relu(self.fc1(x))\n",
        "        x = self.dropout1(x)\n",
        "        x = F.relu(self.fc2(x))\n",
        "        x = self.dropout2(x)\n",
        "        return self.fc3(x)\n",
        "\n",
        "class FocalLoss(nn.Module):\n",
        "    def __init__(self, alpha=0.95, gamma=2):\n",
        "        super().__init__()\n",
        "        self.alpha = alpha\n",
        "        self.gamma = gamma\n",
        "        self.ce = nn.CrossEntropyLoss(reduction=\"none\")\n",
        "    def forward(self, logits, targets):\n",
        "        ce_loss = self.ce(logits, targets)\n",
        "        pt = torch.exp(-ce_loss)\n",
        "        focal_loss = self.alpha * (1 - pt) ** self.gamma * ce_loss\n",
        "        return focal_loss.mean()\n",
        "\n",
        "# -----------------------\n",
        "# Utility to save global model\n",
        "# -----------------------\n",
        "def save_state_from_ndarrays(ndarrays, path):\n",
        "    model = SepsisNet()\n",
        "    keys = list(model.state_dict().keys())\n",
        "    state_dict = {k: torch.tensor(p) for k, p in zip(keys, ndarrays)}\n",
        "    torch.save(state_dict, path)\n"
      ],
      "metadata": {
        "id": "sF-JEYTelLuy"
      },
      "execution_count": 26,
      "outputs": []
    },
    {
      "cell_type": "code",
      "source": [
        "# -----------------------\n",
        "# FedProx client (NumPyClient)\n",
        "# -----------------------\n",
        "class SepsisClientFedProx(fl.client.NumPyClient):\n",
        "    def __init__(self, model, trainloader, testloader, cid, mu=MU):\n",
        "        self.model = model\n",
        "        self.trainloader = trainloader\n",
        "        self.testloader = testloader\n",
        "        self.cid = cid\n",
        "        self.mu = mu\n",
        "\n",
        "    def get_parameters(self, config):\n",
        "        return [val.cpu().numpy() for val in self.model.state_dict().values()]\n",
        "\n",
        "    def set_parameters(self, parameters):\n",
        "        state_dict = dict(zip(self.model.state_dict().keys(),\n",
        "                              [torch.tensor(p) for p in parameters]))\n",
        "        self.model.load_state_dict(state_dict, strict=True)\n",
        "\n",
        "    def fit(self, parameters, config):\n",
        "        # Set model to global params\n",
        "        self.set_parameters(parameters)\n",
        "        # Make a copy of global parameters for the proximal term\n",
        "        global_params = [p.detach().clone().to(DEVICE) for p in self.model.parameters()]\n",
        "\n",
        "        self.model.to(DEVICE)\n",
        "        self.model.train()\n",
        "\n",
        "        optimizer = torch.optim.Adam(self.model.parameters(), lr=LR)\n",
        "        criterion = FocalLoss(alpha=0.75, gamma=2)\n",
        "\n",
        "        for _ in range(EPOCHS_PER_CLIENT):\n",
        "            for xb, yb in self.trainloader:\n",
        "                xb, yb = xb.to(DEVICE), yb.to(DEVICE)\n",
        "                optimizer.zero_grad()\n",
        "                logits = self.model(xb)\n",
        "                task_loss = criterion(logits, yb)\n",
        "\n",
        "                # Proximal term: (mu / 2) * sum ||w - w_global||^2\n",
        "                prox_reg = torch.tensor(0.0, device=DEVICE)\n",
        "                for w, w_g in zip(self.model.parameters(), global_params):\n",
        "                    prox_reg = prox_reg + torch.norm(w - w_g) ** 2\n",
        "                prox_reg = (self.mu / 2.0) * prox_reg\n",
        "\n",
        "                loss = task_loss + prox_reg\n",
        "                loss.backward()\n",
        "                optimizer.step()\n",
        "\n",
        "        # Optional: dump outputs for attack evaluation (kept minimal)\n",
        "        try:\n",
        "            dump_outputs(self.model, self.trainloader, f\"{LOG_DIR}/client_{self.cid}_train_outputs_round{config.get('round',0)}\")\n",
        "            dump_outputs(self.model, self.testloader, f\"{LOG_DIR}/client_{self.cid}_test_outputs_round{config.get('round',0)}\")\n",
        "        except Exception:\n",
        "            pass\n",
        "\n",
        "        return self.get_parameters(config={}), len(self.trainloader.dataset), {}\n",
        "\n",
        "    def evaluate(self, parameters, config):\n",
        "        self.set_parameters(parameters)\n",
        "        self.model.to(DEVICE).eval()\n",
        "        crit = nn.CrossEntropyLoss()\n",
        "        total_loss, correct, total = 0.0, 0, 0\n",
        "        with torch.no_grad():\n",
        "            for x, y in self.testloader:\n",
        "                x, y = x.to(DEVICE), y.to(DEVICE)\n",
        "                out = self.model(x)\n",
        "                total_loss += crit(out, y).item()\n",
        "                pred = out.argmax(dim=1)\n",
        "                correct += (pred == y).sum().item()\n",
        "                total += y.size(0)\n",
        "        acc = correct / total if total > 0 else 0.0\n",
        "        return total_loss / len(self.testloader), total, {\"accuracy\": acc}"
      ],
      "metadata": {
        "id": "3S7TuSO2lP0T"
      },
      "execution_count": 27,
      "outputs": []
    },
    {
      "cell_type": "code",
      "source": [
        "# -----------------------\n",
        "# Dump outputs helper (same as earlier)\n",
        "# -----------------------\n",
        "def dump_outputs(model, loader, path_prefix):\n",
        "    model.eval()\n",
        "    all_probs = []\n",
        "    all_labels = []\n",
        "    with torch.no_grad():\n",
        "        for xb, yb in loader:\n",
        "            xb = xb.to(DEVICE)\n",
        "            outputs = model(xb)\n",
        "            probs = F.softmax(outputs, dim=1).cpu().numpy()[:, 1]\n",
        "            all_probs.append(probs)\n",
        "            all_labels.append(yb.numpy())\n",
        "    if all_probs:\n",
        "        probs = np.concatenate(all_probs)\n",
        "        labels = np.concatenate(all_labels)\n",
        "    else:\n",
        "        probs = np.zeros((0,))\n",
        "        labels = np.zeros((0,), dtype=int)\n",
        "    np.savez_compressed(f\"{path_prefix}.npz\", probs=probs, labels=labels)\n",
        "    return f\"{path_prefix}.npz\""
      ],
      "metadata": {
        "id": "zTZEggPjlTPF"
      },
      "execution_count": 28,
      "outputs": []
    },
    {
      "cell_type": "code",
      "source": [
        "# -----------------------\n",
        "# Server strategy (use FedAvg aggregation, only clients change)\n",
        "# -----------------------\n",
        "class LoggingFedAvg(fl.server.strategy.FedAvg):\n",
        "    def aggregate_fit(self, rnd, results, failures):\n",
        "        aggregated = super().aggregate_fit(rnd, results, failures)\n",
        "        if aggregated is None:\n",
        "            return None\n",
        "        parameters, num_examples = aggregated\n",
        "        try:\n",
        "            ndarrays = parameters_to_ndarrays(parameters)\n",
        "            save_path = os.path.join(LOG_DIR, f\"global_model_round{rnd}.pth\")\n",
        "            save_state_from_ndarrays(ndarrays, save_path)\n",
        "            print(f\"Saved global model round {rnd} -> {save_path}\")\n",
        "        except Exception as e:\n",
        "            print(\"Warning: could not save global model:\", e)\n",
        "        return aggregated\n",
        "\n",
        "# -----------------------\n",
        "# Client factory\n",
        "# -----------------------\n",
        "def client_fn(cid: str):\n",
        "    model = SepsisNet()\n",
        "    cid_int = int(cid)\n",
        "    return SepsisClientFedProx(model, client_loaders[cid_int], test_loader, cid, mu=MU)\n"
      ],
      "metadata": {
        "id": "cyq8KYlflVw4"
      },
      "execution_count": 29,
      "outputs": []
    },
    {
      "cell_type": "code",
      "source": [
        "# -----------------------\n",
        "# Start FL simulation\n",
        "# -----------------------\n",
        "strategy = LoggingFedAvg()\n",
        "fl.simulation.start_simulation(\n",
        "    client_fn=client_fn,\n",
        "    num_clients=NUM_CLIENTS,\n",
        "    config=fl.server.ServerConfig(num_rounds=NUM_ROUNDS),\n",
        "    strategy=strategy,\n",
        ")"
      ],
      "metadata": {
        "colab": {
          "base_uri": "https://localhost:8080/"
        },
        "id": "RS1xzVNnlZwm",
        "outputId": "c704df7c-aa41-4020-e683-4073c7581c8b"
      },
      "execution_count": 30,
      "outputs": [
        {
          "output_type": "stream",
          "name": "stderr",
          "text": [
            "\u001b[92mINFO \u001b[0m:      Starting Flower simulation, config: num_rounds=5, no round_timeout\n",
            "/usr/local/lib/python3.12/dist-packages/jupyter_client/session.py:203: DeprecationWarning: datetime.datetime.utcnow() is deprecated and scheduled for removal in a future version. Use timezone-aware objects to represent datetimes in UTC: datetime.datetime.now(datetime.UTC).\n",
            "  return datetime.utcnow().replace(tzinfo=utc)\n",
            "2025-10-18 14:22:26,768\tINFO worker.py:1771 -- Started a local Ray instance.\n",
            "\u001b[92mINFO \u001b[0m:      Flower VCE: Ray initialized with resources: {'CPU': 2.0, 'node:__internal_head__': 1.0, 'node:172.28.0.12': 1.0, 'object_store_memory': 3931125350.0, 'memory': 7862250702.0}\n",
            "\u001b[92mINFO \u001b[0m:      Optimize your simulation with Flower VCE: https://flower.ai/docs/framework/how-to-run-simulations.html\n",
            "\u001b[92mINFO \u001b[0m:      No `client_resources` specified. Using minimal resources for clients.\n",
            "\u001b[92mINFO \u001b[0m:      Flower VCE: Resources for each Virtual Client: {'num_cpus': 1, 'num_gpus': 0.0}\n",
            "\u001b[92mINFO \u001b[0m:      Flower VCE: Creating VirtualClientEngineActorPool with 2 actors\n",
            "\u001b[92mINFO \u001b[0m:      [INIT]\n",
            "\u001b[92mINFO \u001b[0m:      Requesting initial parameters from one random client\n",
            "\u001b[36m(pid=10844)\u001b[0m 2025-10-18 14:22:44.204360: E external/local_xla/xla/stream_executor/cuda/cuda_fft.cc:467] Unable to register cuFFT factory: Attempting to register factory for plugin cuFFT when one has already been registered\n",
            "\u001b[36m(pid=10844)\u001b[0m WARNING: All log messages before absl::InitializeLog() is called are written to STDERR\n",
            "\u001b[36m(pid=10844)\u001b[0m E0000 00:00:1760797364.261813   10844 cuda_dnn.cc:8579] Unable to register cuDNN factory: Attempting to register factory for plugin cuDNN when one has already been registered\n",
            "\u001b[36m(pid=10844)\u001b[0m E0000 00:00:1760797364.277271   10844 cuda_blas.cc:1407] Unable to register cuBLAS factory: Attempting to register factory for plugin cuBLAS when one has already been registered\n",
            "\u001b[36m(pid=10844)\u001b[0m W0000 00:00:1760797364.316499   10844 computation_placer.cc:177] computation placer already registered. Please check linkage and avoid linking the same target more than once.\n",
            "\u001b[36m(pid=10844)\u001b[0m W0000 00:00:1760797364.316552   10844 computation_placer.cc:177] computation placer already registered. Please check linkage and avoid linking the same target more than once.\n",
            "\u001b[36m(pid=10844)\u001b[0m W0000 00:00:1760797364.316557   10844 computation_placer.cc:177] computation placer already registered. Please check linkage and avoid linking the same target more than once.\n",
            "\u001b[36m(pid=10844)\u001b[0m W0000 00:00:1760797364.316560   10844 computation_placer.cc:177] computation placer already registered. Please check linkage and avoid linking the same target more than once.\n",
            "\u001b[92mINFO \u001b[0m:      Received initial parameters from one random client\n",
            "\u001b[92mINFO \u001b[0m:      Starting evaluation of initial global parameters\n",
            "\u001b[92mINFO \u001b[0m:      Evaluation returned no results (`None`)\n",
            "\u001b[92mINFO \u001b[0m:      \n",
            "\u001b[92mINFO \u001b[0m:      [ROUND 1]\n",
            "\u001b[92mINFO \u001b[0m:      configure_fit: strategy sampled 4 clients (out of 4)\n",
            "\u001b[36m(ClientAppActor pid=10846)\u001b[0m \u001b[93mWARNING \u001b[0m:   DEPRECATED FEATURE: `client_fn` now expects a signature `def client_fn(context: Context)`.The provided `client_fn` has signature: {'cid': <Parameter \"cid: str\">}. You can import the `Context` like this: `from flwr.common import Context`\n",
            "\u001b[36m(ClientAppActor pid=10846)\u001b[0m \n",
            "\u001b[36m(ClientAppActor pid=10846)\u001b[0m             This is a deprecated feature. It will be removed\n",
            "\u001b[36m(ClientAppActor pid=10846)\u001b[0m             entirely in future versions of Flower.\n",
            "\u001b[36m(ClientAppActor pid=10846)\u001b[0m         \n",
            "\u001b[36m(ClientAppActor pid=10846)\u001b[0m \u001b[93mWARNING \u001b[0m:   Deprecation Warning: The `client_fn` function must return an instance of `Client`, but an instance of `NumpyClient` was returned. Please use `NumPyClient.to_client()` method to convert it to `Client`.\n",
            "\u001b[36m(pid=10846)\u001b[0m 2025-10-18 14:22:44.203200: E external/local_xla/xla/stream_executor/cuda/cuda_fft.cc:467] Unable to register cuFFT factory: Attempting to register factory for plugin cuFFT when one has already been registered\n",
            "\u001b[36m(pid=10846)\u001b[0m WARNING: All log messages before absl::InitializeLog() is called are written to STDERR\n",
            "\u001b[36m(pid=10846)\u001b[0m E0000 00:00:1760797364.262950   10846 cuda_dnn.cc:8579] Unable to register cuDNN factory: Attempting to register factory for plugin cuDNN when one has already been registered\n",
            "\u001b[36m(pid=10846)\u001b[0m E0000 00:00:1760797364.279930   10846 cuda_blas.cc:1407] Unable to register cuBLAS factory: Attempting to register factory for plugin cuBLAS when one has already been registered\n",
            "\u001b[36m(pid=10846)\u001b[0m W0000 00:00:1760797364.315367   10846 computation_placer.cc:177] computation placer already registered. Please check linkage and avoid linking the same target more than once.\u001b[32m [repeated 4x across cluster]\u001b[0m\n",
            "\u001b[36m(ClientAppActor pid=10846)\u001b[0m \u001b[93mWARNING \u001b[0m:   DEPRECATED FEATURE: `client_fn` now expects a signature `def client_fn(context: Context)`.The provided `client_fn` has signature: {'cid': <Parameter \"cid: str\">}. You can import the `Context` like this: `from flwr.common import Context`\n",
            "\u001b[36m(ClientAppActor pid=10846)\u001b[0m \n",
            "\u001b[36m(ClientAppActor pid=10846)\u001b[0m             This is a deprecated feature. It will be removed\n",
            "\u001b[36m(ClientAppActor pid=10846)\u001b[0m             entirely in future versions of Flower.\n",
            "\u001b[36m(ClientAppActor pid=10846)\u001b[0m         \n",
            "\u001b[36m(ClientAppActor pid=10846)\u001b[0m \u001b[93mWARNING \u001b[0m:   Deprecation Warning: The `client_fn` function must return an instance of `Client`, but an instance of `NumpyClient` was returned. Please use `NumPyClient.to_client()` method to convert it to `Client`.\n",
            "\u001b[36m(ClientAppActor pid=10844)\u001b[0m \n",
            "\u001b[36m(ClientAppActor pid=10844)\u001b[0m         \n",
            "\u001b[36m(ClientAppActor pid=10844)\u001b[0m \u001b[93mWARNING \u001b[0m:   DEPRECATED FEATURE: `client_fn` now expects a signature `def client_fn(context: Context)`.The provided `client_fn` has signature: {'cid': <Parameter \"cid: str\">}. You can import the `Context` like this: `from flwr.common import Context`\n",
            "\u001b[36m(ClientAppActor pid=10844)\u001b[0m             This is a deprecated feature. It will be removed\n",
            "\u001b[36m(ClientAppActor pid=10844)\u001b[0m             entirely in future versions of Flower.\n",
            "\u001b[36m(ClientAppActor pid=10844)\u001b[0m \u001b[93mWARNING \u001b[0m:   Deprecation Warning: The `client_fn` function must return an instance of `Client`, but an instance of `NumpyClient` was returned. Please use `NumPyClient.to_client()` method to convert it to `Client`.\n",
            "\u001b[36m(ClientAppActor pid=10844)\u001b[0m \u001b[93mWARNING \u001b[0m:   DEPRECATED FEATURE: `client_fn` now expects a signature `def client_fn(context: Context)`.The provided `client_fn` has signature: {'cid': <Parameter \"cid: str\">}. You can import the `Context` like this: `from flwr.common import Context`\n",
            "\u001b[36m(ClientAppActor pid=10844)\u001b[0m \n",
            "\u001b[36m(ClientAppActor pid=10844)\u001b[0m             This is a deprecated feature. It will be removed\n",
            "\u001b[36m(ClientAppActor pid=10844)\u001b[0m             entirely in future versions of Flower.\n",
            "\u001b[36m(ClientAppActor pid=10844)\u001b[0m         \n",
            "\u001b[36m(ClientAppActor pid=10844)\u001b[0m \u001b[93mWARNING \u001b[0m:   Deprecation Warning: The `client_fn` function must return an instance of `Client`, but an instance of `NumpyClient` was returned. Please use `NumPyClient.to_client()` method to convert it to `Client`.\n",
            "\u001b[36m(ClientAppActor pid=10846)\u001b[0m \n",
            "\u001b[36m(ClientAppActor pid=10846)\u001b[0m         \n",
            "\u001b[36m(ClientAppActor pid=10846)\u001b[0m \u001b[93mWARNING \u001b[0m:   DEPRECATED FEATURE: `client_fn` now expects a signature `def client_fn(context: Context)`.The provided `client_fn` has signature: {'cid': <Parameter \"cid: str\">}. You can import the `Context` like this: `from flwr.common import Context`\n",
            "\u001b[36m(ClientAppActor pid=10846)\u001b[0m             This is a deprecated feature. It will be removed\n",
            "\u001b[36m(ClientAppActor pid=10846)\u001b[0m             entirely in future versions of Flower.\n",
            "\u001b[36m(ClientAppActor pid=10846)\u001b[0m \u001b[93mWARNING \u001b[0m:   Deprecation Warning: The `client_fn` function must return an instance of `Client`, but an instance of `NumpyClient` was returned. Please use `NumPyClient.to_client()` method to convert it to `Client`.\n",
            "\u001b[92mINFO \u001b[0m:      aggregate_fit: received 4 results and 0 failures\n",
            "\u001b[93mWARNING \u001b[0m:   No fit_metrics_aggregation_fn provided\n",
            "\u001b[92mINFO \u001b[0m:      configure_evaluate: strategy sampled 4 clients (out of 4)\n"
          ]
        },
        {
          "output_type": "stream",
          "name": "stdout",
          "text": [
            "Saved global model round 1 -> logs/global_model_round1.pth\n"
          ]
        },
        {
          "output_type": "stream",
          "name": "stderr",
          "text": [
            "\u001b[36m(ClientAppActor pid=10844)\u001b[0m \u001b[93mWARNING \u001b[0m:   DEPRECATED FEATURE: `client_fn` now expects a signature `def client_fn(context: Context)`.The provided `client_fn` has signature: {'cid': <Parameter \"cid: str\">}. You can import the `Context` like this: `from flwr.common import Context`\n",
            "\u001b[36m(ClientAppActor pid=10844)\u001b[0m \n",
            "\u001b[36m(ClientAppActor pid=10844)\u001b[0m             This is a deprecated feature. It will be removed\n",
            "\u001b[36m(ClientAppActor pid=10844)\u001b[0m             entirely in future versions of Flower.\n",
            "\u001b[36m(ClientAppActor pid=10844)\u001b[0m         \n",
            "\u001b[36m(ClientAppActor pid=10844)\u001b[0m \u001b[93mWARNING \u001b[0m:   Deprecation Warning: The `client_fn` function must return an instance of `Client`, but an instance of `NumpyClient` was returned. Please use `NumPyClient.to_client()` method to convert it to `Client`.\n",
            "\u001b[36m(ClientAppActor pid=10846)\u001b[0m \n",
            "\u001b[36m(ClientAppActor pid=10846)\u001b[0m         \n",
            "\u001b[36m(ClientAppActor pid=10844)\u001b[0m \n",
            "\u001b[36m(ClientAppActor pid=10844)\u001b[0m         \n",
            "\u001b[36m(ClientAppActor pid=10844)\u001b[0m \u001b[93mWARNING \u001b[0m:   DEPRECATED FEATURE: `client_fn` now expects a signature `def client_fn(context: Context)`.The provided `client_fn` has signature: {'cid': <Parameter \"cid: str\">}. You can import the `Context` like this: `from flwr.common import Context`\u001b[32m [repeated 2x across cluster]\u001b[0m\n",
            "\u001b[36m(ClientAppActor pid=10844)\u001b[0m             This is a deprecated feature. It will be removed\u001b[32m [repeated 2x across cluster]\u001b[0m\n",
            "\u001b[36m(ClientAppActor pid=10844)\u001b[0m             entirely in future versions of Flower.\u001b[32m [repeated 2x across cluster]\u001b[0m\n",
            "\u001b[36m(ClientAppActor pid=10844)\u001b[0m \u001b[93mWARNING \u001b[0m:   Deprecation Warning: The `client_fn` function must return an instance of `Client`, but an instance of `NumpyClient` was returned. Please use `NumPyClient.to_client()` method to convert it to `Client`.\u001b[32m [repeated 2x across cluster]\u001b[0m\n",
            "\u001b[36m(ClientAppActor pid=10846)\u001b[0m \n",
            "\u001b[36m(ClientAppActor pid=10846)\u001b[0m         \n",
            "\u001b[92mINFO \u001b[0m:      aggregate_evaluate: received 4 results and 0 failures\n",
            "\u001b[93mWARNING \u001b[0m:   No evaluate_metrics_aggregation_fn provided\n",
            "\u001b[92mINFO \u001b[0m:      \n",
            "\u001b[92mINFO \u001b[0m:      [ROUND 2]\n",
            "\u001b[92mINFO \u001b[0m:      configure_fit: strategy sampled 4 clients (out of 4)\n",
            "\u001b[36m(ClientAppActor pid=10846)\u001b[0m \n",
            "\u001b[36m(ClientAppActor pid=10846)\u001b[0m         \n",
            "\u001b[36m(ClientAppActor pid=10846)\u001b[0m \u001b[93mWARNING \u001b[0m:   DEPRECATED FEATURE: `client_fn` now expects a signature `def client_fn(context: Context)`.The provided `client_fn` has signature: {'cid': <Parameter \"cid: str\">}. You can import the `Context` like this: `from flwr.common import Context`\u001b[32m [repeated 2x across cluster]\u001b[0m\n",
            "\u001b[36m(ClientAppActor pid=10846)\u001b[0m             This is a deprecated feature. It will be removed\u001b[32m [repeated 2x across cluster]\u001b[0m\n",
            "\u001b[36m(ClientAppActor pid=10846)\u001b[0m             entirely in future versions of Flower.\u001b[32m [repeated 2x across cluster]\u001b[0m\n",
            "\u001b[36m(ClientAppActor pid=10846)\u001b[0m \u001b[93mWARNING \u001b[0m:   Deprecation Warning: The `client_fn` function must return an instance of `Client`, but an instance of `NumpyClient` was returned. Please use `NumPyClient.to_client()` method to convert it to `Client`.\n",
            "\u001b[36m(ClientAppActor pid=10846)\u001b[0m \u001b[93mWARNING \u001b[0m:   Deprecation Warning: The `client_fn` function must return an instance of `Client`, but an instance of `NumpyClient` was returned. Please use `NumPyClient.to_client()` method to convert it to `Client`.\n",
            "\u001b[36m(ClientAppActor pid=10844)\u001b[0m \n",
            "\u001b[36m(ClientAppActor pid=10844)\u001b[0m         \n",
            "\u001b[36m(ClientAppActor pid=10846)\u001b[0m \n",
            "\u001b[36m(ClientAppActor pid=10846)\u001b[0m         \n",
            "\u001b[36m(ClientAppActor pid=10846)\u001b[0m \u001b[93mWARNING \u001b[0m:   DEPRECATED FEATURE: `client_fn` now expects a signature `def client_fn(context: Context)`.The provided `client_fn` has signature: {'cid': <Parameter \"cid: str\">}. You can import the `Context` like this: `from flwr.common import Context`\u001b[32m [repeated 2x across cluster]\u001b[0m\n",
            "\u001b[36m(ClientAppActor pid=10846)\u001b[0m             This is a deprecated feature. It will be removed\u001b[32m [repeated 2x across cluster]\u001b[0m\n",
            "\u001b[36m(ClientAppActor pid=10846)\u001b[0m             entirely in future versions of Flower.\u001b[32m [repeated 2x across cluster]\u001b[0m\n",
            "\u001b[36m(ClientAppActor pid=10846)\u001b[0m \u001b[93mWARNING \u001b[0m:   Deprecation Warning: The `client_fn` function must return an instance of `Client`, but an instance of `NumpyClient` was returned. Please use `NumPyClient.to_client()` method to convert it to `Client`.\u001b[32m [repeated 2x across cluster]\u001b[0m\n",
            "\u001b[36m(ClientAppActor pid=10844)\u001b[0m \n",
            "\u001b[36m(ClientAppActor pid=10844)\u001b[0m         \n",
            "\u001b[36m(ClientAppActor pid=10844)\u001b[0m \u001b[93mWARNING \u001b[0m:   DEPRECATED FEATURE: `client_fn` now expects a signature `def client_fn(context: Context)`.The provided `client_fn` has signature: {'cid': <Parameter \"cid: str\">}. You can import the `Context` like this: `from flwr.common import Context`\n",
            "\u001b[36m(ClientAppActor pid=10844)\u001b[0m             This is a deprecated feature. It will be removed\n",
            "\u001b[36m(ClientAppActor pid=10844)\u001b[0m             entirely in future versions of Flower.\n",
            "\u001b[36m(ClientAppActor pid=10844)\u001b[0m \u001b[93mWARNING \u001b[0m:   Deprecation Warning: The `client_fn` function must return an instance of `Client`, but an instance of `NumpyClient` was returned. Please use `NumPyClient.to_client()` method to convert it to `Client`.\n",
            "\u001b[92mINFO \u001b[0m:      aggregate_fit: received 4 results and 0 failures\n",
            "\u001b[92mINFO \u001b[0m:      configure_evaluate: strategy sampled 4 clients (out of 4)\n"
          ]
        },
        {
          "output_type": "stream",
          "name": "stdout",
          "text": [
            "Saved global model round 2 -> logs/global_model_round2.pth\n"
          ]
        },
        {
          "output_type": "stream",
          "name": "stderr",
          "text": [
            "\u001b[36m(ClientAppActor pid=10846)\u001b[0m \u001b[93mWARNING \u001b[0m:   DEPRECATED FEATURE: `client_fn` now expects a signature `def client_fn(context: Context)`.The provided `client_fn` has signature: {'cid': <Parameter \"cid: str\">}. You can import the `Context` like this: `from flwr.common import Context`\n",
            "\u001b[36m(ClientAppActor pid=10846)\u001b[0m \n",
            "\u001b[36m(ClientAppActor pid=10846)\u001b[0m             This is a deprecated feature. It will be removed\n",
            "\u001b[36m(ClientAppActor pid=10846)\u001b[0m             entirely in future versions of Flower.\n",
            "\u001b[36m(ClientAppActor pid=10846)\u001b[0m         \n",
            "\u001b[36m(ClientAppActor pid=10846)\u001b[0m \u001b[93mWARNING \u001b[0m:   Deprecation Warning: The `client_fn` function must return an instance of `Client`, but an instance of `NumpyClient` was returned. Please use `NumPyClient.to_client()` method to convert it to `Client`.\n",
            "\u001b[36m(ClientAppActor pid=10844)\u001b[0m \n",
            "\u001b[36m(ClientAppActor pid=10844)\u001b[0m         \n",
            "\u001b[36m(ClientAppActor pid=10846)\u001b[0m \n",
            "\u001b[36m(ClientAppActor pid=10846)\u001b[0m         \n",
            "\u001b[36m(ClientAppActor pid=10846)\u001b[0m \u001b[93mWARNING \u001b[0m:   DEPRECATED FEATURE: `client_fn` now expects a signature `def client_fn(context: Context)`.The provided `client_fn` has signature: {'cid': <Parameter \"cid: str\">}. You can import the `Context` like this: `from flwr.common import Context`\u001b[32m [repeated 2x across cluster]\u001b[0m\n",
            "\u001b[36m(ClientAppActor pid=10846)\u001b[0m             This is a deprecated feature. It will be removed\u001b[32m [repeated 2x across cluster]\u001b[0m\n",
            "\u001b[36m(ClientAppActor pid=10846)\u001b[0m             entirely in future versions of Flower.\u001b[32m [repeated 2x across cluster]\u001b[0m\n",
            "\u001b[36m(ClientAppActor pid=10846)\u001b[0m \u001b[93mWARNING \u001b[0m:   Deprecation Warning: The `client_fn` function must return an instance of `Client`, but an instance of `NumpyClient` was returned. Please use `NumPyClient.to_client()` method to convert it to `Client`.\u001b[32m [repeated 2x across cluster]\u001b[0m\n",
            "\u001b[36m(ClientAppActor pid=10844)\u001b[0m \n",
            "\u001b[36m(ClientAppActor pid=10844)\u001b[0m         \n",
            "\u001b[92mINFO \u001b[0m:      aggregate_evaluate: received 4 results and 0 failures\n",
            "\u001b[92mINFO \u001b[0m:      \n",
            "\u001b[92mINFO \u001b[0m:      [ROUND 3]\n",
            "\u001b[92mINFO \u001b[0m:      configure_fit: strategy sampled 4 clients (out of 4)\n",
            "\u001b[36m(ClientAppActor pid=10844)\u001b[0m \n",
            "\u001b[36m(ClientAppActor pid=10844)\u001b[0m         \n",
            "\u001b[36m(ClientAppActor pid=10844)\u001b[0m \u001b[93mWARNING \u001b[0m:   DEPRECATED FEATURE: `client_fn` now expects a signature `def client_fn(context: Context)`.The provided `client_fn` has signature: {'cid': <Parameter \"cid: str\">}. You can import the `Context` like this: `from flwr.common import Context`\u001b[32m [repeated 2x across cluster]\u001b[0m\n",
            "\u001b[36m(ClientAppActor pid=10844)\u001b[0m             This is a deprecated feature. It will be removed\u001b[32m [repeated 2x across cluster]\u001b[0m\n",
            "\u001b[36m(ClientAppActor pid=10844)\u001b[0m             entirely in future versions of Flower.\u001b[32m [repeated 2x across cluster]\u001b[0m\n",
            "\u001b[36m(ClientAppActor pid=10844)\u001b[0m \u001b[93mWARNING \u001b[0m:   Deprecation Warning: The `client_fn` function must return an instance of `Client`, but an instance of `NumpyClient` was returned. Please use `NumPyClient.to_client()` method to convert it to `Client`.\u001b[32m [repeated 2x across cluster]\u001b[0m\n",
            "\u001b[36m(ClientAppActor pid=10846)\u001b[0m \n",
            "\u001b[36m(ClientAppActor pid=10846)\u001b[0m         \n",
            "\u001b[36m(ClientAppActor pid=10844)\u001b[0m \n",
            "\u001b[36m(ClientAppActor pid=10844)\u001b[0m         \n",
            "\u001b[36m(ClientAppActor pid=10844)\u001b[0m \u001b[93mWARNING \u001b[0m:   DEPRECATED FEATURE: `client_fn` now expects a signature `def client_fn(context: Context)`.The provided `client_fn` has signature: {'cid': <Parameter \"cid: str\">}. You can import the `Context` like this: `from flwr.common import Context`\u001b[32m [repeated 2x across cluster]\u001b[0m\n",
            "\u001b[36m(ClientAppActor pid=10844)\u001b[0m             This is a deprecated feature. It will be removed\u001b[32m [repeated 2x across cluster]\u001b[0m\n",
            "\u001b[36m(ClientAppActor pid=10844)\u001b[0m             entirely in future versions of Flower.\u001b[32m [repeated 2x across cluster]\u001b[0m\n",
            "\u001b[36m(ClientAppActor pid=10844)\u001b[0m \u001b[93mWARNING \u001b[0m:   Deprecation Warning: The `client_fn` function must return an instance of `Client`, but an instance of `NumpyClient` was returned. Please use `NumPyClient.to_client()` method to convert it to `Client`.\u001b[32m [repeated 2x across cluster]\u001b[0m\n",
            "\u001b[36m(ClientAppActor pid=10846)\u001b[0m \n",
            "\u001b[36m(ClientAppActor pid=10846)\u001b[0m         \n",
            "\u001b[92mINFO \u001b[0m:      aggregate_fit: received 4 results and 0 failures\n",
            "\u001b[92mINFO \u001b[0m:      configure_evaluate: strategy sampled 4 clients (out of 4)\n"
          ]
        },
        {
          "output_type": "stream",
          "name": "stdout",
          "text": [
            "Saved global model round 3 -> logs/global_model_round3.pth\n"
          ]
        },
        {
          "output_type": "stream",
          "name": "stderr",
          "text": [
            "\u001b[36m(ClientAppActor pid=10846)\u001b[0m \n",
            "\u001b[36m(ClientAppActor pid=10846)\u001b[0m         \n",
            "\u001b[36m(ClientAppActor pid=10846)\u001b[0m \u001b[93mWARNING \u001b[0m:   DEPRECATED FEATURE: `client_fn` now expects a signature `def client_fn(context: Context)`.The provided `client_fn` has signature: {'cid': <Parameter \"cid: str\">}. You can import the `Context` like this: `from flwr.common import Context`\u001b[32m [repeated 2x across cluster]\u001b[0m\n",
            "\u001b[36m(ClientAppActor pid=10846)\u001b[0m             This is a deprecated feature. It will be removed\u001b[32m [repeated 2x across cluster]\u001b[0m\n",
            "\u001b[36m(ClientAppActor pid=10846)\u001b[0m             entirely in future versions of Flower.\u001b[32m [repeated 2x across cluster]\u001b[0m\n",
            "\u001b[36m(ClientAppActor pid=10846)\u001b[0m \u001b[93mWARNING \u001b[0m:   Deprecation Warning: The `client_fn` function must return an instance of `Client`, but an instance of `NumpyClient` was returned. Please use `NumPyClient.to_client()` method to convert it to `Client`.\u001b[32m [repeated 2x across cluster]\u001b[0m\n",
            "\u001b[36m(ClientAppActor pid=10844)\u001b[0m \n",
            "\u001b[36m(ClientAppActor pid=10844)\u001b[0m         \n",
            "\u001b[36m(ClientAppActor pid=10846)\u001b[0m \n",
            "\u001b[36m(ClientAppActor pid=10846)\u001b[0m         \n",
            "\u001b[36m(ClientAppActor pid=10846)\u001b[0m \u001b[93mWARNING \u001b[0m:   DEPRECATED FEATURE: `client_fn` now expects a signature `def client_fn(context: Context)`.The provided `client_fn` has signature: {'cid': <Parameter \"cid: str\">}. You can import the `Context` like this: `from flwr.common import Context`\u001b[32m [repeated 2x across cluster]\u001b[0m\n",
            "\u001b[36m(ClientAppActor pid=10846)\u001b[0m             This is a deprecated feature. It will be removed\u001b[32m [repeated 2x across cluster]\u001b[0m\n",
            "\u001b[36m(ClientAppActor pid=10846)\u001b[0m             entirely in future versions of Flower.\u001b[32m [repeated 2x across cluster]\u001b[0m\n",
            "\u001b[36m(ClientAppActor pid=10846)\u001b[0m \u001b[93mWARNING \u001b[0m:   Deprecation Warning: The `client_fn` function must return an instance of `Client`, but an instance of `NumpyClient` was returned. Please use `NumPyClient.to_client()` method to convert it to `Client`.\u001b[32m [repeated 2x across cluster]\u001b[0m\n",
            "\u001b[36m(ClientAppActor pid=10844)\u001b[0m \n",
            "\u001b[36m(ClientAppActor pid=10844)\u001b[0m         \n",
            "\u001b[92mINFO \u001b[0m:      aggregate_evaluate: received 4 results and 0 failures\n",
            "\u001b[92mINFO \u001b[0m:      \n",
            "\u001b[92mINFO \u001b[0m:      [ROUND 4]\n",
            "\u001b[92mINFO \u001b[0m:      configure_fit: strategy sampled 4 clients (out of 4)\n",
            "\u001b[36m(ClientAppActor pid=10846)\u001b[0m \n",
            "\u001b[36m(ClientAppActor pid=10846)\u001b[0m         \n",
            "\u001b[36m(ClientAppActor pid=10846)\u001b[0m \u001b[93mWARNING \u001b[0m:   DEPRECATED FEATURE: `client_fn` now expects a signature `def client_fn(context: Context)`.The provided `client_fn` has signature: {'cid': <Parameter \"cid: str\">}. You can import the `Context` like this: `from flwr.common import Context`\u001b[32m [repeated 2x across cluster]\u001b[0m\n",
            "\u001b[36m(ClientAppActor pid=10846)\u001b[0m             This is a deprecated feature. It will be removed\u001b[32m [repeated 2x across cluster]\u001b[0m\n",
            "\u001b[36m(ClientAppActor pid=10846)\u001b[0m             entirely in future versions of Flower.\u001b[32m [repeated 2x across cluster]\u001b[0m\n",
            "\u001b[36m(ClientAppActor pid=10846)\u001b[0m \u001b[93mWARNING \u001b[0m:   Deprecation Warning: The `client_fn` function must return an instance of `Client`, but an instance of `NumpyClient` was returned. Please use `NumPyClient.to_client()` method to convert it to `Client`.\u001b[32m [repeated 2x across cluster]\u001b[0m\n",
            "\u001b[36m(ClientAppActor pid=10844)\u001b[0m \n",
            "\u001b[36m(ClientAppActor pid=10844)\u001b[0m         \n",
            "\u001b[36m(ClientAppActor pid=10846)\u001b[0m \n",
            "\u001b[36m(ClientAppActor pid=10846)\u001b[0m         \n",
            "\u001b[36m(ClientAppActor pid=10846)\u001b[0m \u001b[93mWARNING \u001b[0m:   DEPRECATED FEATURE: `client_fn` now expects a signature `def client_fn(context: Context)`.The provided `client_fn` has signature: {'cid': <Parameter \"cid: str\">}. You can import the `Context` like this: `from flwr.common import Context`\u001b[32m [repeated 2x across cluster]\u001b[0m\n",
            "\u001b[36m(ClientAppActor pid=10846)\u001b[0m             This is a deprecated feature. It will be removed\u001b[32m [repeated 2x across cluster]\u001b[0m\n",
            "\u001b[36m(ClientAppActor pid=10846)\u001b[0m             entirely in future versions of Flower.\u001b[32m [repeated 2x across cluster]\u001b[0m\n",
            "\u001b[36m(ClientAppActor pid=10846)\u001b[0m \u001b[93mWARNING \u001b[0m:   Deprecation Warning: The `client_fn` function must return an instance of `Client`, but an instance of `NumpyClient` was returned. Please use `NumPyClient.to_client()` method to convert it to `Client`.\u001b[32m [repeated 2x across cluster]\u001b[0m\n",
            "\u001b[36m(ClientAppActor pid=10844)\u001b[0m \n",
            "\u001b[36m(ClientAppActor pid=10844)\u001b[0m         \n",
            "\u001b[36m(ClientAppActor pid=10844)\u001b[0m \u001b[93mWARNING \u001b[0m:   DEPRECATED FEATURE: `client_fn` now expects a signature `def client_fn(context: Context)`.The provided `client_fn` has signature: {'cid': <Parameter \"cid: str\">}. You can import the `Context` like this: `from flwr.common import Context`\n",
            "\u001b[36m(ClientAppActor pid=10844)\u001b[0m             This is a deprecated feature. It will be removed\n",
            "\u001b[36m(ClientAppActor pid=10844)\u001b[0m             entirely in future versions of Flower.\n",
            "\u001b[36m(ClientAppActor pid=10844)\u001b[0m \u001b[93mWARNING \u001b[0m:   Deprecation Warning: The `client_fn` function must return an instance of `Client`, but an instance of `NumpyClient` was returned. Please use `NumPyClient.to_client()` method to convert it to `Client`.\n",
            "\u001b[92mINFO \u001b[0m:      aggregate_fit: received 4 results and 0 failures\n",
            "\u001b[92mINFO \u001b[0m:      configure_evaluate: strategy sampled 4 clients (out of 4)\n"
          ]
        },
        {
          "output_type": "stream",
          "name": "stdout",
          "text": [
            "Saved global model round 4 -> logs/global_model_round4.pth\n"
          ]
        },
        {
          "output_type": "stream",
          "name": "stderr",
          "text": [
            "\u001b[36m(ClientAppActor pid=10844)\u001b[0m \u001b[93mWARNING \u001b[0m:   DEPRECATED FEATURE: `client_fn` now expects a signature `def client_fn(context: Context)`.The provided `client_fn` has signature: {'cid': <Parameter \"cid: str\">}. You can import the `Context` like this: `from flwr.common import Context`\n",
            "\u001b[36m(ClientAppActor pid=10844)\u001b[0m \n",
            "\u001b[36m(ClientAppActor pid=10844)\u001b[0m             This is a deprecated feature. It will be removed\n",
            "\u001b[36m(ClientAppActor pid=10844)\u001b[0m             entirely in future versions of Flower.\n",
            "\u001b[36m(ClientAppActor pid=10844)\u001b[0m         \n",
            "\u001b[36m(ClientAppActor pid=10844)\u001b[0m \u001b[93mWARNING \u001b[0m:   Deprecation Warning: The `client_fn` function must return an instance of `Client`, but an instance of `NumpyClient` was returned. Please use `NumPyClient.to_client()` method to convert it to `Client`.\n",
            "\u001b[36m(ClientAppActor pid=10846)\u001b[0m \n",
            "\u001b[36m(ClientAppActor pid=10846)\u001b[0m         \n",
            "\u001b[36m(ClientAppActor pid=10844)\u001b[0m \n",
            "\u001b[36m(ClientAppActor pid=10844)\u001b[0m         \n",
            "\u001b[36m(ClientAppActor pid=10844)\u001b[0m \u001b[93mWARNING \u001b[0m:   DEPRECATED FEATURE: `client_fn` now expects a signature `def client_fn(context: Context)`.The provided `client_fn` has signature: {'cid': <Parameter \"cid: str\">}. You can import the `Context` like this: `from flwr.common import Context`\u001b[32m [repeated 2x across cluster]\u001b[0m\n",
            "\u001b[36m(ClientAppActor pid=10844)\u001b[0m             This is a deprecated feature. It will be removed\u001b[32m [repeated 2x across cluster]\u001b[0m\n",
            "\u001b[36m(ClientAppActor pid=10844)\u001b[0m             entirely in future versions of Flower.\u001b[32m [repeated 2x across cluster]\u001b[0m\n",
            "\u001b[36m(ClientAppActor pid=10844)\u001b[0m \u001b[93mWARNING \u001b[0m:   Deprecation Warning: The `client_fn` function must return an instance of `Client`, but an instance of `NumpyClient` was returned. Please use `NumPyClient.to_client()` method to convert it to `Client`.\u001b[32m [repeated 2x across cluster]\u001b[0m\n",
            "\u001b[36m(ClientAppActor pid=10846)\u001b[0m \n",
            "\u001b[36m(ClientAppActor pid=10846)\u001b[0m         \n",
            "\u001b[92mINFO \u001b[0m:      aggregate_evaluate: received 4 results and 0 failures\n",
            "\u001b[92mINFO \u001b[0m:      \n",
            "\u001b[92mINFO \u001b[0m:      [ROUND 5]\n",
            "\u001b[92mINFO \u001b[0m:      configure_fit: strategy sampled 4 clients (out of 4)\n",
            "\u001b[36m(ClientAppActor pid=10846)\u001b[0m \n",
            "\u001b[36m(ClientAppActor pid=10846)\u001b[0m         \n",
            "\u001b[36m(ClientAppActor pid=10846)\u001b[0m \u001b[93mWARNING \u001b[0m:   DEPRECATED FEATURE: `client_fn` now expects a signature `def client_fn(context: Context)`.The provided `client_fn` has signature: {'cid': <Parameter \"cid: str\">}. You can import the `Context` like this: `from flwr.common import Context`\u001b[32m [repeated 2x across cluster]\u001b[0m\n",
            "\u001b[36m(ClientAppActor pid=10846)\u001b[0m             This is a deprecated feature. It will be removed\u001b[32m [repeated 2x across cluster]\u001b[0m\n",
            "\u001b[36m(ClientAppActor pid=10846)\u001b[0m             entirely in future versions of Flower.\u001b[32m [repeated 2x across cluster]\u001b[0m\n",
            "\u001b[36m(ClientAppActor pid=10846)\u001b[0m \u001b[93mWARNING \u001b[0m:   Deprecation Warning: The `client_fn` function must return an instance of `Client`, but an instance of `NumpyClient` was returned. Please use `NumPyClient.to_client()` method to convert it to `Client`.\u001b[32m [repeated 2x across cluster]\u001b[0m\n",
            "\u001b[36m(ClientAppActor pid=10844)\u001b[0m \n",
            "\u001b[36m(ClientAppActor pid=10844)\u001b[0m         \n",
            "\u001b[36m(ClientAppActor pid=10846)\u001b[0m \n",
            "\u001b[36m(ClientAppActor pid=10846)\u001b[0m         \n",
            "\u001b[36m(ClientAppActor pid=10846)\u001b[0m \u001b[93mWARNING \u001b[0m:   DEPRECATED FEATURE: `client_fn` now expects a signature `def client_fn(context: Context)`.The provided `client_fn` has signature: {'cid': <Parameter \"cid: str\">}. You can import the `Context` like this: `from flwr.common import Context`\u001b[32m [repeated 2x across cluster]\u001b[0m\n",
            "\u001b[36m(ClientAppActor pid=10846)\u001b[0m             This is a deprecated feature. It will be removed\u001b[32m [repeated 2x across cluster]\u001b[0m\n",
            "\u001b[36m(ClientAppActor pid=10846)\u001b[0m             entirely in future versions of Flower.\u001b[32m [repeated 2x across cluster]\u001b[0m\n",
            "\u001b[36m(ClientAppActor pid=10846)\u001b[0m \u001b[93mWARNING \u001b[0m:   Deprecation Warning: The `client_fn` function must return an instance of `Client`, but an instance of `NumpyClient` was returned. Please use `NumPyClient.to_client()` method to convert it to `Client`.\u001b[32m [repeated 2x across cluster]\u001b[0m\n",
            "\u001b[36m(ClientAppActor pid=10844)\u001b[0m \n",
            "\u001b[36m(ClientAppActor pid=10844)\u001b[0m         \n",
            "\u001b[36m(ClientAppActor pid=10844)\u001b[0m \u001b[93mWARNING \u001b[0m:   DEPRECATED FEATURE: `client_fn` now expects a signature `def client_fn(context: Context)`.The provided `client_fn` has signature: {'cid': <Parameter \"cid: str\">}. You can import the `Context` like this: `from flwr.common import Context`\n",
            "\u001b[36m(ClientAppActor pid=10844)\u001b[0m             This is a deprecated feature. It will be removed\n",
            "\u001b[36m(ClientAppActor pid=10844)\u001b[0m             entirely in future versions of Flower.\n",
            "\u001b[36m(ClientAppActor pid=10844)\u001b[0m \u001b[93mWARNING \u001b[0m:   Deprecation Warning: The `client_fn` function must return an instance of `Client`, but an instance of `NumpyClient` was returned. Please use `NumPyClient.to_client()` method to convert it to `Client`.\n",
            "\u001b[92mINFO \u001b[0m:      aggregate_fit: received 4 results and 0 failures\n",
            "\u001b[92mINFO \u001b[0m:      configure_evaluate: strategy sampled 4 clients (out of 4)\n"
          ]
        },
        {
          "output_type": "stream",
          "name": "stdout",
          "text": [
            "Saved global model round 5 -> logs/global_model_round5.pth\n"
          ]
        },
        {
          "output_type": "stream",
          "name": "stderr",
          "text": [
            "\u001b[36m(ClientAppActor pid=10844)\u001b[0m \u001b[93mWARNING \u001b[0m:   DEPRECATED FEATURE: `client_fn` now expects a signature `def client_fn(context: Context)`.The provided `client_fn` has signature: {'cid': <Parameter \"cid: str\">}. You can import the `Context` like this: `from flwr.common import Context`\n",
            "\u001b[36m(ClientAppActor pid=10844)\u001b[0m \n",
            "\u001b[36m(ClientAppActor pid=10844)\u001b[0m             This is a deprecated feature. It will be removed\n",
            "\u001b[36m(ClientAppActor pid=10844)\u001b[0m             entirely in future versions of Flower.\n",
            "\u001b[36m(ClientAppActor pid=10844)\u001b[0m         \n",
            "\u001b[36m(ClientAppActor pid=10844)\u001b[0m \u001b[93mWARNING \u001b[0m:   Deprecation Warning: The `client_fn` function must return an instance of `Client`, but an instance of `NumpyClient` was returned. Please use `NumPyClient.to_client()` method to convert it to `Client`.\n",
            "\u001b[36m(ClientAppActor pid=10846)\u001b[0m \n",
            "\u001b[36m(ClientAppActor pid=10846)\u001b[0m         \n",
            "\u001b[36m(ClientAppActor pid=10844)\u001b[0m \n",
            "\u001b[36m(ClientAppActor pid=10844)\u001b[0m         \n",
            "\u001b[36m(ClientAppActor pid=10844)\u001b[0m \u001b[93mWARNING \u001b[0m:   DEPRECATED FEATURE: `client_fn` now expects a signature `def client_fn(context: Context)`.The provided `client_fn` has signature: {'cid': <Parameter \"cid: str\">}. You can import the `Context` like this: `from flwr.common import Context`\u001b[32m [repeated 2x across cluster]\u001b[0m\n",
            "\u001b[36m(ClientAppActor pid=10844)\u001b[0m             This is a deprecated feature. It will be removed\u001b[32m [repeated 2x across cluster]\u001b[0m\n",
            "\u001b[36m(ClientAppActor pid=10844)\u001b[0m             entirely in future versions of Flower.\u001b[32m [repeated 2x across cluster]\u001b[0m\n",
            "\u001b[36m(ClientAppActor pid=10844)\u001b[0m \u001b[93mWARNING \u001b[0m:   Deprecation Warning: The `client_fn` function must return an instance of `Client`, but an instance of `NumpyClient` was returned. Please use `NumPyClient.to_client()` method to convert it to `Client`.\u001b[32m [repeated 2x across cluster]\u001b[0m\n",
            "\u001b[36m(ClientAppActor pid=10846)\u001b[0m \n",
            "\u001b[36m(ClientAppActor pid=10846)\u001b[0m         \n",
            "\u001b[92mINFO \u001b[0m:      aggregate_evaluate: received 4 results and 0 failures\n",
            "\u001b[92mINFO \u001b[0m:      \n",
            "\u001b[92mINFO \u001b[0m:      [SUMMARY]\n",
            "\u001b[92mINFO \u001b[0m:      Run finished 5 round(s) in 764.39s\n",
            "\u001b[92mINFO \u001b[0m:      \tHistory (loss, distributed):\n",
            "\u001b[92mINFO \u001b[0m:      \t\tround 1: 0.3983822073844551\n",
            "\u001b[92mINFO \u001b[0m:      \t\tround 2: 0.38857210298335043\n",
            "\u001b[92mINFO \u001b[0m:      \t\tround 3: 0.35619061195151525\n",
            "\u001b[92mINFO \u001b[0m:      \t\tround 4: 0.34208457718328333\n",
            "\u001b[92mINFO \u001b[0m:      \t\tround 5: 0.365391352725906\n",
            "\u001b[92mINFO \u001b[0m:      \n"
          ]
        },
        {
          "output_type": "execute_result",
          "data": {
            "text/plain": [
              "History (loss, distributed):\n",
              "\tround 1: 0.3983822073844551\n",
              "\tround 2: 0.38857210298335043\n",
              "\tround 3: 0.35619061195151525\n",
              "\tround 4: 0.34208457718328333\n",
              "\tround 5: 0.365391352725906"
            ]
          },
          "metadata": {},
          "execution_count": 30
        },
        {
          "output_type": "stream",
          "name": "stderr",
          "text": [
            "/usr/local/lib/python3.12/dist-packages/jupyter_client/session.py:203: DeprecationWarning: datetime.datetime.utcnow() is deprecated and scheduled for removal in a future version. Use timezone-aware objects to represent datetimes in UTC: datetime.datetime.now(datetime.UTC).\n",
            "  return datetime.utcnow().replace(tzinfo=utc)\n"
          ]
        }
      ]
    },
    {
      "cell_type": "code",
      "source": [
        "# -----------------------\n",
        "# Load & evaluate final global model\n",
        "# -----------------------\n",
        "final_model_path = os.path.join(LOG_DIR, f\"global_model_round{NUM_ROUNDS}.pth\")\n",
        "if not os.path.exists(final_model_path):\n",
        "    candidates = sorted([f for f in os.listdir(LOG_DIR) if f.startswith(\"global_model_round\")])\n",
        "    if candidates:\n",
        "        final_model_path = os.path.join(LOG_DIR, candidates[-1])\n",
        "        print(\"Using saved model:\", final_model_path)\n",
        "    else:\n",
        "        raise FileNotFoundError(\"No saved global model found in logs.\")\n",
        "\n",
        "final_state = torch.load(final_model_path)\n",
        "global_model = SepsisNet()\n",
        "global_model.load_state_dict(final_state)\n",
        "global_model.to(DEVICE).eval()\n",
        "\n",
        "all_labels, all_preds, all_probs = [], [], []\n",
        "with torch.no_grad():\n",
        "    for Xb, yb in test_loader:\n",
        "        Xb, yb = Xb.to(DEVICE), yb.to(DEVICE)\n",
        "        out = global_model(Xb)\n",
        "        probs = torch.softmax(out, dim=1)[:, 1].cpu().numpy()\n",
        "        preds = (probs >= 0.5).astype(int)\n",
        "        all_labels.extend(yb.cpu().numpy())\n",
        "        all_preds.extend(preds)\n",
        "        all_probs.extend(probs)\n",
        "\n",
        "print(\"Classification Report:\")\n",
        "print(classification_report(all_labels, all_preds, digits=4))\n",
        "fpr, tpr, thr = roc_curve(all_labels, all_probs)\n",
        "roc_auc = auc(fpr, tpr)\n",
        "print(f\"AUC: {roc_auc:.4f}\")\n",
        "\n",
        "plt.figure()\n",
        "plt.plot(fpr, tpr, lw=2, label=f'ROC (AUC = {roc_auc:.3f})')\n",
        "plt.plot([0,1],[0,1], lw=2, linestyle='--')\n",
        "plt.xlabel(\"False Positive Rate\")\n",
        "plt.ylabel(\"True Positive Rate\")\n",
        "plt.title(\"ROC - Global Model\")\n",
        "plt.legend()\n",
        "plt.show()"
      ],
      "metadata": {
        "colab": {
          "base_uri": "https://localhost:8080/",
          "height": 1000
        },
        "id": "DaG3Vu7Clb6i",
        "outputId": "4370e767-7381-427c-c453-7513918e3694"
      },
      "execution_count": 31,
      "outputs": [
        {
          "output_type": "stream",
          "name": "stdout",
          "text": [
            "Classification Report:\n"
          ]
        },
        {
          "output_type": "stream",
          "name": "stderr",
          "text": [
            "/usr/local/lib/python3.12/dist-packages/jupyter_client/session.py:203: DeprecationWarning: datetime.datetime.utcnow() is deprecated and scheduled for removal in a future version. Use timezone-aware objects to represent datetimes in UTC: datetime.datetime.now(datetime.UTC).\n",
            "  return datetime.utcnow().replace(tzinfo=utc)\n",
            "/usr/local/lib/python3.12/dist-packages/jupyter_client/session.py:203: DeprecationWarning: datetime.datetime.utcnow() is deprecated and scheduled for removal in a future version. Use timezone-aware objects to represent datetimes in UTC: datetime.datetime.now(datetime.UTC).\n",
            "  return datetime.utcnow().replace(tzinfo=utc)\n",
            "/usr/local/lib/python3.12/dist-packages/jupyter_client/session.py:203: DeprecationWarning: datetime.datetime.utcnow() is deprecated and scheduled for removal in a future version. Use timezone-aware objects to represent datetimes in UTC: datetime.datetime.now(datetime.UTC).\n",
            "  return datetime.utcnow().replace(tzinfo=utc)\n",
            "/usr/local/lib/python3.12/dist-packages/jupyter_client/session.py:203: DeprecationWarning: datetime.datetime.utcnow() is deprecated and scheduled for removal in a future version. Use timezone-aware objects to represent datetimes in UTC: datetime.datetime.now(datetime.UTC).\n",
            "  return datetime.utcnow().replace(tzinfo=utc)\n"
          ]
        },
        {
          "output_type": "stream",
          "name": "stdout",
          "text": [
            "              precision    recall  f1-score   support\n",
            "\n",
            "           0     0.9869    0.9889    0.9879    751215\n",
            "           1     0.0999    0.0861    0.0925     10780\n",
            "\n",
            "    accuracy                         0.9761    761995\n",
            "   macro avg     0.5434    0.5375    0.5402    761995\n",
            "weighted avg     0.9744    0.9761    0.9752    761995\n",
            "\n"
          ]
        },
        {
          "output_type": "stream",
          "name": "stderr",
          "text": [
            "/usr/local/lib/python3.12/dist-packages/jupyter_client/session.py:203: DeprecationWarning: datetime.datetime.utcnow() is deprecated and scheduled for removal in a future version. Use timezone-aware objects to represent datetimes in UTC: datetime.datetime.now(datetime.UTC).\n",
            "  return datetime.utcnow().replace(tzinfo=utc)\n",
            "/usr/local/lib/python3.12/dist-packages/jupyter_client/session.py:203: DeprecationWarning: datetime.datetime.utcnow() is deprecated and scheduled for removal in a future version. Use timezone-aware objects to represent datetimes in UTC: datetime.datetime.now(datetime.UTC).\n",
            "  return datetime.utcnow().replace(tzinfo=utc)\n",
            "/usr/local/lib/python3.12/dist-packages/jupyter_client/session.py:203: DeprecationWarning: datetime.datetime.utcnow() is deprecated and scheduled for removal in a future version. Use timezone-aware objects to represent datetimes in UTC: datetime.datetime.now(datetime.UTC).\n",
            "  return datetime.utcnow().replace(tzinfo=utc)\n",
            "/usr/local/lib/python3.12/dist-packages/jupyter_client/session.py:203: DeprecationWarning: datetime.datetime.utcnow() is deprecated and scheduled for removal in a future version. Use timezone-aware objects to represent datetimes in UTC: datetime.datetime.now(datetime.UTC).\n",
            "  return datetime.utcnow().replace(tzinfo=utc)\n"
          ]
        },
        {
          "output_type": "stream",
          "name": "stdout",
          "text": [
            "AUC: 0.7132\n"
          ]
        },
        {
          "output_type": "stream",
          "name": "stderr",
          "text": [
            "/usr/local/lib/python3.12/dist-packages/jupyter_client/session.py:203: DeprecationWarning: datetime.datetime.utcnow() is deprecated and scheduled for removal in a future version. Use timezone-aware objects to represent datetimes in UTC: datetime.datetime.now(datetime.UTC).\n",
            "  return datetime.utcnow().replace(tzinfo=utc)\n"
          ]
        },
        {
          "output_type": "display_data",
          "data": {
            "text/plain": [
              "<Figure size 640x480 with 1 Axes>"
            ],
            "image/png": "[encoded data removed]"
          },
          "metadata": {}
        }
      ]
    }
  ]
}
